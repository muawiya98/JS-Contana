{
 "cells": [
  {
   "cell_type": "markdown",
   "metadata": {},
   "source": [
    "# Import Libraries"
   ]
  },
  {
   "cell_type": "code",
   "execution_count": 45,
   "metadata": {},
   "outputs": [],
   "source": [
    "from keras.layers import Embedding, LSTM, Dense, Bidirectional, Dropout, Conv1D, GlobalMaxPooling1D\n",
    "from sklearn.metrics import accuracy_score, precision_score, recall_score, f1_score\n",
    "from sklearn.metrics import classification_report , confusion_matrix\n",
    "from keras.callbacks import ModelCheckpoint, EarlyStopping,Callback\n",
    "from tensorflow.keras.preprocessing.sequence import pad_sequences\n",
    "from sklearn.feature_extraction.text import CountVectorizer\n",
    "from keras.layers import Activation, Dense, Reshape, Input\n",
    "from sklearn.model_selection import train_test_split\n",
    "from keras.models import Sequential, load_model\n",
    "from keras.preprocessing.text import Tokenizer\n",
    "from keras.models import Model , clone_model\n",
    "from keras.losses import BinaryCrossentropy\n",
    "from keras.backend import clear_session\n",
    "from keras.initializers import Constant\n",
    "from nltk.tokenize import word_tokenize\n",
    "from threading import current_thread\n",
    "from keras.utils import plot_model\n",
    "from sklearn.utils import shuffle\n",
    "from keras.optimizers import Adam\n",
    "from keras.utils import Sequence\n",
    "import matplotlib.pyplot as plt\n",
    "from tqdm.notebook import tqdm\n",
    "from keras import backend as K\n",
    "from functools import partial\n",
    "from numpy import asarray\n",
    "import concurrent.futures\n",
    "from keras import layers\n",
    "from keras import Model\n",
    "from numpy import save\n",
    "from numpy import load\n",
    "import esprima as esp\n",
    "from time import time\n",
    "import pandas as pd\n",
    "import numpy as np\n",
    "import logging\n",
    "import urllib\n",
    "import random\n",
    "import pickle\n",
    "import pydot\n",
    "import torch\n",
    "import math\n",
    "import html\n",
    "import nltk\n",
    "import os\n",
    "import re\n",
    "import gc\n",
    "np.random.seed(123)\n",
    "plt.style.use('ggplot')"
   ]
  },
  {
   "cell_type": "code",
   "execution_count": 46,
   "metadata": {},
   "outputs": [],
   "source": [
    "# with open(\"G:/JSContanaDataSet/programs_training.txt\", 'r', encoding='utf-8') as file:\n",
    "#     path_scripts = file.readlines()\n",
    "# df_0 = pd.DataFrame(columns=[\"ScriptPath\",\"Label\"])\n",
    "# scripts = []\n",
    "# Label = []\n",
    "# for path_script in range(len(path_scripts)-1):\n",
    "#     try:\n",
    "#         s_p = \"G:/JSContanaDataSet/\"+path_scripts[path_script][:-1]\n",
    "#         with open(s_p) as js_file:\n",
    "#             script = js_file.read()\n",
    "#         scripts.append(path_scripts[path_script][:-1])\n",
    "#         Label.append(0)\n",
    "#     except:\n",
    "#         pass\n",
    "# df_0[\"ScriptPath\"] = scripts\n",
    "# df_0[\"Label\"] = Label\n",
    "# df_0 = df_0.sample(40000)\n",
    "# df_0.to_csv(\"G:\\JSContanaDataSet\\df_0.csv\", index=False)"
   ]
  },
  {
   "cell_type": "code",
   "execution_count": 47,
   "metadata": {},
   "outputs": [],
   "source": [
    "# import os\n",
    "# path = \"G:\\JSContanaDataSet\\javascript-malware-collection-master\"\n",
    "# os.chdir(path)\n",
    "# ListOfD = os.listdir()\n",
    "# ListOfD"
   ]
  },
  {
   "cell_type": "code",
   "execution_count": 48,
   "metadata": {},
   "outputs": [],
   "source": [
    "# de = []\n",
    "# df_1 = pd.DataFrame(columns=[\"ScriptPath\",\"Label\"])\n",
    "# for directory in ListOfD:\n",
    "#     if not (\".\" in directory):\n",
    "#         mypath = os.path.join(path,directory)\n",
    "#         mypath1 = os.path.join(\"javascript-malware-collection-master\",directory)\n",
    "#         os.chdir(mypath)\n",
    "#         for d in os.listdir():\n",
    "#             my_path = os.path.join(mypath,d)\n",
    "#             my_path1 = os.path.join(mypath1,d)\n",
    "#             if not (\".\" in d):\n",
    "#                 os.chdir(my_path)\n",
    "#                 for j in os.listdir():\n",
    "#                     print(os.path.join(my_path1,j))\n",
    "#                     print(os.path.join(my_path,j))\n",
    "#                     if (\".js\") in j:\n",
    "#                         de.append(os.path.join(my_path1,j))\n",
    "# df_1[\"ScriptPath\"] = scripts\n",
    "# df_1[\"Label\"] = Label\n",
    "# df_1.to_csv(\"G:\\JSContanaDataSet\\df_1.csv\", index=False)"
   ]
  },
  {
   "cell_type": "markdown",
   "metadata": {},
   "source": [
    "# Preprocessing_Files"
   ]
  },
  {
   "cell_type": "code",
   "execution_count": 49,
   "metadata": {},
   "outputs": [],
   "source": [
    "def Decode_Stage(script):\n",
    "    script = urllib.parse.unquote(script)\n",
    "    script = html.unescape(script)\n",
    "    return script"
   ]
  },
  {
   "cell_type": "code",
   "execution_count": 50,
   "metadata": {},
   "outputs": [],
   "source": [
    "def Generalization_Stage(x):\n",
    "    x = x.lower()\n",
    "    x, _ = re.subn(r'\\d+', \"0\", x)\n",
    "    x, _ = re.subn(r'(http|https)://[a-zA-Z0-9\\.@/!&#\\?]+',\"http://u\", x)\n",
    "    return x"
   ]
  },
  {
   "cell_type": "code",
   "execution_count": 51,
   "metadata": {},
   "outputs": [],
   "source": [
    "def Segmentation_Stage(x):\n",
    "    seg = r'''(?x)[\\w\\.]+?\\(|\\)|\"\\w+?\"|'\\w+?'|http://\\w|</\\w+>|<\\w+>|<\\w+|\\w+=|>|[\\w\\.]+/'''\n",
    "    token = nltk.regexp_tokenize(x, seg)\n",
    "    return token"
   ]
  },
  {
   "cell_type": "code",
   "execution_count": 52,
   "metadata": {},
   "outputs": [],
   "source": [
    "def remove_comments(script):\n",
    "    pattern = r\"(\\\".*?\\\"|\\'.*?\\')|(/\\*.*?\\*/|//[^\\r\\n]*$)\"\n",
    "    regex = re.compile(pattern, re.MULTILINE|re.DOTALL)\n",
    "    def _replacer(match):\n",
    "        if match.group(2) is not None:\n",
    "            return \"\"\n",
    "        else:\n",
    "            return match.group(1)\n",
    "    return regex.sub(_replacer, script)"
   ]
  },
  {
   "cell_type": "code",
   "execution_count": 53,
   "metadata": {},
   "outputs": [],
   "source": [
    "def lowering_remove_urls_ips(script):\n",
    "    \"\"\"\n",
    "    _ INPUT IS JS FILE \n",
    "    _ OUTPUT IS CLEAN JS FILE\n",
    "    \"\"\"\n",
    "    script = re.sub(r'\\w+:\\/{2}[\\d\\w-]+(\\.[\\d\\w-]+)*(?:(?:\\/[^\\s/]*))*', '', script)\n",
    "    script = re.sub(r'((25[0-5]|2[0-4][0-9]|[01]?[0-9][0-9]?)\\.){3}(25[0-5]|2[0-4][0-9]|[01]?[0-9][0-9]?)', '0', script)\n",
    "    script = remove_comments(script)\n",
    "    script = script.lower()\n",
    "    return script"
   ]
  },
  {
   "cell_type": "code",
   "execution_count": 54,
   "metadata": {},
   "outputs": [],
   "source": [
    "# convert java script code to the abstract syntax tree\n",
    "# then extract the sequences of syntax units with detailed information\n",
    "def sequence_of_syntax_units(scripts):\n",
    "    try:\n",
    "        \"\"\"\n",
    "        sctipts : list or single javascript code \n",
    "        return sequence of syntax units\n",
    "        each syntax unit correspond to line in an abstract syntax tree\n",
    "        \"\"\"\n",
    "        if type(scripts) is list:\n",
    "            # esp.parseScript(script) returns abstract syntax tree of each js scripts\n",
    "            return [re.sub('\\s+', ' ', ''.join(str(esp.parseScript(script)).split('\\n'))) for script in scripts]\n",
    "        elif type(scripts) is str:\n",
    "            return re.sub('\\s+', ' ', ''.join(str(esp.parseScript(scripts)).split('\\n')))\n",
    "        else:\n",
    "            raise ValueError('The type of scripts parameter must be {list or string}')\n",
    "    except:\n",
    "        pass\n",
    "    return None"
   ]
  },
  {
   "cell_type": "code",
   "execution_count": 55,
   "metadata": {},
   "outputs": [],
   "source": [
    "def read__script(script_paths,parent_path):\n",
    "    try :\n",
    "        with open(os.path.join(parent_path,script_paths), 'r') as js_file:\n",
    "            script = js_file.read()\n",
    "            script = Generalization_Stage(script)\n",
    "            script = lowering_remove_urls_ips(script)\n",
    "            script = sequence_of_syntax_units(script)\n",
    "        return script\n",
    "    except:\n",
    "        print(script_paths)\n",
    "    return None"
   ]
  },
  {
   "cell_type": "code",
   "execution_count": 74,
   "metadata": {},
   "outputs": [
    {
     "name": "stdout",
     "output_type": "stream",
     "text": [
      "(40000, 2)\n"
     ]
    },
    {
     "data": {
      "text/html": [
       "<div>\n",
       "<style scoped>\n",
       "    .dataframe tbody tr th:only-of-type {\n",
       "        vertical-align: middle;\n",
       "    }\n",
       "\n",
       "    .dataframe tbody tr th {\n",
       "        vertical-align: top;\n",
       "    }\n",
       "\n",
       "    .dataframe thead th {\n",
       "        text-align: right;\n",
       "    }\n",
       "</style>\n",
       "<table border=\"1\" class=\"dataframe\">\n",
       "  <thead>\n",
       "    <tr style=\"text-align: right;\">\n",
       "      <th></th>\n",
       "      <th>ScriptPath</th>\n",
       "      <th>Label</th>\n",
       "    </tr>\n",
       "  </thead>\n",
       "  <tbody>\n",
       "    <tr>\n",
       "      <th>0</th>\n",
       "      <td>data\\phatly27\\light-responsive-js\\node_modules...</td>\n",
       "      <td>0</td>\n",
       "    </tr>\n",
       "    <tr>\n",
       "      <th>1</th>\n",
       "      <td>data\\AshKyd\\geojson-regions\\example\\leaflet.la...</td>\n",
       "      <td>0</td>\n",
       "    </tr>\n",
       "    <tr>\n",
       "      <th>2</th>\n",
       "      <td>data\\mozilla\\mozmill\\mutt\\mutt\\tests\\js\\metro\\...</td>\n",
       "      <td>0</td>\n",
       "    </tr>\n",
       "    <tr>\n",
       "      <th>3</th>\n",
       "      <td>data\\ehynds\\grunt-image-embed\\test\\test_image_...</td>\n",
       "      <td>0</td>\n",
       "    </tr>\n",
       "    <tr>\n",
       "      <th>4</th>\n",
       "      <td>data\\stackgl\\webgl-workshop\\exercises\\shader-a...</td>\n",
       "      <td>0</td>\n",
       "    </tr>\n",
       "  </tbody>\n",
       "</table>\n",
       "</div>"
      ],
      "text/plain": [
       "                                          ScriptPath  Label\n",
       "0  data\\phatly27\\light-responsive-js\\node_modules...      0\n",
       "1  data\\AshKyd\\geojson-regions\\example\\leaflet.la...      0\n",
       "2  data\\mozilla\\mozmill\\mutt\\mutt\\tests\\js\\metro\\...      0\n",
       "3  data\\ehynds\\grunt-image-embed\\test\\test_image_...      0\n",
       "4  data\\stackgl\\webgl-workshop\\exercises\\shader-a...      0"
      ]
     },
     "execution_count": 74,
     "metadata": {},
     "output_type": "execute_result"
    }
   ],
   "source": [
    "df_0 = pd.read_csv(\"G:\\JSContanaDataSet\\df_0.csv\")\n",
    "print(df_0.shape)\n",
    "df_0.head()"
   ]
  },
  {
   "cell_type": "code",
   "execution_count": 75,
   "metadata": {},
   "outputs": [
    {
     "name": "stdout",
     "output_type": "stream",
     "text": [
      "(39425, 2)\n"
     ]
    },
    {
     "data": {
      "text/html": [
       "<div>\n",
       "<style scoped>\n",
       "    .dataframe tbody tr th:only-of-type {\n",
       "        vertical-align: middle;\n",
       "    }\n",
       "\n",
       "    .dataframe tbody tr th {\n",
       "        vertical-align: top;\n",
       "    }\n",
       "\n",
       "    .dataframe thead th {\n",
       "        text-align: right;\n",
       "    }\n",
       "</style>\n",
       "<table border=\"1\" class=\"dataframe\">\n",
       "  <thead>\n",
       "    <tr style=\"text-align: right;\">\n",
       "      <th></th>\n",
       "      <th>ScriptPath</th>\n",
       "      <th>Label</th>\n",
       "    </tr>\n",
       "  </thead>\n",
       "  <tbody>\n",
       "    <tr>\n",
       "      <th>0</th>\n",
       "      <td>javascript-malware-collection-master\\1936\\1936...</td>\n",
       "      <td>1</td>\n",
       "    </tr>\n",
       "    <tr>\n",
       "      <th>1</th>\n",
       "      <td>javascript-malware-collection-master\\1936\\1936...</td>\n",
       "      <td>1</td>\n",
       "    </tr>\n",
       "    <tr>\n",
       "      <th>2</th>\n",
       "      <td>javascript-malware-collection-master\\1936\\1936...</td>\n",
       "      <td>1</td>\n",
       "    </tr>\n",
       "    <tr>\n",
       "      <th>3</th>\n",
       "      <td>javascript-malware-collection-master\\1936\\1936...</td>\n",
       "      <td>1</td>\n",
       "    </tr>\n",
       "    <tr>\n",
       "      <th>4</th>\n",
       "      <td>javascript-malware-collection-master\\1936\\1936...</td>\n",
       "      <td>1</td>\n",
       "    </tr>\n",
       "  </tbody>\n",
       "</table>\n",
       "</div>"
      ],
      "text/plain": [
       "                                          ScriptPath  Label\n",
       "0  javascript-malware-collection-master\\1936\\1936...      1\n",
       "1  javascript-malware-collection-master\\1936\\1936...      1\n",
       "2  javascript-malware-collection-master\\1936\\1936...      1\n",
       "3  javascript-malware-collection-master\\1936\\1936...      1\n",
       "4  javascript-malware-collection-master\\1936\\1936...      1"
      ]
     },
     "execution_count": 75,
     "metadata": {},
     "output_type": "execute_result"
    }
   ],
   "source": [
    "df_1 = pd.read_csv(\"G:\\JSContanaDataSet\\df_1.csv\")\n",
    "print(df_1.shape)\n",
    "df_1.head()"
   ]
  },
  {
   "cell_type": "code",
   "execution_count": 76,
   "metadata": {},
   "outputs": [],
   "source": [
    "from sklearn.utils import shuffle\n",
    "# df_0 = df_0[-5000:-3000]\n",
    "df_1 = df_1[10000:17000]\n",
    "frames = df_1 # [df_1, df_0]\n",
    "# frames = pd.concat(frames)\n",
    "df = shuffle(frames)\n",
    "df.to_csv(\"G:\\JSContanaDataSet\\my_df2.csv\", index=False)"
   ]
  },
  {
   "cell_type": "code",
   "execution_count": 77,
   "metadata": {},
   "outputs": [
    {
     "name": "stdout",
     "output_type": "stream",
     "text": [
      "(7000, 2)\n"
     ]
    },
    {
     "data": {
      "text/html": [
       "<div>\n",
       "<style scoped>\n",
       "    .dataframe tbody tr th:only-of-type {\n",
       "        vertical-align: middle;\n",
       "    }\n",
       "\n",
       "    .dataframe tbody tr th {\n",
       "        vertical-align: top;\n",
       "    }\n",
       "\n",
       "    .dataframe thead th {\n",
       "        text-align: right;\n",
       "    }\n",
       "</style>\n",
       "<table border=\"1\" class=\"dataframe\">\n",
       "  <thead>\n",
       "    <tr style=\"text-align: right;\">\n",
       "      <th></th>\n",
       "      <th>ScriptPath</th>\n",
       "      <th>Label</th>\n",
       "    </tr>\n",
       "  </thead>\n",
       "  <tbody>\n",
       "    <tr>\n",
       "      <th>0</th>\n",
       "      <td>javascript-malware-collection-master\\2016\\2016...</td>\n",
       "      <td>1</td>\n",
       "    </tr>\n",
       "    <tr>\n",
       "      <th>1</th>\n",
       "      <td>javascript-malware-collection-master\\2016\\2016...</td>\n",
       "      <td>1</td>\n",
       "    </tr>\n",
       "    <tr>\n",
       "      <th>2</th>\n",
       "      <td>javascript-malware-collection-master\\2016\\2016...</td>\n",
       "      <td>1</td>\n",
       "    </tr>\n",
       "    <tr>\n",
       "      <th>3</th>\n",
       "      <td>javascript-malware-collection-master\\2016\\2016...</td>\n",
       "      <td>1</td>\n",
       "    </tr>\n",
       "    <tr>\n",
       "      <th>4</th>\n",
       "      <td>javascript-malware-collection-master\\2016\\2016...</td>\n",
       "      <td>1</td>\n",
       "    </tr>\n",
       "  </tbody>\n",
       "</table>\n",
       "</div>"
      ],
      "text/plain": [
       "                                          ScriptPath  Label\n",
       "0  javascript-malware-collection-master\\2016\\2016...      1\n",
       "1  javascript-malware-collection-master\\2016\\2016...      1\n",
       "2  javascript-malware-collection-master\\2016\\2016...      1\n",
       "3  javascript-malware-collection-master\\2016\\2016...      1\n",
       "4  javascript-malware-collection-master\\2016\\2016...      1"
      ]
     },
     "execution_count": 77,
     "metadata": {},
     "output_type": "execute_result"
    }
   ],
   "source": [
    "my_df = pd.read_csv(\"G:\\JSContanaDataSet\\my_df2.csv\")\n",
    "print(my_df.shape)\n",
    "my_df.head()"
   ]
  },
  {
   "cell_type": "code",
   "execution_count": 78,
   "metadata": {},
   "outputs": [],
   "source": [
    "def get_js_File_after_preprocessing(my_df):\n",
    "    list_X_train = []\n",
    "    list_y_train = []\n",
    "    for i,df_iterator in tqdm(my_df.iterrows()):\n",
    "        X_train , y_train = read__script(df_iterator[my_df.columns[-2]],\"G:\\JSContanaDataSet\"),df_iterator[my_df.columns[-1]]\n",
    "        if not X_train is None:\n",
    "            list_X_train.append(X_train)\n",
    "            list_y_train.append(y_train)\n",
    "    return list_X_train,list_y_train"
   ]
  },
  {
   "cell_type": "code",
   "execution_count": null,
   "metadata": {
    "scrolled": true
   },
   "outputs": [
    {
     "data": {
      "application/vnd.jupyter.widget-view+json": {
       "model_id": "a8b52b571ee74a7e9b21314de24358d3",
       "version_major": 2,
       "version_minor": 0
      },
      "text/plain": [
       "HBox(children=(FloatProgress(value=1.0, bar_style='info', max=1.0), HTML(value='')))"
      ]
     },
     "metadata": {},
     "output_type": "display_data"
    }
   ],
   "source": [
    "list_X_train,list_y_train = get_js_File_after_preprocessing(my_df)"
   ]
  },
  {
   "cell_type": "code",
   "execution_count": null,
   "metadata": {},
   "outputs": [],
   "source": [
    "print(len(list_X_train))\n",
    "print(len(list_y_train))\n",
    "my_df = pd.DataFrame()\n",
    "my_df['ScriptPath'] = list_X_train\n",
    "my_df['Label'] = list_y_train\n",
    "my_df.to_csv(\"G:\\JSContanaDataSet\\my_df2.csv\", index=False)\n",
    "my_df = pd.read_csv(\"G:\\JSContanaDataSet\\my_df2.csv\")\n",
    "print(my_df.shape)\n",
    "my_df.head()"
   ]
  },
  {
   "cell_type": "code",
   "execution_count": null,
   "metadata": {},
   "outputs": [],
   "source": [
    "print(my_df[my_df[\"Label\"]==0].shape)\n",
    "print(my_df[my_df[\"Label\"]==1].shape)"
   ]
  },
  {
   "cell_type": "code",
   "execution_count": null,
   "metadata": {},
   "outputs": [],
   "source": [
    "my_df__ = pd.read_csv(\"G:\\JSContanaDataSet\\my_df2.csv\")\n",
    "print(my_df__.shape)\n",
    "print(my_df__[my_df__[\"Label\"]==0].shape)\n",
    "print(my_df__[my_df__[\"Label\"]==1].shape)\n",
    "my_df__.head()"
   ]
  },
  {
   "cell_type": "code",
   "execution_count": null,
   "metadata": {},
   "outputs": [],
   "source": []
  }
 ],
 "metadata": {
  "kernelspec": {
   "display_name": "Python 3",
   "language": "python",
   "name": "python3"
  },
  "language_info": {
   "codemirror_mode": {
    "name": "ipython",
    "version": 3
   },
   "file_extension": ".py",
   "mimetype": "text/x-python",
   "name": "python",
   "nbconvert_exporter": "python",
   "pygments_lexer": "ipython3",
   "version": "3.7.6"
  }
 },
 "nbformat": 4,
 "nbformat_minor": 4
}
