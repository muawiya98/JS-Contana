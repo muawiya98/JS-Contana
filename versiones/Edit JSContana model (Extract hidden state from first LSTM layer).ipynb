{
 "cells": [
  {
   "cell_type": "code",
   "execution_count": 1,
   "metadata": {},
   "outputs": [],
   "source": [
    "import pandas as pd\n",
    "from sklearn.model_selection import train_test_split\n",
    "from sklearn.feature_extraction.text import CountVectorizer\n",
    "from keras.models import Sequential\n",
    "from keras import layers\n",
    "from keras.backend import clear_session\n",
    "from keras.preprocessing.text import Tokenizer\n",
    "from keras.layers import Activation, Dense, Reshape \n",
    "import numpy as np\n",
    "from keras import backend as K\n",
    "import matplotlib.pyplot as plt\n",
    "import pandas as pd\n",
    "from keras.preprocessing.sequence import pad_sequences\n",
    "from keras.layers import Embedding, LSTM, Dense, Bidirectional, Dropout, Conv1D, GlobalMaxPooling1D\n",
    "from keras.models import load_model\n",
    "from numpy import asarray\n",
    "from numpy import save\n",
    "from numpy import load\n",
    "from sklearn.metrics import confusion_matrix\n",
    "from sklearn.metrics import classification_report\n",
    "import esprima as esp\n",
    "import re\n",
    "from keras.initializers import Constant\n",
    "from keras.optimizers import Adam\n",
    "from keras.losses import BinaryCrossentropy\n",
    "from keras.utils import plot_model\n",
    "from keras import Model\n",
    "import pydot\n",
    "\n",
    "plt.style.use('ggplot')"
   ]
  },
  {
   "cell_type": "code",
   "execution_count": 2,
   "metadata": {},
   "outputs": [],
   "source": [
    "def plot_history(history):\n",
    "    acc = history.history['accuracy']\n",
    "    val_acc = history.history['val_accuracy']\n",
    "    loss = history.history['loss']\n",
    "    val_loss = history.history['val_loss']\n",
    "    x = range(1, len(acc) + 1)\n",
    "    plt.figure(figsize=(12, 5))\n",
    "    plt.subplot(1, 2, 1)\n",
    "    plt.plot(x, acc, 'b', label='Training acc')\n",
    "    plt.plot(x, val_acc, 'r', label='Validation acc')\n",
    "    plt.title('Training and validation accuracy')\n",
    "    plt.legend()\n",
    "    plt.subplot(1, 2, 2)\n",
    "    plt.plot(x, loss, 'b', label='Training loss')\n",
    "    plt.plot(x, val_loss, 'r', label='Validation loss')\n",
    "    plt.title('Training and validation loss')\n",
    "    plt.legend()"
   ]
  },
  {
   "cell_type": "code",
   "execution_count": 3,
   "metadata": {},
   "outputs": [],
   "source": [
    "# ***********************\n",
    "def Read_data_and_split(path_csv_file='G:/JSContanaDataSet/script_path_df.csv'):\n",
    "#     data = pd.read_csv(\"socialmedia_disaster.csv\") #  9346 Samples\n",
    "    data = pd.read_csv(path_csv_file)\n",
    "    columns = data.columns\n",
    "    sentences = data[columns[0]].values\n",
    "    y = data[columns[1]].values\n",
    "    sentences_train, sentences_test, y_train, y_test = train_test_split(sentences, y, test_size=0.25, random_state=1000)\n",
    "    return sentences_train, sentences_test, y_train, y_test"
   ]
  },
  {
   "cell_type": "code",
   "execution_count": 4,
   "metadata": {},
   "outputs": [],
   "source": [
    "# ***********************\n",
    "def Read_data_and_split(path_csv_file='G:/JSContanaDataSet/script_path_df.csv'):\n",
    "    data = pd.read_csv(path_csv_file)\n",
    "    columns = data.columns\n",
    "    x = data[columns[0]].values\n",
    "    y = data[columns[1]].values\n",
    "    sentences_train, sentences_test, y_train, y_test = train_test_split(x, y, test_size=0.25, random_state=1000)\n",
    "    return sentences_train, sentences_test, y_train, y_test"
   ]
  },
  {
   "cell_type": "code",
   "execution_count": 5,
   "metadata": {},
   "outputs": [],
   "source": [
    "def chunking_data(Data,chunkNum):\n",
    "    chunkSize = Data.shape[0]/chunkNum\n",
    "    temp = []\n",
    "    for i in range(chunkNum):\n",
    "        satrt = int(i * chunkSize)\n",
    "        end = int((i+1) * chunkSize)\n",
    "        if Data.shape[0]-end>0:\n",
    "            temp.append(Data[satrt:end])\n",
    "        else:\n",
    "            temp.append(Data[satrt:Data.shape[0]])\n",
    "    return temp"
   ]
  },
  {
   "cell_type": "code",
   "execution_count": 6,
   "metadata": {},
   "outputs": [],
   "source": [
    "def preprocessing_dataset(num_words,sentences_train,sentences_test,maxlen):\n",
    "    tokenizer = Tokenizer(num_words=num_words)\n",
    "    tokenizer.fit_on_texts(sentences_train)\n",
    "    X_train = tokenizer.texts_to_sequences(sentences_train)\n",
    "    X_test = tokenizer.texts_to_sequences(sentences_test)\n",
    "    vocab_size = len(tokenizer.word_index) + 1  # Adding 1 because of reserved 0 index\n",
    "    X_train = pad_sequences(X_train, padding='post', maxlen=maxlen)\n",
    "    X_test = pad_sequences(X_test, padding='post', maxlen=maxlen)\n",
    "    return X_train,X_test,vocab_size"
   ]
  },
  {
   "cell_type": "code",
   "execution_count": 7,
   "metadata": {},
   "outputs": [],
   "source": [
    "def evaluation(model,history,X_train,y_train,X_test,y_test):\n",
    "    loss, accuracy = model.evaluate(X_train, y_train, verbose=False)\n",
    "    print(\"Training Accuracy: {:.4f}\".format(accuracy))\n",
    "    loss, accuracy = model.evaluate(X_test, y_test, verbose=False)\n",
    "    print(\"Testing Accuracy:  {:.4f}\".format(accuracy))\n",
    "    print(classification_report(np.round(model.predict(X_test)), y_test))\n",
    "    plot_history(history)"
   ]
  },
  {
   "cell_type": "code",
   "execution_count": 8,
   "metadata": {},
   "outputs": [],
   "source": [
    "# ££££££££££££££££££££££££££££££££\n",
    "def Model(vocab_size,embedding_dim,maxlen,myoptimizer,myloss,mymetrics,shape=100,Type=0):\n",
    "    model = Sequential()\n",
    "    if Type==0:\n",
    "        model.add(layers.Embedding(vocab_size, embedding_dim, input_length=maxlen))\n",
    "        model.add(Bidirectional(LSTM(units=50, input_shape=(None, 50), return_sequences=True)))\n",
    "    else :\n",
    "         model.add(layers.InputLayer(input_shape=shape.shape))\n",
    "        \n",
    "    \n",
    "    model.add(Bidirectional(LSTM(units=50, input_shape=(None, 50), return_sequences=True)))\n",
    "\n",
    "    # TextCNN with 4 conv layers\n",
    "    model.add(Conv1D(128, 7, activation='tanh', input_shape=(None, 32)))\n",
    "    model.add(Conv1D(128, 15, activation='tanh'))\n",
    "    model.add(Conv1D(128, 25, activation='tanh'))\n",
    "    model.add(Conv1D(128, 35, activation='tanh'))\n",
    "    model.add(GlobalMaxPooling1D())\n",
    "    model.add(Dense(64, activation='relu'))\n",
    "    model.add(Dropout(0.2))\n",
    "    model.add(Dense(1, activation='sigmoid'))\n",
    "    model.compile(optimizer=myoptimizer,\n",
    "                  loss=myloss,\n",
    "                  metrics=[mymetrics])\n",
    "    model.summary()\n",
    "    return model"
   ]
  },
  {
   "cell_type": "code",
   "execution_count": 9,
   "metadata": {},
   "outputs": [],
   "source": [
    "# *******************************\n",
    "def fit_Model(model,model_name,X_train,y_train,X_test=0,y_test=0,chunk_size=10):\n",
    "    model_name = str(model_name)+\".h5\"\n",
    "    X_train_List = chunking_data(X_train,chunk_size)\n",
    "    y_train_List = chunking_data(y_train,chunk_size)\n",
    "   \n",
    "    if X_test!=0:\n",
    "        X_test_List = chunking_data(X_test,chunk_size)\n",
    "        y_test_List = chunking_data(y_test,chunk_size)\n",
    "        history = model.fit(X_train_List[0], y_train_List[0],epochs=10,verbose=False,validation_data=(X_test_List[0], y_test_List[0]))\n",
    "    else:\n",
    "        history = model.fit(X_train_List[0], y_train_List[0],epochs=10,verbose=False)\n",
    "            \n",
    "    model.save(model_name)\n",
    "    for i in range(1,len(X_train_List)-1):\n",
    "        model = load_model(model_name)\n",
    "        if X_test!=0:\n",
    "            model.fit(X_train_List[i], y_train_List[i],epochs=10,verbose=False,validation_data=(X_test_List[i], y_test_List[i]))\n",
    "        else:\n",
    "            model.fit(X_train_List[i], y_train_List[i],epochs=10,verbose=False)\n",
    "        loaded_train_test_model.save(model_name)    \n",
    "    return model , history , model_name"
   ]
  },
  {
   "cell_type": "code",
   "execution_count": 10,
   "metadata": {},
   "outputs": [],
   "source": [
    "# *******************************\n",
    "def fit_model(model,model_name,X_train,y_train,X_test=0,y_test=0):\n",
    "    model_name = str(model_name)+\".h5\"\n",
    "    if X_test!=0:\n",
    "        history = model.fit(X_train, y_train,epochs=10,verbose=False,validation_data=(X_test, y_test))\n",
    "    else:\n",
    "        history = model.fit(X_train, y_train,epochs=10,verbose=False)\n",
    "    model.save(model_name)\n",
    "    return model , history , model_name"
   ]
  },
  {
   "cell_type": "code",
   "execution_count": 11,
   "metadata": {},
   "outputs": [],
   "source": [
    "path_train_data = 'G:/JSContanaDataSet/script_path_df.csv'\n",
    "num_words = 400000\n",
    "maxlen = 1024\n",
    "embedding_dim = 50\n",
    "myoptimizer = 'adam'\n",
    "myloss= 'binary_crossentropy'\n",
    "mymetrics = 'accuracy'\n",
    "\n",
    "sentences_train, sentences_test, y_train, y_test = Read_data_and_split(path_train_data)\n",
    "# sentences_test, y_test = Read_data_and_split('G:/JSContanaDataSet/test_script_path_df.csv')\n",
    "X_train,X_test,vocab_size = preprocessing_dataset(num_words,sentences_train,sentences_test,maxlen)\n",
    "x_Data = np.concatenate((X_train, X_test), axis=0)\n",
    "y_Data = np.concatenate((y_train, y_test), axis=0)"
   ]
  },
  {
   "cell_type": "markdown",
   "metadata": {},
   "source": [
    "# Model for All Data"
   ]
  },
  {
   "cell_type": "code",
   "execution_count": 12,
   "metadata": {},
   "outputs": [
    {
     "name": "stdout",
     "output_type": "stream",
     "text": [
      "Model: \"sequential\"\n",
      "_________________________________________________________________\n",
      "Layer (type)                 Output Shape              Param #   \n",
      "=================================================================\n",
      "embedding (Embedding)        (None, 1024, 50)          80640950  \n",
      "_________________________________________________________________\n",
      "bidirectional (Bidirectional (None, 1024, 100)         40400     \n",
      "_________________________________________________________________\n",
      "bidirectional_1 (Bidirection (None, 1024, 100)         60400     \n",
      "_________________________________________________________________\n",
      "conv1d (Conv1D)              (None, 1018, 128)         89728     \n",
      "_________________________________________________________________\n",
      "conv1d_1 (Conv1D)            (None, 1004, 128)         245888    \n",
      "_________________________________________________________________\n",
      "conv1d_2 (Conv1D)            (None, 980, 128)          409728    \n",
      "_________________________________________________________________\n",
      "conv1d_3 (Conv1D)            (None, 946, 128)          573568    \n",
      "_________________________________________________________________\n",
      "global_max_pooling1d (Global (None, 128)               0         \n",
      "_________________________________________________________________\n",
      "dense (Dense)                (None, 64)                8256      \n",
      "_________________________________________________________________\n",
      "dropout (Dropout)            (None, 64)                0         \n",
      "_________________________________________________________________\n",
      "dense_1 (Dense)              (None, 1)                 65        \n",
      "=================================================================\n",
      "Total params: 82,068,983\n",
      "Trainable params: 82,068,983\n",
      "Non-trainable params: 0\n",
      "_________________________________________________________________\n"
     ]
    }
   ],
   "source": [
    "Model_for_all_data = Model(vocab_size,embedding_dim,maxlen,myoptimizer,myloss,mymetrics)"
   ]
  },
  {
   "cell_type": "code",
   "execution_count": null,
   "metadata": {},
   "outputs": [],
   "source": [
    "Model_for_all_data , history , model_name = fit_model(Model_for_all_data,\"Model_for_all_data\",x_Data[:1000],y_Data[:1000])"
   ]
  },
  {
   "cell_type": "code",
   "execution_count": 2,
   "metadata": {},
   "outputs": [],
   "source": [
    "# *******************\n",
    "keras_function = K.function([Model_for_all_data.input], [Model_for_all_data.layers[1].output])\n",
    "first_layer_output = keras_function([x_Data[:1000], 1])\n",
    "save('first_layer_output.npy', first_layer_output[0])\n",
    "# first_layer_output = load('first_layer_output.npy')  "
   ]
  },
  {
   "cell_type": "markdown",
   "metadata": {},
   "source": [
    "# Model for train&test data"
   ]
  },
  {
   "cell_type": "code",
   "execution_count": null,
   "metadata": {},
   "outputs": [],
   "source": [
    "train_test_Model = Model(vocab_size,embedding_dim,maxlen,myoptimizer,myloss,mymetrics)"
   ]
  },
  {
   "cell_type": "code",
   "execution_count": null,
   "metadata": {},
   "outputs": [],
   "source": [
    "train_test_Model , train_test_Model_history , train_test_Model_model_name = fit_model(train_test_Model,\"train_test_Model\",X_train[1000],y_train[1000],X_test[1000],y_test[1000])"
   ]
  },
  {
   "cell_type": "code",
   "execution_count": null,
   "metadata": {},
   "outputs": [],
   "source": [
    "evaluation(train_test_Model,train_test_Model_history,X_train[:750],y_train[:750],X_test[:250],y_test[:250])"
   ]
  },
  {
   "cell_type": "markdown",
   "metadata": {},
   "source": [
    "# Model Without first LSTM layer"
   ]
  },
  {
   "cell_type": "code",
   "execution_count": null,
   "metadata": {},
   "outputs": [],
   "source": [
    "Model_without_first_layer = Model(vocab_size,embedding_dim,maxlen,myoptimizer,myloss,mymetrics,shape=first_layer_output[0][0].shape,Type=1)"
   ]
  },
  {
   "cell_type": "code",
   "execution_count": null,
   "metadata": {},
   "outputs": [],
   "source": [
    "# lstm_X_train, lstm_X_test, lstm_y_train, lstm_y_test = train_test_split(first_layer_output[0], y_Data, test_size=0.25, random_state=1000)"
   ]
  },
  {
   "cell_type": "code",
   "execution_count": null,
   "metadata": {},
   "outputs": [],
   "source": [
    "Model_without_first_layer , Model_without_first_layer_history , Model_without_first_layer_name = fit_model(Model_without_first_layer,\"Model_without_first_layer\",first_layer_output[0][:750],y_train[:750],first_layer_output[0][750:1000],y_test[750:1000])"
   ]
  },
  {
   "cell_type": "code",
   "execution_count": null,
   "metadata": {},
   "outputs": [],
   "source": [
    "evaluation(Model_without_first_layer,Model_without_first_layer_history,first_layer_output[0][:750],y_train[:750],first_layer_output[0][750:1000],y_test[750:1000])"
   ]
  },
  {
   "cell_type": "code",
   "execution_count": null,
   "metadata": {},
   "outputs": [],
   "source": []
  },
  {
   "cell_type": "code",
   "execution_count": null,
   "metadata": {},
   "outputs": [],
   "source": []
  },
  {
   "cell_type": "code",
   "execution_count": 9,
   "metadata": {
    "scrolled": true
   },
   "outputs": [],
   "source": [
    "# # ***********************\n",
    "# def fit_Model(X_train,):\n",
    "#     x_Data_List = chunking_data(x_Data,9)\n",
    "#     y_Data_List = chunking_data(y_Data,9)\n",
    "#     model_All_Data = Model_for_all_data()\n",
    "#     history = model_All_Data.fit(x_Data_List[0], y_Data_List[0],\n",
    "#                         epochs=10,\n",
    "#                         verbose=False,\n",
    "#                         batch_size=10)\n",
    "#     model_All_Data.save(\"model_All_Data.h5\")\n",
    "#     for i in range(1,len(x_Data_List)-1):\n",
    "#         loaded_model_All_Data = load_model(\"model_All_Data.h5\")\n",
    "#         loaded_model_All_Data.fit(x_Data_List[i], y_Data_List[i],\n",
    "#                         epochs=10,\n",
    "#                         verbose=False,\n",
    "#                         batch_size=10)\n",
    "#         loaded_model_All_Data.save(\"model_All_Data.h5\") \n",
    "#     keras_function = K.function([loaded_model_All_Data.input], [loaded_model_All_Data.layers[1].output])\n",
    "#     output = keras_function([x_Data, 1])\n",
    "#     save('data.npy', output[0])\n",
    "#     first_layer_output = load('data.npy')    \n",
    "#     return loaded_model_All_Data , first_layer_output , \"model_All_Data.h5\" , 'data.npy'"
   ]
  },
  {
   "cell_type": "code",
   "execution_count": 18,
   "metadata": {},
   "outputs": [],
   "source": [
    "# loaded_model_All_Data , first_layer_output , Apath , Path_first_layer_output =  fit_Model_for_all_data()"
   ]
  },
  {
   "cell_type": "code",
   "execution_count": 11,
   "metadata": {},
   "outputs": [],
   "source": [
    "# clear_session()"
   ]
  },
  {
   "cell_type": "code",
   "execution_count": 19,
   "metadata": {},
   "outputs": [],
   "source": [
    "# # *****************************\n",
    "# def train_test_Model():\n",
    "#     train_test_model = Sequential()\n",
    "#     train_test_model.add(layers.Embedding(vocab_size, embedding_dim, input_length=maxlen))\n",
    "#     train_test_model.add(Bidirectional(LSTM(units=64 , batch_input_shape=(10,X_train.shape[0],X_train.shape[1]), return_sequences=True)))\n",
    "#     train_test_model.add(Bidirectional(LSTM(units=32 , return_sequences=True)))\n",
    "\n",
    "#     # TextCNN with 4 conv layers\n",
    "#     train_test_model.add(Conv1D(128, 7, activation='tanh', input_shape=(None, 32)))\n",
    "#     train_test_model.add(Conv1D(128, 15, activation='tanh'))\n",
    "#     train_test_model.add(Conv1D(128, 25, activation='tanh'))\n",
    "#     train_test_model.add(Conv1D(128, 35, activation='tanh'))\n",
    "#     train_test_model.add(GlobalMaxPooling1D())\n",
    "#     train_test_model.add(Dense(64, activation='relu'))\n",
    "#     train_test_model.add(Dropout(0.2))\n",
    "#     train_test_model.add(Dense(1, activation='sigmoid'))\n",
    "#     train_test_model.compile(optimizer=myoptimizer,\n",
    "#                   loss=myloss,\n",
    "#                   metrics=[mymetrics])\n",
    "#     train_test_model.summary()\n",
    "#     return train_test_model"
   ]
  },
  {
   "cell_type": "code",
   "execution_count": 27,
   "metadata": {},
   "outputs": [],
   "source": [
    "# loaded_train_test_model, history_1 , Bpath = fit_train_test_Model()"
   ]
  },
  {
   "cell_type": "code",
   "execution_count": 28,
   "metadata": {},
   "outputs": [],
   "source": [
    "# evaluation(loaded_train_test_model,history_1,X_train,y_train,X_test,y_test)"
   ]
  },
  {
   "cell_type": "code",
   "execution_count": 29,
   "metadata": {},
   "outputs": [],
   "source": [
    "# for delete\n",
    "# evaluation(loaded_train_test_model,history_1,X_train,y_train,X_test,y_test)"
   ]
  },
  {
   "cell_type": "code",
   "execution_count": 16,
   "metadata": {},
   "outputs": [],
   "source": [
    "# clear_session()"
   ]
  },
  {
   "cell_type": "code",
   "execution_count": 17,
   "metadata": {},
   "outputs": [],
   "source": [
    "# # *************************\n",
    "# def Model_without_first_lstm_layer():\n",
    "#     model_wihout_lstm = Sequential()\n",
    "\n",
    "#     model_wihout_lstm.add(layers.InputLayer(input_shape=first_layer_output[0].shape))\n",
    "#     model_wihout_lstm.add(Bidirectional(LSTM(units=32 , return_sequences=True)))\n",
    "\n",
    "#     # TextCNN with 4 conv layers\n",
    "#     model_wihout_lstm.add(Conv1D(128, 7, activation='tanh', input_shape=(None, 32)))\n",
    "#     model_wihout_lstm.add(Conv1D(128, 15, activation='tanh'))\n",
    "#     model_wihout_lstm.add(Conv1D(128, 25, activation='tanh'))\n",
    "#     model_wihout_lstm.add(Conv1D(128, 35, activation='tanh'))\n",
    "#     model_wihout_lstm.add(GlobalMaxPooling1D())\n",
    "#     model_wihout_lstm.add(Dense(64, activation='relu'))\n",
    "#     model_wihout_lstm.add(Dropout(0.2))\n",
    "#     model_wihout_lstm.add(Dense(1, activation='sigmoid'))\n",
    "#     model_wihout_lstm.compile(optimizer=myoptimizer,\n",
    "#                   loss=myloss,\n",
    "#                   metrics=[mymetrics])\n",
    "#     model_wihout_lstm.summary()\n",
    "#     return model_wihout_lstm"
   ]
  },
  {
   "cell_type": "code",
   "execution_count": null,
   "metadata": {},
   "outputs": [],
   "source": []
  },
  {
   "cell_type": "code",
   "execution_count": 18,
   "metadata": {},
   "outputs": [],
   "source": [
    "# # ********************************\n",
    "# def fit_Model_without_first_lstm_layer():\n",
    "#     out_lstm_X_train, out_lstm_X_test, out_lstm_y_train, out_lstm_y_test = train_test_split(first_layer_output, y_Data, test_size=0.25, random_state=1000)\n",
    "#     lX_train_List = chunking_data(out_lstm_X_train,9)\n",
    "#     ly_train_List = chunking_data(out_lstm_y_train,9)\n",
    "#     model_wihout_lstm = Model_without_first_lstm_layer()\n",
    "#     lX_test_List = chunking_data(out_lstm_X_test,9)\n",
    "#     ly_test_List = chunking_data(out_lstm_y_test,9)\n",
    "#     history = model_wihout_lstm.fit(lX_train_List[0], ly_train_List[0],\n",
    "#                         epochs=10,\n",
    "#                         verbose=False,\n",
    "#                         validation_data=(lX_test_List[0], ly_test_List[0]))\n",
    "#     model_wihout_lstm.save(\"model_wihout_lstm.h5\")\n",
    "#     for i in range(1,len(lX_train_List)-1):\n",
    "#         loaded_model_wihout_lstm = load_model(\"model_wihout_lstm.h5\")\n",
    "#         loaded_model_wihout_lstm.fit(lX_train_List[i], ly_train_List[i],\n",
    "#                         epochs=10,\n",
    "#                         verbose=False,\n",
    "#                         validation_data=(lX_test_List[i], ly_test_List[i]))\n",
    "#         loaded_model_wihout_lstm.save(\"model_wihout_lstm.h5\")\n",
    "#     return loaded_model_wihout_lstm,history , out_lstm_X_train, out_lstm_X_test, out_lstm_y_train, out_lstm_y_test , \"model_wihout_lstm.h5\" ,"
   ]
  },
  {
   "cell_type": "code",
   "execution_count": 30,
   "metadata": {},
   "outputs": [],
   "source": [
    "# loaded_model_wihout_lstm,history_2 , out_lstm_X_train, out_lstm_X_test, out_lstm_y_train, out_lstm_y_test , Cpath = fit_Model_without_first_lstm_layer()"
   ]
  },
  {
   "cell_type": "code",
   "execution_count": 31,
   "metadata": {},
   "outputs": [],
   "source": [
    "# evaluation(loaded_model_wihout_lstm,history_2,out_lstm_X_train,out_lstm_y_train,out_lstm_X_test,out_lstm_y_test)"
   ]
  },
  {
   "cell_type": "code",
   "execution_count": 21,
   "metadata": {},
   "outputs": [],
   "source": [
    "# clear_session()"
   ]
  },
  {
   "cell_type": "code",
   "execution_count": 32,
   "metadata": {
    "scrolled": true
   },
   "outputs": [],
   "source": [
    "# for delete\n",
    "# evaluation(loaded_model_wihout_lstm,history_2,out_lstm_X_train,out_lstm_y_train,out_lstm_X_test,out_lstm_y_test)"
   ]
  },
  {
   "cell_type": "code",
   "execution_count": null,
   "metadata": {},
   "outputs": [],
   "source": []
  },
  {
   "cell_type": "code",
   "execution_count": null,
   "metadata": {},
   "outputs": [],
   "source": []
  },
  {
   "cell_type": "code",
   "execution_count": null,
   "metadata": {},
   "outputs": [],
   "source": []
  },
  {
   "cell_type": "code",
   "execution_count": null,
   "metadata": {},
   "outputs": [],
   "source": []
  },
  {
   "cell_type": "code",
   "execution_count": 73,
   "metadata": {},
   "outputs": [],
   "source": [
    "# convert java script code to the abstract syntax tree\n",
    "# then extract the sequences of syntax units with detailed information\n",
    "def sequence_of_syntax_units(scripts):\n",
    "    \"\"\"\n",
    "    sctipts : list or single javascript code \n",
    "    return sequence of syntax units\n",
    "    each syntax unit correspond to line in an abstract syntax tree\n",
    "    \"\"\"\n",
    "    if type(scripts) is list:\n",
    "        # esp.parseScript(script) returns abstract syntax tree of each js scripts\n",
    "        return [re.sub('\\s+', ' ', ''.join(str(esp.parseScript(script)).split('\\n'))) for script in scripts]\n",
    "    elif type(scripts) is str:\n",
    "        return re.sub('\\s+', ' ', ''.join(str(esp.parseScript(scripts)).split('\\n')))\n",
    "    else:\n",
    "        raise ValueError('The type of scripts parameter must be {list or string}')"
   ]
  },
  {
   "cell_type": "code",
   "execution_count": 74,
   "metadata": {},
   "outputs": [
    {
     "data": {
      "text/plain": [
       "'{ type: \"Program\", sourceType: \"script\", body: [ { type: \"VariableDeclaration\", declarations: [ { type: \"VariableDeclarator\", id: { type: \"Identifier\", name: \"fs\" }, init: { type: \"CallExpression\", callee: { type: \"MemberExpression\", computed: False, object: { type: \"Identifier\", name: \"Npm\" }, property: { type: \"Identifier\", name: \"require\" } }, arguments: [ { type: \"Literal\", value: \"fs\", raw: \"\\\\\"fs\\\\\"\" } ] } } ], kind: \"var\" }, { type: \"ExpressionStatement\", expression: { type: \"CallExpression\", callee: { type: \"MemberExpression\", computed: False, object: { type: \"Identifier\", name: \"Package\" }, property: { type: \"Identifier\", name: \"describe\" } }, arguments: [ { type: \"ObjectExpression\", properties: [ { type: \"Property\", key: { type: \"Identifier\", name: \"name\" }, computed: False, value: { type: \"Literal\", value: \"arch:ace-editor\", raw: \"\\'arch:ace-editor\\'\" }, kind: \"init\", method: False, shorthand: False }, { type: \"Property\", key: { type: \"Identifier\", name: \"summary\" }, computed: False, value: { type: \"Literal\", value: \"Integrating Ace editor with Meteor since 2015\", raw: \"\\'Integrating Ace editor with Meteor since 2015\\'\" }, kind: \"init\", method: False, shorthand: False }, { type: \"Property\", key: { type: \"Identifier\", name: \"version\" }, computed: False, value: { type: \"Literal\", value: \"1.1.1\", raw: \"\\'1.1.1\\'\" }, kind: \"init\", method: False, shorthand: False }, { type: \"Property\", key: { type: \"Identifier\", name: \"git\" }, computed: False, value: { type: \"Literal\", value: \"https://github.com/0a-/meteor-ace-editor\", raw: \"\\'https://github.com/0a-/meteor-ace-editor\\'\" }, kind: \"init\", method: False, shorthand: False } ] } ] } }, { type: \"ExpressionStatement\", expression: { type: \"CallExpression\", callee: { type: \"MemberExpression\", computed: False, object: { type: \"Identifier\", name: \"Package\" }, property: { type: \"Identifier\", name: \"onUse\" } }, arguments: [ { type: \"FunctionExpression\", expression: False, isAsync: False, params: [ { type: \"Identifier\", name: \"api\" } ], body: { type: \"BlockStatement\", body: [ { type: \"ExpressionStatement\", expression: { type: \"CallExpression\", callee: { type: \"MemberExpression\", computed: False, object: { type: \"Identifier\", name: \"api\" }, property: { type: \"Identifier\", name: \"versionsFrom\" } }, arguments: [ { type: \"Literal\", value: \"1.0.2.1\", raw: \"\\'1.0.2.1\\'\" } ] } }, { type: \"ExpressionStatement\", expression: { type: \"CallExpression\", callee: { type: \"MemberExpression\", computed: False, object: { type: \"Identifier\", name: \"api\" }, property: { type: \"Identifier\", name: \"use\" } }, arguments: [ { type: \"Literal\", value: \"tracker\", raw: \"\\'tracker\\'\" }, { type: \"Literal\", value: \"client\", raw: \"\\'client\\'\" } ] } }, { type: \"VariableDeclaration\", declarations: [ { type: \"VariableDeclarator\", id: { type: \"Identifier\", name: \"files\" }, init: { type: \"CallExpression\", callee: { type: \"MemberExpression\", computed: False, object: { type: \"Identifier\", name: \"fs\" }, property: { type: \"Identifier\", name: \"readdirSync\" } }, arguments: [ { type: \"Literal\", value: \"ace-builds/src-noconflict\", raw: \"\\'ace-builds/src-noconflict\\'\" } ] } } ], kind: \"var\" }, { type: \"ExpressionStatement\", expression: { type: \"CallExpression\", callee: { type: \"MemberExpression\", computed: False, object: { type: \"Identifier\", name: \"files\" }, property: { type: \"Identifier\", name: \"forEach\" } }, arguments: [ { type: \"FunctionExpression\", expression: False, isAsync: False, params: [ { type: \"Identifier\", name: \"file\" } ], body: { type: \"BlockStatement\", body: [ { type: \"IfStatement\", test: { type: \"BinaryExpression\", operator: \"===\", left: { type: \"CallExpression\", callee: { type: \"MemberExpression\", computed: False, object: { type: \"Identifier\", name: \"file\" }, property: { type: \"Identifier\", name: \"substr\" } }, arguments: [ { type: \"UnaryExpression\", prefix: True, operator: \"-\", argument: { type: \"Literal\", value: 3, raw: \"3\" } } ] }, right: { type: \"Literal\", value: \".js\", raw: \"\\\\\".js\\\\\"\" } }, consequent: { type: \"BlockStatement\", body: [ { type: \"ExpressionStatement\", expression: { type: \"CallExpression\", callee: { type: \"MemberExpression\", computed: False, object: { type: \"Identifier\", name: \"api\" }, property: { type: \"Identifier\", name: \"add_files\" } }, arguments: [ { type: \"BinaryExpression\", operator: \"+\", left: { type: \"Literal\", value: \"ace-builds/src-noconflict/\", raw: \"\\\\\"ace-builds/src-noconflict/\\\\\"\" }, right: { type: \"Identifier\", name: \"file\" } }, { type: \"Literal\", value: \"client\", raw: \"\\\\\"client\\\\\"\" }, { type: \"ObjectExpression\", properties: [ { type: \"Property\", key: { type: \"Identifier\", name: \"isAsset\" }, computed: False, value: { type: \"Literal\", value: True, raw: \"true\" }, kind: \"init\", method: False, shorthand: False } ] } ] } } ] } } ] }, generator: False } ] } }, { type: \"ExpressionStatement\", expression: { type: \"CallExpression\", callee: { type: \"MemberExpression\", computed: False, object: { type: \"Identifier\", name: \"api\" }, property: { type: \"Identifier\", name: \"addFiles\" } }, arguments: [ { type: \"Literal\", value: \"core.js\", raw: \"\\'core.js\\'\" }, { type: \"Literal\", value: \"client\", raw: \"\\'client\\'\" } ] } }, { type: \"ExpressionStatement\", expression: { type: \"CallExpression\", callee: { type: \"MemberExpression\", computed: False, object: { type: \"Identifier\", name: \"api\" }, property: { type: \"Identifier\", name: \"export\" } }, arguments: [ { type: \"Literal\", value: \"AceEditor\", raw: \"\\'AceEditor\\'\" }, { type: \"Literal\", value: \"client\", raw: \"\\'client\\'\" } ] } } ] }, generator: False } ] } }, { type: \"ExpressionStatement\", expression: { type: \"CallExpression\", callee: { type: \"MemberExpression\", computed: False, object: { type: \"Identifier\", name: \"Package\" }, property: { type: \"Identifier\", name: \"onTest\" } }, arguments: [ { type: \"FunctionExpression\", expression: False, isAsync: False, params: [ { type: \"Identifier\", name: \"api\" } ], body: { type: \"BlockStatement\", body: [ { type: \"ExpressionStatement\", expression: { type: \"CallExpression\", callee: { type: \"MemberExpression\", computed: False, object: { type: \"Identifier\", name: \"api\" }, property: { type: \"Identifier\", name: \"use\" } }, arguments: [ { type: \"Literal\", value: \"tinytest\", raw: \"\\'tinytest\\'\" } ] } }, { type: \"ExpressionStatement\", expression: { type: \"CallExpression\", callee: { type: \"MemberExpression\", computed: False, object: { type: \"Identifier\", name: \"api\" }, property: { type: \"Identifier\", name: \"use\" } }, arguments: [ { type: \"Literal\", value: \"arch:ace-editor\", raw: \"\\'arch:ace-editor\\'\" } ] } }, { type: \"ExpressionStatement\", expression: { type: \"CallExpression\", callee: { type: \"MemberExpression\", computed: False, object: { type: \"Identifier\", name: \"api\" }, property: { type: \"Identifier\", name: \"addFiles\" } }, arguments: [ { type: \"Literal\", value: \"tests.js\", raw: \"\\'tests.js\\'\" }, { type: \"Literal\", value: \"client\", raw: \"\\'client\\'\" } ] } } ] }, generator: False } ] } } ]}'"
      ]
     },
     "execution_count": 74,
     "metadata": {},
     "output_type": "execute_result"
    }
   ],
   "source": [
    "# test sequence_of_syntax_units \n",
    "test_script = \"\"\"\n",
    "var fs = Npm.require(\"fs\");\n",
    "\n",
    "Package.describe({\n",
    "  name: 'arch:ace-editor',\n",
    "  summary: 'Integrating Ace editor with Meteor since 2015',\n",
    "  version: '1.1.1',\n",
    "  git: 'https://github.com/0a-/meteor-ace-editor'\n",
    "});\n",
    "\n",
    "Package.onUse(function(api) {\n",
    "  api.versionsFrom('1.0.2.1');\n",
    "  api.use('tracker', 'client');\n",
    "  var files = fs.readdirSync('ace-builds/src-noconflict');\n",
    "  files.forEach(function(file){\n",
    "    if(file.substr(-3)===\".js\"){\n",
    "        api.add_files(\"ace-builds/src-noconflict/\"+file, \"client\", {isAsset: true});\n",
    "    }\n",
    "  });\n",
    "  api.addFiles('core.js','client');\n",
    "  api.export('AceEditor','client');\n",
    "});\n",
    "\n",
    "Package.onTest(function(api) {\n",
    "  api.use('tinytest');\n",
    "  api.use('arch:ace-editor');\n",
    "  api.addFiles('tests.js','client');\n",
    "});\n",
    "\n",
    "\"\"\"\n",
    "sequence_of_syntax_units(test_script)"
   ]
  },
  {
   "cell_type": "code",
   "execution_count": 40,
   "metadata": {},
   "outputs": [],
   "source": [
    "import gensim \n",
    "from nltk.tokenize import word_tokenize\n",
    "import pickle \n",
    "\n",
    "############################\n",
    "MODEL_FILENAME= 'static_word2vec.txt'\n",
    "TRAIN_DATA_FILENAME= 'train_data.pkl'\n",
    "MAX_LENGTH= 1024\n",
    "EMBEDDING_DIM=50\n",
    "############################\n",
    "\n",
    "# create word tokens\n",
    "def sequence_of_syntax_units_to_tokens(seq_of_syn_units):\n",
    "    \"\"\"\n",
    "    Convert Sequence of syntax units to tokens to train  word2vec model \n",
    "    -----------------------------------------\n",
    "    seq_of_syn_units: list of sequence syntax units correspond to abstract syntax trees\n",
    "    \"\"\"\n",
    "    return list(map(word_tokenize, seq_of_syn_units))"
   ]
  },
  {
   "cell_type": "code",
   "execution_count": 41,
   "metadata": {},
   "outputs": [],
   "source": [
    "def preprocessing_dataset(X_train, X_test, max_len=MAX_LENGTH):\n",
    "    \"\"\"\n",
    "    Map tokens to integers to feed them into Embedding layer\n",
    "    \"\"\"\n",
    "    tokenizer = Tokenizer(400000)\n",
    "    tokenizer.fit_on_texts(X_train)\n",
    "    X_train_sequence = tokenizer.texts_to_sequences(X_train)\n",
    "    X_test_sequence = tokenizer.texts_to_sequences(X_test)\n",
    "    return pad_sequences(X_train_sequence, maxlen=max_len, padding='post'), pad_sequences(X_test_sequence, maxlen=max_len, padding='post')"
   ]
  },
  {
   "cell_type": "code",
   "execution_count": 42,
   "metadata": {},
   "outputs": [],
   "source": [
    "def extract_js_code_with_no_tag(code):\n",
    "    return  list(map(lambda x: re.sub(r';', ' ; ', x), re.findall(r'javascript:(.*?\\(.*?\\))[\\\\/<>]?', code, re.IGNORECASE)))\n",
    " \n",
    "def extract_js_code(script):\n",
    "    #list all the scripts tags\n",
    "    internal_js = re.findall(r'<script>?(.*?\\(.*?\\))[\\\\/<>]?',script , re.IGNORECASE)\n",
    "    # remove unwanted words like javascript keyword and quotes \n",
    "    # add space befor and after semicolon\n",
    "    clean_js_codes = []\n",
    "    for code in internal_js:\n",
    "        if re.search(r'javascript', code):\n",
    "            clean_js_codes += extract_js_code_with_no_tag(code)  \n",
    "        else:\n",
    "            clean_js_codes.append(re.sub(r';', ' ; ', code))\n",
    "    r = list(set(clean_js_codes + extract_js_code_with_no_tag(script)))\n",
    "    if len(r) == 0:\n",
    "        print(script)\n",
    "    return r"
   ]
  },
  {
   "cell_type": "code",
   "execution_count": 72,
   "metadata": {},
   "outputs": [
    {
     "ename": "NameError",
     "evalue": "name 'i' is not defined",
     "output_type": "error",
     "traceback": [
      "\u001b[1;31m---------------------------------------------------------------------------\u001b[0m",
      "\u001b[1;31mUnicodeDecodeError\u001b[0m                        Traceback (most recent call last)",
      "\u001b[1;32m<ipython-input-72-5e726e1000c3>\u001b[0m in \u001b[0;36m<module>\u001b[1;34m\u001b[0m\n\u001b[0;32m      9\u001b[0m         \u001b[1;32mwith\u001b[0m \u001b[0mopen\u001b[0m\u001b[1;33m(\u001b[0m\u001b[0ms_p\u001b[0m\u001b[1;33m)\u001b[0m \u001b[1;32mas\u001b[0m \u001b[0mjs_file\u001b[0m\u001b[1;33m:\u001b[0m\u001b[1;33m\u001b[0m\u001b[1;33m\u001b[0m\u001b[0m\n\u001b[1;32m---> 10\u001b[1;33m             \u001b[0mscript\u001b[0m \u001b[1;33m=\u001b[0m \u001b[0mjs_file\u001b[0m\u001b[1;33m.\u001b[0m\u001b[0mreadlines\u001b[0m\u001b[1;33m(\u001b[0m\u001b[1;33m)\u001b[0m\u001b[1;33m\u001b[0m\u001b[1;33m\u001b[0m\u001b[0m\n\u001b[0m\u001b[0;32m     11\u001b[0m         \u001b[0mscripts\u001b[0m\u001b[1;33m.\u001b[0m\u001b[0mappend\u001b[0m\u001b[1;33m(\u001b[0m\u001b[0mscript\u001b[0m\u001b[1;33m)\u001b[0m\u001b[1;33m\u001b[0m\u001b[1;33m\u001b[0m\u001b[0m\n",
      "\u001b[1;32mC:\\ProgramData\\Anaconda3\\lib\\encodings\\cp1252.py\u001b[0m in \u001b[0;36mdecode\u001b[1;34m(self, input, final)\u001b[0m\n\u001b[0;32m     22\u001b[0m     \u001b[1;32mdef\u001b[0m \u001b[0mdecode\u001b[0m\u001b[1;33m(\u001b[0m\u001b[0mself\u001b[0m\u001b[1;33m,\u001b[0m \u001b[0minput\u001b[0m\u001b[1;33m,\u001b[0m \u001b[0mfinal\u001b[0m\u001b[1;33m=\u001b[0m\u001b[1;32mFalse\u001b[0m\u001b[1;33m)\u001b[0m\u001b[1;33m:\u001b[0m\u001b[1;33m\u001b[0m\u001b[1;33m\u001b[0m\u001b[0m\n\u001b[1;32m---> 23\u001b[1;33m         \u001b[1;32mreturn\u001b[0m \u001b[0mcodecs\u001b[0m\u001b[1;33m.\u001b[0m\u001b[0mcharmap_decode\u001b[0m\u001b[1;33m(\u001b[0m\u001b[0minput\u001b[0m\u001b[1;33m,\u001b[0m\u001b[0mself\u001b[0m\u001b[1;33m.\u001b[0m\u001b[0merrors\u001b[0m\u001b[1;33m,\u001b[0m\u001b[0mdecoding_table\u001b[0m\u001b[1;33m)\u001b[0m\u001b[1;33m[\u001b[0m\u001b[1;36m0\u001b[0m\u001b[1;33m]\u001b[0m\u001b[1;33m\u001b[0m\u001b[1;33m\u001b[0m\u001b[0m\n\u001b[0m\u001b[0;32m     24\u001b[0m \u001b[1;33m\u001b[0m\u001b[0m\n",
      "\u001b[1;31mUnicodeDecodeError\u001b[0m: 'charmap' codec can't decode byte 0x81 in position 310: character maps to <undefined>",
      "\nDuring handling of the above exception, another exception occurred:\n",
      "\u001b[1;31mNameError\u001b[0m                                 Traceback (most recent call last)",
      "\u001b[1;32m<ipython-input-72-5e726e1000c3>\u001b[0m in \u001b[0;36m<module>\u001b[1;34m\u001b[0m\n\u001b[0;32m     15\u001b[0m             \u001b[0mLabel\u001b[0m\u001b[1;33m.\u001b[0m\u001b[0mappend\u001b[0m\u001b[1;33m(\u001b[0m\u001b[1;36m1\u001b[0m\u001b[1;33m)\u001b[0m\u001b[1;33m\u001b[0m\u001b[1;33m\u001b[0m\u001b[0m\n\u001b[0;32m     16\u001b[0m     \u001b[1;32mexcept\u001b[0m\u001b[1;33m:\u001b[0m\u001b[1;33m\u001b[0m\u001b[1;33m\u001b[0m\u001b[0m\n\u001b[1;32m---> 17\u001b[1;33m         \u001b[0mprint\u001b[0m\u001b[1;33m(\u001b[0m\u001b[0mi\u001b[0m \u001b[1;33m+\u001b[0m \u001b[1;34m\"_ \"\u001b[0m\u001b[1;33m)\u001b[0m\u001b[1;33m\u001b[0m\u001b[1;33m\u001b[0m\u001b[0m\n\u001b[0m\u001b[0;32m     18\u001b[0m \u001b[0mscript_df\u001b[0m\u001b[1;33m[\u001b[0m\u001b[1;34m\"ScriptName\"\u001b[0m\u001b[1;33m]\u001b[0m \u001b[1;33m=\u001b[0m \u001b[0mscripts\u001b[0m\u001b[1;33m\u001b[0m\u001b[1;33m\u001b[0m\u001b[0m\n\u001b[0;32m     19\u001b[0m \u001b[0mscript_df\u001b[0m\u001b[1;33m[\u001b[0m\u001b[1;34m\"Label\"\u001b[0m\u001b[1;33m]\u001b[0m \u001b[1;33m=\u001b[0m \u001b[0mLabel\u001b[0m\u001b[1;33m\u001b[0m\u001b[1;33m\u001b[0m\u001b[0m\n",
      "\u001b[1;31mNameError\u001b[0m: name 'i' is not defined"
     ]
    }
   ],
   "source": [
    "with open(\"G:/JSContanaDataSet/programs_training.txt\", 'r', encoding='utf-8') as file:\n",
    "    path_scripts = file.readlines()\n",
    "script_df = pd.DataFrame(columns=[\"ScriptName\",\"Label\"])\n",
    "scripts = []\n",
    "Label = []\n",
    "for path_script in range(len(path_scripts)-1):\n",
    "    try:\n",
    "        s_p = \"G:/JSContanaDataSet/\"+path_scripts[path_script][:-1]\n",
    "        with open(s_p) as js_file:\n",
    "            script = js_file.readlines()\n",
    "        scripts.append(script)\n",
    "        if path_script%2==0:\n",
    "            Label.append(0)\n",
    "        else:\n",
    "            Label.append(1)\n",
    "    except:\n",
    "        print(i + \"_ \")\n",
    "script_df[\"ScriptName\"] = scripts\n",
    "script_df[\"Label\"] = Label"
   ]
  },
  {
   "cell_type": "code",
   "execution_count": null,
   "metadata": {},
   "outputs": [],
   "source": [
    "script_df.head()"
   ]
  },
  {
   "cell_type": "code",
   "execution_count": 63,
   "metadata": {},
   "outputs": [
    {
     "data": {
      "text/plain": [
       "100000"
      ]
     },
     "execution_count": 63,
     "metadata": {},
     "output_type": "execute_result"
    }
   ],
   "source": [
    "len(path_scripts)"
   ]
  },
  {
   "cell_type": "code",
   "execution_count": 56,
   "metadata": {},
   "outputs": [
    {
     "data": {
      "text/plain": [
       "['/* -*- Mode: C++; tab-width: 2; indent-tabs-mode: nil; c-basic-offset: 2 -*- */\\n',\n",
       " '/* This Source Code Form is subject to the terms of the Mozilla Public\\n',\n",
       " ' * License, v. 2.0. If a copy of the MPL was not distributed with this\\n',\n",
       " ' * file, You can obtain one at http://mozilla.org/MPL/2.0/. */\\n',\n",
       " '\\n',\n",
       " \"var gTestfile = 'regress-472450-04.js';\\n\",\n",
       " '//-----------------------------------------------------------------------------\\n',\n",
       " 'var BUGNUMBER = 472450;\\n',\n",
       " \"var summary = 'TM: Do not assert: StackBase(fp) + blockDepth == regs.sp';\\n\",\n",
       " \"var actual = '';\\n\",\n",
       " \"var expect = '';\\n\",\n",
       " '\\n',\n",
       " '\\n',\n",
       " '//-----------------------------------------------------------------------------\\n',\n",
       " 'test();\\n',\n",
       " '//-----------------------------------------------------------------------------\\n',\n",
       " '\\n',\n",
       " 'function test()\\n',\n",
       " '{\\n',\n",
       " \"  enterFunc ('test');\\n\",\n",
       " '  printBugNumber(BUGNUMBER);\\n',\n",
       " '  printStatus (summary);\\n',\n",
       " ' \\n',\n",
       " '  jit(true);\\n',\n",
       " '\\n',\n",
       " '  ({__proto__: #1=[#1#]});\\n',\n",
       " '  function f(){ \\n',\n",
       " '    eval(\"for (var y = 0; y < 1; ++y) { for each (let z in [null, function(){}, null, \\'\\', null, \\'\\', null]) { let x = 1, c = []; } }\"); \\n',\n",
       " '  }\\n',\n",
       " '  f();\\n',\n",
       " '\\n',\n",
       " '  jit(false);\\n',\n",
       " '\\n',\n",
       " '  reportCompare(expect, actual, summary);\\n',\n",
       " '\\n',\n",
       " \"  exitFunc ('test');\\n\",\n",
       " '}\\n']"
      ]
     },
     "execution_count": 56,
     "metadata": {},
     "output_type": "execute_result"
    }
   ],
   "source": [
    "path_scripts"
   ]
  },
  {
   "cell_type": "code",
   "execution_count": null,
   "metadata": {},
   "outputs": [],
   "source": [
    "print('number of scripts {}'.format(len(scripts)))\n",
    "clean_scripts = []\n",
    "for sc in scripts:\n",
    "    try:\n",
    "        #parse the response HTML page\n",
    "        clean_scripts.append(extract_js_code(sc.strip()))\n",
    "    except:\n",
    "        print(sc)\n",
    "clean_scripts = list(filter(lambda x: len(x)>0, clean_scripts))\n",
    "print('number of clean scripts: {}'.format(len(clean_scripts)))"
   ]
  },
  {
   "cell_type": "code",
   "execution_count": null,
   "metadata": {},
   "outputs": [],
   "source": [
    "dataset = []\n",
    "for sc in clean_scripts:\n",
    "    for s in sc:\n",
    "        try:\n",
    "            sequence_of_syntax_units(s)\n",
    "            dataset.append(s)\n",
    "        except:\n",
    "            print(sc)"
   ]
  },
  {
   "cell_type": "code",
   "execution_count": null,
   "metadata": {},
   "outputs": [],
   "source": [
    "target = [1] * 181"
   ]
  },
  {
   "cell_type": "code",
   "execution_count": null,
   "metadata": {},
   "outputs": [],
   "source": [
    "len(dataset)"
   ]
  },
  {
   "cell_type": "code",
   "execution_count": null,
   "metadata": {},
   "outputs": [],
   "source": [
    "outputs = [layer.output for layer in model.layers]\n",
    "outputs"
   ]
  },
  {
   "cell_type": "code",
   "execution_count": null,
   "metadata": {},
   "outputs": [],
   "source": [
    "plot_model(model, show_shapes=True)"
   ]
  },
  {
   "cell_type": "code",
   "execution_count": null,
   "metadata": {},
   "outputs": [],
   "source": []
  },
  {
   "cell_type": "code",
   "execution_count": null,
   "metadata": {},
   "outputs": [],
   "source": []
  }
 ],
 "metadata": {
  "kernelspec": {
   "display_name": "Python 3",
   "language": "python",
   "name": "python3"
  },
  "language_info": {
   "codemirror_mode": {
    "name": "ipython",
    "version": 3
   },
   "file_extension": ".py",
   "mimetype": "text/x-python",
   "name": "python",
   "nbconvert_exporter": "python",
   "pygments_lexer": "ipython3",
   "version": "3.7.6"
  }
 },
 "nbformat": 4,
 "nbformat_minor": 4
}
