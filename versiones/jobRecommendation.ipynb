{
 "cells": [
  {
   "cell_type": "code",
   "execution_count": 7,
   "metadata": {
    "id": "BMXmD1NVSJES"
   },
   "outputs": [],
   "source": []
  },
  {
   "cell_type": "code",
   "execution_count": 1,
   "metadata": {},
   "outputs": [],
   "source": [
    "from typing import Dict\n",
    "\n",
    "drones_setting = fix_drones_settings({})\n",
    "\n",
    "\n"
   ]
  },
  {
   "cell_type": "code",
   "execution_count": null,
   "metadata": {},
   "outputs": [],
   "source": []
  },
  {
   "cell_type": "code",
   "execution_count": null,
   "metadata": {},
   "outputs": [],
   "source": []
  },
  {
   "cell_type": "code",
   "execution_count": null,
   "metadata": {},
   "outputs": [],
   "source": [
    "import pandas as pd\n",
    "import re\n",
    "import numpy as np \n",
    "from collections import Counter"
   ]
  },
  {
   "cell_type": "code",
   "execution_count": 8,
   "metadata": {
    "colab": {
     "base_uri": "https://localhost:8080/"
    },
    "id": "UHRkP4CuVwKl",
    "outputId": "0b85a249-7243-41ef-f2ec-7c73df38784a"
   },
   "outputs": [
    {
     "name": "stdout",
     "output_type": "stream",
     "text": [
      "Looking in indexes: https://pypi.org/simple, https://us-python.pkg.dev/colab-wheels/public/simple/\n",
      "Collecting Arabic-Stopwords\n",
      "  Downloading Arabic_Stopwords-0.3-py3-none-any.whl (353 kB)\n",
      "\u001b[K     |████████████████████████████████| 353 kB 41.4 MB/s \n",
      "\u001b[?25hCollecting pyarabic>=0.6.2\n",
      "  Downloading PyArabic-0.6.15-py3-none-any.whl (126 kB)\n",
      "\u001b[K     |████████████████████████████████| 126 kB 96.0 MB/s \n",
      "\u001b[?25hRequirement already satisfied: six>=1.14.0 in /usr/local/lib/python3.7/dist-packages (from pyarabic>=0.6.2->Arabic-Stopwords) (1.15.0)\n",
      "Installing collected packages: pyarabic, Arabic-Stopwords\n",
      "Successfully installed Arabic-Stopwords-0.3 pyarabic-0.6.15\n"
     ]
    }
   ],
   "source": [
    "!pip install Arabic-Stopwords"
   ]
  },
  {
   "cell_type": "code",
   "execution_count": 9,
   "metadata": {
    "id": "68VipmVPV17p"
   },
   "outputs": [],
   "source": [
    "import arabicstopwords.arabicstopwords as stp"
   ]
  },
  {
   "cell_type": "code",
   "execution_count": 3,
   "metadata": {
    "colab": {
     "base_uri": "https://localhost:8080/",
     "height": 206
    },
    "id": "wM4BupPST6Lv",
    "outputId": "73adfe39-6148-4626-a987-16f1b7bf3336"
   },
   "outputs": [
    {
     "data": {
      "text/html": [
       "\n",
       "  <div id=\"df-07d22999-72b7-44f3-aa01-67edaa16219e\">\n",
       "    <div class=\"colab-df-container\">\n",
       "      <div>\n",
       "<style scoped>\n",
       "    .dataframe tbody tr th:only-of-type {\n",
       "        vertical-align: middle;\n",
       "    }\n",
       "\n",
       "    .dataframe tbody tr th {\n",
       "        vertical-align: top;\n",
       "    }\n",
       "\n",
       "    .dataframe thead th {\n",
       "        text-align: right;\n",
       "    }\n",
       "</style>\n",
       "<table border=\"1\" class=\"dataframe\">\n",
       "  <thead>\n",
       "    <tr style=\"text-align: right;\">\n",
       "      <th></th>\n",
       "      <th>نمط الشخصية</th>\n",
       "      <th>العمل</th>\n",
       "    </tr>\n",
       "  </thead>\n",
       "  <tbody>\n",
       "    <tr>\n",
       "      <th>0</th>\n",
       "      <td>ESFJ</td>\n",
       "      <td>مندوب مبيعات -عامل رعاية صحية -عامل اجتماعي تن...</td>\n",
       "    </tr>\n",
       "    <tr>\n",
       "      <th>1</th>\n",
       "      <td>ESTJ</td>\n",
       "      <td>وكيل مبيعات التأمين -صيدلاني -محامي - قاضي -مد...</td>\n",
       "    </tr>\n",
       "    <tr>\n",
       "      <th>2</th>\n",
       "      <td>ESFP</td>\n",
       "      <td>مستشار رعاية الطفل -الممثل -عالم بيئي -مصمم داخلي</td>\n",
       "    </tr>\n",
       "    <tr>\n",
       "      <th>3</th>\n",
       "      <td>ENTP</td>\n",
       "      <td>ريادي -مطور عقارات -مدير إبداعي للدعاية والإعل...</td>\n",
       "    </tr>\n",
       "    <tr>\n",
       "      <th>4</th>\n",
       "      <td>ESTP</td>\n",
       "      <td>مصرفي -محقق -المستثمر -وكيل الترفيه -مدرب رياضي</td>\n",
       "    </tr>\n",
       "  </tbody>\n",
       "</table>\n",
       "</div>\n",
       "      <button class=\"colab-df-convert\" onclick=\"convertToInteractive('df-07d22999-72b7-44f3-aa01-67edaa16219e')\"\n",
       "              title=\"Convert this dataframe to an interactive table.\"\n",
       "              style=\"display:none;\">\n",
       "        \n",
       "  <svg xmlns=\"http://www.w3.org/2000/svg\" height=\"24px\"viewBox=\"0 0 24 24\"\n",
       "       width=\"24px\">\n",
       "    <path d=\"M0 0h24v24H0V0z\" fill=\"none\"/>\n",
       "    <path d=\"M18.56 5.44l.94 2.06.94-2.06 2.06-.94-2.06-.94-.94-2.06-.94 2.06-2.06.94zm-11 1L8.5 8.5l.94-2.06 2.06-.94-2.06-.94L8.5 2.5l-.94 2.06-2.06.94zm10 10l.94 2.06.94-2.06 2.06-.94-2.06-.94-.94-2.06-.94 2.06-2.06.94z\"/><path d=\"M17.41 7.96l-1.37-1.37c-.4-.4-.92-.59-1.43-.59-.52 0-1.04.2-1.43.59L10.3 9.45l-7.72 7.72c-.78.78-.78 2.05 0 2.83L4 21.41c.39.39.9.59 1.41.59.51 0 1.02-.2 1.41-.59l7.78-7.78 2.81-2.81c.8-.78.8-2.07 0-2.86zM5.41 20L4 18.59l7.72-7.72 1.47 1.35L5.41 20z\"/>\n",
       "  </svg>\n",
       "      </button>\n",
       "      \n",
       "  <style>\n",
       "    .colab-df-container {\n",
       "      display:flex;\n",
       "      flex-wrap:wrap;\n",
       "      gap: 12px;\n",
       "    }\n",
       "\n",
       "    .colab-df-convert {\n",
       "      background-color: #E8F0FE;\n",
       "      border: none;\n",
       "      border-radius: 50%;\n",
       "      cursor: pointer;\n",
       "      display: none;\n",
       "      fill: #1967D2;\n",
       "      height: 32px;\n",
       "      padding: 0 0 0 0;\n",
       "      width: 32px;\n",
       "    }\n",
       "\n",
       "    .colab-df-convert:hover {\n",
       "      background-color: #E2EBFA;\n",
       "      box-shadow: 0px 1px 2px rgba(60, 64, 67, 0.3), 0px 1px 3px 1px rgba(60, 64, 67, 0.15);\n",
       "      fill: #174EA6;\n",
       "    }\n",
       "\n",
       "    [theme=dark] .colab-df-convert {\n",
       "      background-color: #3B4455;\n",
       "      fill: #D2E3FC;\n",
       "    }\n",
       "\n",
       "    [theme=dark] .colab-df-convert:hover {\n",
       "      background-color: #434B5C;\n",
       "      box-shadow: 0px 1px 3px 1px rgba(0, 0, 0, 0.15);\n",
       "      filter: drop-shadow(0px 1px 2px rgba(0, 0, 0, 0.3));\n",
       "      fill: #FFFFFF;\n",
       "    }\n",
       "  </style>\n",
       "\n",
       "      <script>\n",
       "        const buttonEl =\n",
       "          document.querySelector('#df-07d22999-72b7-44f3-aa01-67edaa16219e button.colab-df-convert');\n",
       "        buttonEl.style.display =\n",
       "          google.colab.kernel.accessAllowed ? 'block' : 'none';\n",
       "\n",
       "        async function convertToInteractive(key) {\n",
       "          const element = document.querySelector('#df-07d22999-72b7-44f3-aa01-67edaa16219e');\n",
       "          const dataTable =\n",
       "            await google.colab.kernel.invokeFunction('convertToInteractive',\n",
       "                                                     [key], {});\n",
       "          if (!dataTable) return;\n",
       "\n",
       "          const docLinkHtml = 'Like what you see? Visit the ' +\n",
       "            '<a target=\"_blank\" href=https://colab.research.google.com/notebooks/data_table.ipynb>data table notebook</a>'\n",
       "            + ' to learn more about interactive tables.';\n",
       "          element.innerHTML = '';\n",
       "          dataTable['output_type'] = 'display_data';\n",
       "          await google.colab.output.renderOutput(dataTable, element);\n",
       "          const docLink = document.createElement('div');\n",
       "          docLink.innerHTML = docLinkHtml;\n",
       "          element.appendChild(docLink);\n",
       "        }\n",
       "      </script>\n",
       "    </div>\n",
       "  </div>\n",
       "  "
      ],
      "text/plain": [
       "   نمط الشخصية                                              العمل\n",
       "0         ESFJ  مندوب مبيعات -عامل رعاية صحية -عامل اجتماعي تن...\n",
       "1         ESTJ  وكيل مبيعات التأمين -صيدلاني -محامي - قاضي -مد...\n",
       "2         ESFP  مستشار رعاية الطفل -الممثل -عالم بيئي -مصمم داخلي\n",
       "3         ENTP  ريادي -مطور عقارات -مدير إبداعي للدعاية والإعل...\n",
       "4         ESTP    مصرفي -محقق -المستثمر -وكيل الترفيه -مدرب رياضي"
      ]
     },
     "execution_count": 3,
     "metadata": {},
     "output_type": "execute_result"
    }
   ],
   "source": [
    "df = pd.read_excel('/content/Per-job.xlsx')\n",
    "df.head()"
   ]
  },
  {
   "cell_type": "code",
   "execution_count": 6,
   "metadata": {
    "colab": {
     "base_uri": "https://localhost:8080/"
    },
    "id": "17Z8c7IsZZML",
    "outputId": "345f40e3-ce40-4ea6-9401-cc070f7f3b48"
   },
   "outputs": [
    {
     "data": {
      "text/plain": [
       "0     مندوب مبيعات -عامل رعاية صحية -عامل اجتماعي تن...\n",
       "1     وكيل مبيعات التأمين -صيدلاني -محامي - قاضي -مد...\n",
       "2     مستشار رعاية الطفل -الممثل -عالم بيئي -مصمم داخلي\n",
       "3     ريادي -مطور عقارات -مدير إبداعي للدعاية والإعل...\n",
       "4       مصرفي -محقق -المستثمر -وكيل الترفيه -مدرب رياضي\n",
       "5         تنفيذي -محامي - محلل بحوث السوق -مستشار إداري\n",
       "6     مبرمج حاسوب- مصمم برمجيات -محلل مالي- معماري- ...\n",
       "7                   صحفي - منظم احداث - مدير مطعم -مخرج\n",
       "8     إعلان تنفيذي -  مدرب للشركات -  متخصص موارد بش...\n",
       "9     مهندس مدني - اقتصادي - طيار - محلل بيانات التو...\n",
       "10    مدقق حسابات -محاسب -المدير المالي- مهندس برمجي...\n",
       "11    طبيب اسنان - مكتبي - معلم بمدرسة - ممثل خدمة ا...\n",
       "12    مصرفي استثماري -مستشار مالي شخصي -تنفيذي- مطور...\n",
       "13    مصمم ازياء - معالج فيزيائي - مهندس المناظر الط...\n",
       "14    معالج فيزيائي - مدير موارد بشرية - مصمم واجهات...\n",
       "15    معالج فيزيائي - مدير موارد بشرية - موظف شؤون ا...\n",
       "Name: العمل, dtype: object"
      ]
     },
     "execution_count": 6,
     "metadata": {},
     "output_type": "execute_result"
    }
   ],
   "source": [
    "df['العمل']"
   ]
  },
  {
   "cell_type": "code",
   "execution_count": 5,
   "metadata": {
    "colab": {
     "base_uri": "https://localhost:8080/",
     "height": 206
    },
    "id": "p3n9rC35YhpX",
    "outputId": "95cbc366-a49e-4de4-bd26-05f5da5f2f79"
   },
   "outputs": [
    {
     "data": {
      "text/html": [
       "\n",
       "  <div id=\"df-cfd1d6c1-edef-4089-9374-e0d5b0e7bad0\">\n",
       "    <div class=\"colab-df-container\">\n",
       "      <div>\n",
       "<style scoped>\n",
       "    .dataframe tbody tr th:only-of-type {\n",
       "        vertical-align: middle;\n",
       "    }\n",
       "\n",
       "    .dataframe tbody tr th {\n",
       "        vertical-align: top;\n",
       "    }\n",
       "\n",
       "    .dataframe thead th {\n",
       "        text-align: right;\n",
       "    }\n",
       "</style>\n",
       "<table border=\"1\" class=\"dataframe\">\n",
       "  <thead>\n",
       "    <tr style=\"text-align: right;\">\n",
       "      <th></th>\n",
       "      <th>personality</th>\n",
       "      <th>username</th>\n",
       "      <th>tweet</th>\n",
       "    </tr>\n",
       "  </thead>\n",
       "  <tbody>\n",
       "    <tr>\n",
       "      <th>0</th>\n",
       "      <td>ESFJ</td>\n",
       "      <td>rubie2113</td>\n",
       "      <td>T 2228-اليوم: مي فقدت تشيلسي فقدت نصي القراءة ...</td>\n",
       "    </tr>\n",
       "    <tr>\n",
       "      <th>1</th>\n",
       "      <td>ESTJ</td>\n",
       "      <td>PixieEj</td>\n",
       "      <td>#Anastasia الموسيقية وتهدف إلى برودواي القادم ...</td>\n",
       "    </tr>\n",
       "    <tr>\n",
       "      <th>2</th>\n",
       "      <td>ISTJ</td>\n",
       "      <td>GemORdie</td>\n",
       "      <td>كولكارني حصلت الضربات مع الكرة ويحصل الآن أربع...</td>\n",
       "    </tr>\n",
       "    <tr>\n",
       "      <th>3</th>\n",
       "      <td>ESFP</td>\n",
       "      <td>AlnasserEnad</td>\n",
       "      <td>زمبابوي: \"سنغافورة خيار\" في النية https://t.co...</td>\n",
       "    </tr>\n",
       "    <tr>\n",
       "      <th>4</th>\n",
       "      <td>ISFJ</td>\n",
       "      <td>BunchDevJay</td>\n",
       "      <td>6 الدروس باتنجالي يعلم سلع استهلاكية القطاع ht...</td>\n",
       "    </tr>\n",
       "  </tbody>\n",
       "</table>\n",
       "</div>\n",
       "      <button class=\"colab-df-convert\" onclick=\"convertToInteractive('df-cfd1d6c1-edef-4089-9374-e0d5b0e7bad0')\"\n",
       "              title=\"Convert this dataframe to an interactive table.\"\n",
       "              style=\"display:none;\">\n",
       "        \n",
       "  <svg xmlns=\"http://www.w3.org/2000/svg\" height=\"24px\"viewBox=\"0 0 24 24\"\n",
       "       width=\"24px\">\n",
       "    <path d=\"M0 0h24v24H0V0z\" fill=\"none\"/>\n",
       "    <path d=\"M18.56 5.44l.94 2.06.94-2.06 2.06-.94-2.06-.94-.94-2.06-.94 2.06-2.06.94zm-11 1L8.5 8.5l.94-2.06 2.06-.94-2.06-.94L8.5 2.5l-.94 2.06-2.06.94zm10 10l.94 2.06.94-2.06 2.06-.94-2.06-.94-.94-2.06-.94 2.06-2.06.94z\"/><path d=\"M17.41 7.96l-1.37-1.37c-.4-.4-.92-.59-1.43-.59-.52 0-1.04.2-1.43.59L10.3 9.45l-7.72 7.72c-.78.78-.78 2.05 0 2.83L4 21.41c.39.39.9.59 1.41.59.51 0 1.02-.2 1.41-.59l7.78-7.78 2.81-2.81c.8-.78.8-2.07 0-2.86zM5.41 20L4 18.59l7.72-7.72 1.47 1.35L5.41 20z\"/>\n",
       "  </svg>\n",
       "      </button>\n",
       "      \n",
       "  <style>\n",
       "    .colab-df-container {\n",
       "      display:flex;\n",
       "      flex-wrap:wrap;\n",
       "      gap: 12px;\n",
       "    }\n",
       "\n",
       "    .colab-df-convert {\n",
       "      background-color: #E8F0FE;\n",
       "      border: none;\n",
       "      border-radius: 50%;\n",
       "      cursor: pointer;\n",
       "      display: none;\n",
       "      fill: #1967D2;\n",
       "      height: 32px;\n",
       "      padding: 0 0 0 0;\n",
       "      width: 32px;\n",
       "    }\n",
       "\n",
       "    .colab-df-convert:hover {\n",
       "      background-color: #E2EBFA;\n",
       "      box-shadow: 0px 1px 2px rgba(60, 64, 67, 0.3), 0px 1px 3px 1px rgba(60, 64, 67, 0.15);\n",
       "      fill: #174EA6;\n",
       "    }\n",
       "\n",
       "    [theme=dark] .colab-df-convert {\n",
       "      background-color: #3B4455;\n",
       "      fill: #D2E3FC;\n",
       "    }\n",
       "\n",
       "    [theme=dark] .colab-df-convert:hover {\n",
       "      background-color: #434B5C;\n",
       "      box-shadow: 0px 1px 3px 1px rgba(0, 0, 0, 0.15);\n",
       "      filter: drop-shadow(0px 1px 2px rgba(0, 0, 0, 0.3));\n",
       "      fill: #FFFFFF;\n",
       "    }\n",
       "  </style>\n",
       "\n",
       "      <script>\n",
       "        const buttonEl =\n",
       "          document.querySelector('#df-cfd1d6c1-edef-4089-9374-e0d5b0e7bad0 button.colab-df-convert');\n",
       "        buttonEl.style.display =\n",
       "          google.colab.kernel.accessAllowed ? 'block' : 'none';\n",
       "\n",
       "        async function convertToInteractive(key) {\n",
       "          const element = document.querySelector('#df-cfd1d6c1-edef-4089-9374-e0d5b0e7bad0');\n",
       "          const dataTable =\n",
       "            await google.colab.kernel.invokeFunction('convertToInteractive',\n",
       "                                                     [key], {});\n",
       "          if (!dataTable) return;\n",
       "\n",
       "          const docLinkHtml = 'Like what you see? Visit the ' +\n",
       "            '<a target=\"_blank\" href=https://colab.research.google.com/notebooks/data_table.ipynb>data table notebook</a>'\n",
       "            + ' to learn more about interactive tables.';\n",
       "          element.innerHTML = '';\n",
       "          dataTable['output_type'] = 'display_data';\n",
       "          await google.colab.output.renderOutput(dataTable, element);\n",
       "          const docLink = document.createElement('div');\n",
       "          docLink.innerHTML = docLinkHtml;\n",
       "          element.appendChild(docLink);\n",
       "        }\n",
       "      </script>\n",
       "    </div>\n",
       "  </div>\n",
       "  "
      ],
      "text/plain": [
       "  personality      username                                              tweet\n",
       "0        ESFJ     rubie2113  T 2228-اليوم: مي فقدت تشيلسي فقدت نصي القراءة ...\n",
       "1        ESTJ       PixieEj  #Anastasia الموسيقية وتهدف إلى برودواي القادم ...\n",
       "2        ISTJ      GemORdie  كولكارني حصلت الضربات مع الكرة ويحصل الآن أربع...\n",
       "3        ESFP  AlnasserEnad  زمبابوي: \"سنغافورة خيار\" في النية https://t.co...\n",
       "4        ISFJ   BunchDevJay  6 الدروس باتنجالي يعلم سلع استهلاكية القطاع ht..."
      ]
     },
     "execution_count": 5,
     "metadata": {},
     "output_type": "execute_result"
    }
   ],
   "source": [
    "tweets = pd.read_csv('train.txt', delimiter=',')\n",
    "tweets.head()"
   ]
  },
  {
   "cell_type": "code",
   "execution_count": 12,
   "metadata": {
    "id": "u8HJRtYXZdNM"
   },
   "outputs": [],
   "source": [
    "df['العمل'] = df['العمل'].apply(lambda x: np.random.choice(x.split()))"
   ]
  },
  {
   "cell_type": "code",
   "execution_count": 13,
   "metadata": {
    "id": "HPrxmBMBHJFy"
   },
   "outputs": [],
   "source": [
    "tweets['job'] = df['العمل']"
   ]
  },
  {
   "cell_type": "code",
   "execution_count": 14,
   "metadata": {
    "id": "202cGjOnaHiH"
   },
   "outputs": [],
   "source": [
    "df = tweets"
   ]
  },
  {
   "cell_type": "code",
   "execution_count": 15,
   "metadata": {
    "id": "YsFGFSoqUDnu"
   },
   "outputs": [],
   "source": [
    "# clean the text \n",
    "def clean_text(tweet):\n",
    "    tweet = re.sub(r\"([@A-Za-z0-9_ـــــــــــــ]+)|[^\\w\\s]|#|http\\S+\", \" \", tweet)\n",
    "    tweet = \" \".join([word for word in tweet.split() if not stp.is_stop(u\"{}\".format(word))])\n",
    "    return tweet \n",
    "\n"
   ]
  },
  {
   "cell_type": "code",
   "execution_count": 16,
   "metadata": {
    "id": "ORW8Q2Q7UM8U"
   },
   "outputs": [],
   "source": [
    "df['clean_tweet'] = df['tweet'].apply(clean_text)"
   ]
  },
  {
   "cell_type": "code",
   "execution_count": 17,
   "metadata": {
    "colab": {
     "base_uri": "https://localhost:8080/",
     "height": 206
    },
    "id": "i2w1zH1vU1LI",
    "outputId": "2229d172-e32c-473e-f04a-2bd5b8fef75f"
   },
   "outputs": [
    {
     "data": {
      "text/html": [
       "\n",
       "  <div id=\"df-88ef3fad-ff95-4961-a8ff-b75a08b24411\">\n",
       "    <div class=\"colab-df-container\">\n",
       "      <div>\n",
       "<style scoped>\n",
       "    .dataframe tbody tr th:only-of-type {\n",
       "        vertical-align: middle;\n",
       "    }\n",
       "\n",
       "    .dataframe tbody tr th {\n",
       "        vertical-align: top;\n",
       "    }\n",
       "\n",
       "    .dataframe thead th {\n",
       "        text-align: right;\n",
       "    }\n",
       "</style>\n",
       "<table border=\"1\" class=\"dataframe\">\n",
       "  <thead>\n",
       "    <tr style=\"text-align: right;\">\n",
       "      <th></th>\n",
       "      <th>personality</th>\n",
       "      <th>username</th>\n",
       "      <th>tweet</th>\n",
       "      <th>job</th>\n",
       "      <th>clean_tweet</th>\n",
       "    </tr>\n",
       "  </thead>\n",
       "  <tbody>\n",
       "    <tr>\n",
       "      <th>0</th>\n",
       "      <td>ESFJ</td>\n",
       "      <td>rubie2113</td>\n",
       "      <td>T 2228-اليوم: مي فقدت تشيلسي فقدت نصي القراءة ...</td>\n",
       "      <td>تنفيذي</td>\n",
       "      <td>اليوم مي فقدت تشيلسي فقدت نصي القراءة المفقودة...</td>\n",
       "    </tr>\n",
       "    <tr>\n",
       "      <th>1</th>\n",
       "      <td>ESTJ</td>\n",
       "      <td>PixieEj</td>\n",
       "      <td>#Anastasia الموسيقية وتهدف إلى برودواي القادم ...</td>\n",
       "      <td>-محامي</td>\n",
       "      <td>الموسيقية وتهدف برودواي القادم موسم</td>\n",
       "    </tr>\n",
       "    <tr>\n",
       "      <th>2</th>\n",
       "      <td>ISTJ</td>\n",
       "      <td>GemORdie</td>\n",
       "      <td>كولكارني حصلت الضربات مع الكرة ويحصل الآن أربع...</td>\n",
       "      <td>-عالم</td>\n",
       "      <td>كولكارني حصلت الضربات الكرة ويحصل أربعة المبار...</td>\n",
       "    </tr>\n",
       "    <tr>\n",
       "      <th>3</th>\n",
       "      <td>ESFP</td>\n",
       "      <td>AlnasserEnad</td>\n",
       "      <td>زمبابوي: \"سنغافورة خيار\" في النية https://t.co...</td>\n",
       "      <td>-سياسي</td>\n",
       "      <td>زمبابوي سنغافورة خيار النية الولادة تعطي كشف م...</td>\n",
       "    </tr>\n",
       "    <tr>\n",
       "      <th>4</th>\n",
       "      <td>ISFJ</td>\n",
       "      <td>BunchDevJay</td>\n",
       "      <td>6 الدروس باتنجالي يعلم سلع استهلاكية القطاع ht...</td>\n",
       "      <td>رياضي</td>\n",
       "      <td>الدروس باتنجالي يعلم سلع استهلاكية القطاع للهند</td>\n",
       "    </tr>\n",
       "  </tbody>\n",
       "</table>\n",
       "</div>\n",
       "      <button class=\"colab-df-convert\" onclick=\"convertToInteractive('df-88ef3fad-ff95-4961-a8ff-b75a08b24411')\"\n",
       "              title=\"Convert this dataframe to an interactive table.\"\n",
       "              style=\"display:none;\">\n",
       "        \n",
       "  <svg xmlns=\"http://www.w3.org/2000/svg\" height=\"24px\"viewBox=\"0 0 24 24\"\n",
       "       width=\"24px\">\n",
       "    <path d=\"M0 0h24v24H0V0z\" fill=\"none\"/>\n",
       "    <path d=\"M18.56 5.44l.94 2.06.94-2.06 2.06-.94-2.06-.94-.94-2.06-.94 2.06-2.06.94zm-11 1L8.5 8.5l.94-2.06 2.06-.94-2.06-.94L8.5 2.5l-.94 2.06-2.06.94zm10 10l.94 2.06.94-2.06 2.06-.94-2.06-.94-.94-2.06-.94 2.06-2.06.94z\"/><path d=\"M17.41 7.96l-1.37-1.37c-.4-.4-.92-.59-1.43-.59-.52 0-1.04.2-1.43.59L10.3 9.45l-7.72 7.72c-.78.78-.78 2.05 0 2.83L4 21.41c.39.39.9.59 1.41.59.51 0 1.02-.2 1.41-.59l7.78-7.78 2.81-2.81c.8-.78.8-2.07 0-2.86zM5.41 20L4 18.59l7.72-7.72 1.47 1.35L5.41 20z\"/>\n",
       "  </svg>\n",
       "      </button>\n",
       "      \n",
       "  <style>\n",
       "    .colab-df-container {\n",
       "      display:flex;\n",
       "      flex-wrap:wrap;\n",
       "      gap: 12px;\n",
       "    }\n",
       "\n",
       "    .colab-df-convert {\n",
       "      background-color: #E8F0FE;\n",
       "      border: none;\n",
       "      border-radius: 50%;\n",
       "      cursor: pointer;\n",
       "      display: none;\n",
       "      fill: #1967D2;\n",
       "      height: 32px;\n",
       "      padding: 0 0 0 0;\n",
       "      width: 32px;\n",
       "    }\n",
       "\n",
       "    .colab-df-convert:hover {\n",
       "      background-color: #E2EBFA;\n",
       "      box-shadow: 0px 1px 2px rgba(60, 64, 67, 0.3), 0px 1px 3px 1px rgba(60, 64, 67, 0.15);\n",
       "      fill: #174EA6;\n",
       "    }\n",
       "\n",
       "    [theme=dark] .colab-df-convert {\n",
       "      background-color: #3B4455;\n",
       "      fill: #D2E3FC;\n",
       "    }\n",
       "\n",
       "    [theme=dark] .colab-df-convert:hover {\n",
       "      background-color: #434B5C;\n",
       "      box-shadow: 0px 1px 3px 1px rgba(0, 0, 0, 0.15);\n",
       "      filter: drop-shadow(0px 1px 2px rgba(0, 0, 0, 0.3));\n",
       "      fill: #FFFFFF;\n",
       "    }\n",
       "  </style>\n",
       "\n",
       "      <script>\n",
       "        const buttonEl =\n",
       "          document.querySelector('#df-88ef3fad-ff95-4961-a8ff-b75a08b24411 button.colab-df-convert');\n",
       "        buttonEl.style.display =\n",
       "          google.colab.kernel.accessAllowed ? 'block' : 'none';\n",
       "\n",
       "        async function convertToInteractive(key) {\n",
       "          const element = document.querySelector('#df-88ef3fad-ff95-4961-a8ff-b75a08b24411');\n",
       "          const dataTable =\n",
       "            await google.colab.kernel.invokeFunction('convertToInteractive',\n",
       "                                                     [key], {});\n",
       "          if (!dataTable) return;\n",
       "\n",
       "          const docLinkHtml = 'Like what you see? Visit the ' +\n",
       "            '<a target=\"_blank\" href=https://colab.research.google.com/notebooks/data_table.ipynb>data table notebook</a>'\n",
       "            + ' to learn more about interactive tables.';\n",
       "          element.innerHTML = '';\n",
       "          dataTable['output_type'] = 'display_data';\n",
       "          await google.colab.output.renderOutput(dataTable, element);\n",
       "          const docLink = document.createElement('div');\n",
       "          docLink.innerHTML = docLinkHtml;\n",
       "          element.appendChild(docLink);\n",
       "        }\n",
       "      </script>\n",
       "    </div>\n",
       "  </div>\n",
       "  "
      ],
      "text/plain": [
       "  personality      username  \\\n",
       "0        ESFJ     rubie2113   \n",
       "1        ESTJ       PixieEj   \n",
       "2        ISTJ      GemORdie   \n",
       "3        ESFP  AlnasserEnad   \n",
       "4        ISFJ   BunchDevJay   \n",
       "\n",
       "                                               tweet     job  \\\n",
       "0  T 2228-اليوم: مي فقدت تشيلسي فقدت نصي القراءة ...  تنفيذي   \n",
       "1  #Anastasia الموسيقية وتهدف إلى برودواي القادم ...  -محامي   \n",
       "2  كولكارني حصلت الضربات مع الكرة ويحصل الآن أربع...   -عالم   \n",
       "3  زمبابوي: \"سنغافورة خيار\" في النية https://t.co...  -سياسي   \n",
       "4  6 الدروس باتنجالي يعلم سلع استهلاكية القطاع ht...   رياضي   \n",
       "\n",
       "                                         clean_tweet  \n",
       "0  اليوم مي فقدت تشيلسي فقدت نصي القراءة المفقودة...  \n",
       "1                الموسيقية وتهدف برودواي القادم موسم  \n",
       "2  كولكارني حصلت الضربات الكرة ويحصل أربعة المبار...  \n",
       "3  زمبابوي سنغافورة خيار النية الولادة تعطي كشف م...  \n",
       "4    الدروس باتنجالي يعلم سلع استهلاكية القطاع للهند  "
      ]
     },
     "execution_count": 17,
     "metadata": {},
     "output_type": "execute_result"
    }
   ],
   "source": [
    "df.head()"
   ]
  },
  {
   "cell_type": "code",
   "execution_count": null,
   "metadata": {
    "id": "as-9LgxSbK8s"
   },
   "outputs": [],
   "source": [
    "df['personalitiy'].value_counts()"
   ]
  },
  {
   "cell_type": "code",
   "execution_count": 18,
   "metadata": {
    "id": "ilGSejHZU2XJ"
   },
   "outputs": [],
   "source": [
    "all_tweets = df['clean_tweet'].tolist()\n",
    "all_tweets = \" \".join(all_tweets)"
   ]
  },
  {
   "cell_type": "code",
   "execution_count": 19,
   "metadata": {
    "colab": {
     "base_uri": "https://localhost:8080/"
    },
    "id": "aQtyzDz2VL5E",
    "outputId": "318f0ede-72be-45d9-9be3-daff8c6e6be2"
   },
   "outputs": [
    {
     "name": "stdout",
     "output_type": "stream",
     "text": [
      "[('يمكن', 1486), ('لوس', 1134), ('اليوم', 1013), ('أنجليس', 966), ('الخاص', 965), ('شكرا', 864), ('مشاهدة', 820), ('كنت', 773), ('جديدة', 770), ('يوم', 748)]\n"
     ]
    }
   ],
   "source": [
    "words = all_tweets.split()\n",
    "  \n",
    "Counter = Counter(words)\n",
    "  \n",
    "most_occur = Counter.most_common(10)\n",
    "  \n",
    "print(most_occur)"
   ]
  },
  {
   "cell_type": "code",
   "execution_count": null,
   "metadata": {
    "id": "bLgvuJDbVNYp"
   },
   "outputs": [],
   "source": []
  }
 ],
 "metadata": {
  "colab": {
   "collapsed_sections": [],
   "provenance": []
  },
  "kernelspec": {
   "display_name": "Python 3",
   "language": "python",
   "name": "python3"
  },
  "language_info": {
   "codemirror_mode": {
    "name": "ipython",
    "version": 3
   },
   "file_extension": ".py",
   "mimetype": "text/x-python",
   "name": "python",
   "nbconvert_exporter": "python",
   "pygments_lexer": "ipython3",
   "version": "3.7.6"
  }
 },
 "nbformat": 4,
 "nbformat_minor": 1
}
