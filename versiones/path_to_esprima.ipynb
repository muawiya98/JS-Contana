{
  "cells": [
    {
      "cell_type": "code",
      "execution_count": null,
      "metadata": {
        "id": "MKFbfUPSXiAg"
      },
      "outputs": [],
      "source": [
        "import pandas as pd\n",
        "from sklearn.metrics import accuracy_score, precision_score, recall_score, f1_score\n",
        "from sklearn.model_selection import train_test_split\n",
        "from sklearn.feature_extraction.text import CountVectorizer\n",
        "from keras.models import Sequential\n",
        "from keras import layers\n",
        "from keras.backend import clear_session\n",
        "from keras.preprocessing.text import Tokenizer\n",
        "from keras.layers import Activation, Dense, Reshape \n",
        "import numpy as np\n",
        "from keras import backend as K\n",
        "import matplotlib.pyplot as plt\n",
        "import pandas as pd\n",
        "from keras.preprocessing.sequence import pad_sequences\n",
        "from keras.layers import Embedding, LSTM, Dense, Bidirectional, Dropout, Conv1D, GlobalMaxPooling1D\n",
        "from keras.models import load_model\n",
        "from numpy import asarray\n",
        "from numpy import save\n",
        "from numpy import load\n",
        "from sklearn.metrics import confusion_matrix\n",
        "from sklearn.metrics import classification_report\n",
        "import esprima as esp\n",
        "import re\n",
        "from keras.initializers import Constant\n",
        "from tensorflow.keras.optimizers import Adam\n",
        "from keras.losses import BinaryCrossentropy\n",
        "from tensorflow.keras.utils import plot_model\n",
        "from keras import Model\n",
        "from tensorflow.keras.utils import Sequence\n",
        "import pydot\n",
        "import gensim \n",
        "from nltk.tokenize import word_tokenize\n",
        "import pickle\n",
        "from keras import backend as K\n",
        "import os\n",
        "import random\n",
        "import re\n",
        "from sklearn.metrics import accuracy_score, precision_score, recall_score, f1_score\n",
        "import logging\n",
        "from time import time\n",
        "from functools import partial\n",
        "# from concurrent.futures import ProcessPoolExecutor\n",
        "import concurrent.futures\n",
        "from threading import current_thread\n",
        "# from tqdm.notebook import tqdm\n",
        "from tqdm import tqdm\n",
        "import gc\n",
        "# Set the random seed for reproducible results\n",
        "np.random.seed(123)\n",
        "plt.style.use('ggplot')"
      ]
    },
    {
      "cell_type": "code",
      "execution_count": null,
      "metadata": {
        "id": "7bOIaA7GXiAp",
        "outputId": "4d4cfc3c-2f0f-4b16-8eb1-932211fda06a"
      },
      "outputs": [
        {
          "data": {
            "text/html": [
              "<div>\n",
              "<style scoped>\n",
              "    .dataframe tbody tr th:only-of-type {\n",
              "        vertical-align: middle;\n",
              "    }\n",
              "\n",
              "    .dataframe tbody tr th {\n",
              "        vertical-align: top;\n",
              "    }\n",
              "\n",
              "    .dataframe thead th {\n",
              "        text-align: right;\n",
              "    }\n",
              "</style>\n",
              "<table border=\"1\" class=\"dataframe\">\n",
              "  <thead>\n",
              "    <tr style=\"text-align: right;\">\n",
              "      <th></th>\n",
              "      <th>ScriptPath</th>\n",
              "      <th>Label</th>\n",
              "    </tr>\n",
              "  </thead>\n",
              "  <tbody>\n",
              "    <tr>\n",
              "      <th>0</th>\n",
              "      <td>javascript-malware-collection-master\\1936\\1936...</td>\n",
              "      <td>1</td>\n",
              "    </tr>\n",
              "    <tr>\n",
              "      <th>1</th>\n",
              "      <td>javascript-malware-collection-master\\1936\\1936...</td>\n",
              "      <td>1</td>\n",
              "    </tr>\n",
              "    <tr>\n",
              "      <th>2</th>\n",
              "      <td>javascript-malware-collection-master\\1936\\1936...</td>\n",
              "      <td>1</td>\n",
              "    </tr>\n",
              "    <tr>\n",
              "      <th>3</th>\n",
              "      <td>javascript-malware-collection-master\\1936\\1936...</td>\n",
              "      <td>1</td>\n",
              "    </tr>\n",
              "    <tr>\n",
              "      <th>4</th>\n",
              "      <td>javascript-malware-collection-master\\1936\\1936...</td>\n",
              "      <td>1</td>\n",
              "    </tr>\n",
              "  </tbody>\n",
              "</table>\n",
              "</div>"
            ],
            "text/plain": [
              "                                          ScriptPath  Label\n",
              "0  javascript-malware-collection-master\\1936\\1936...      1\n",
              "1  javascript-malware-collection-master\\1936\\1936...      1\n",
              "2  javascript-malware-collection-master\\1936\\1936...      1\n",
              "3  javascript-malware-collection-master\\1936\\1936...      1\n",
              "4  javascript-malware-collection-master\\1936\\1936...      1"
            ]
          },
          "execution_count": 4,
          "metadata": {},
          "output_type": "execute_result"
        }
      ],
      "source": [
        "my_df = pd.read_csv(\"G:\\JSContanaDataSet\\df_1.csv\")\n",
        "my_df.head()"
      ]
    },
    {
      "cell_type": "code",
      "execution_count": null,
      "metadata": {
        "id": "pfhxL4h4XiAr"
      },
      "outputs": [],
      "source": [
        "# convert java script code to the abstract syntax tree\n",
        "# then extract the sequences of syntax units with detailed information\n",
        "from typing import List \n",
        "\n",
        "def sequence_of_syntax_units(scripts: List[str]):\n",
        "    try:\n",
        "        \"\"\"\n",
        "        sctipts : list or single javascript code \n",
        "        return sequence of syntax units\n",
        "        each syntax unit correspond to line in an abstract syntax tree\n",
        "        \"\"\"\n",
        "        if type(scripts) is list:\n",
        "            # esp.parseScript(script) returns abstract syntax tree of each js scripts\n",
        "            return [re.sub('\\s+', ' ', ''.join(str(esp.parseScript(script)).split('\\n'))) for script in scripts]\n",
        "        elif type(scripts) is str:\n",
        "            return re.sub('\\s+', ' ', ''.join(str(esp.parseScript(scripts)).split('\\n')))\n",
        "        else:\n",
        "            raise ValueError('The type of scripts parameter must be {list or string}')\n",
        "    except:\n",
        "        pass\n",
        "    return None"
      ]
    },
    {
      "cell_type": "code",
      "execution_count": null,
      "metadata": {
        "id": "SMx42_QwXiAv"
      },
      "outputs": [],
      "source": [
        "def read_script(script_paths: List[str],parent_path:str):\n",
        "    try :\n",
        "        with open(os.path.join(parent_path,script_paths), 'r') as js_file:\n",
        "            script = js_file.read()\n",
        "            script = sequence_of_syntax_units(script)\n",
        "        return script , 1\n",
        "    except:\n",
        "        print(script_paths)\n",
        "    return None , None"
      ]
    },
    {
      "cell_type": "code",
      "source": [
        "paths= df['path'].tolist()\n",
        "paths = list(map(lambda x: os.path.join(\"G:\\JSContanaDataSet\", x), paths))\n",
        "X = [read_script(path) for path in paths if path is not None]\n",
        "y = [1] * len(X)"
      ],
      "metadata": {
        "id": "BYG3JPAcX9JA"
      },
      "execution_count": null,
      "outputs": []
    },
    {
      "cell_type": "code",
      "execution_count": null,
      "metadata": {
        "scrolled": true,
        "id": "7LJDEBnBXiAx"
      },
      "outputs": [],
      "source": [
        "list_X_train = []\n",
        "list_y_train = []\n",
        "for i,df_iterator in enumerate(pd.read_csv(\"G:\\JSContanaDataSet\\df_1.csv\",chunksize=1)):\n",
        "    print(i)\n",
        "    X_train = df_iterator[df_iterator.columns[-2]]\n",
        "    X_train , y_train = read__script(X_train.tolist()[0],\"G:\\JSContanaDataSet\")\n",
        "    if X_train!=None:\n",
        "        list_X_train.append(X_train)\n",
        "        list_y_train.append(y_train)"
      ]
    },
    {
      "cell_type": "code",
      "execution_count": null,
      "metadata": {
        "id": "uHxMvHG_XiAz"
      },
      "outputs": [],
      "source": [
        "df_1 = pd.DataFrame(columns=[\"ScriptPath\",\"Label\"])\n",
        "df_1['ScriptPath'] = list_X_train\n",
        "df_1['Label'] = list_y_train"
      ]
    },
    {
      "cell_type": "code",
      "execution_count": null,
      "metadata": {
        "id": "NdQrMMMVXiA0"
      },
      "outputs": [],
      "source": [
        "df_1.to_csv('E:\\df_1.csv', index=False)"
      ]
    },
    {
      "cell_type": "code",
      "source": [
        "\"\"\"\n",
        "Description : \n",
        "Input :\n",
        "para: X(dtype: lakjdsjfla s): lfkadsjf;las jkf\n",
        "\n",
        "\n",
        "-----------------------------------------------------\n",
        "return : \n",
        "\n",
        "\"\"\""
      ],
      "metadata": {
        "id": "LX9fJluTZBDV"
      },
      "execution_count": null,
      "outputs": []
    }
  ],
  "metadata": {
    "kernelspec": {
      "display_name": "Python 3",
      "language": "python",
      "name": "python3"
    },
    "language_info": {
      "codemirror_mode": {
        "name": "ipython",
        "version": 3
      },
      "file_extension": ".py",
      "mimetype": "text/x-python",
      "name": "python",
      "nbconvert_exporter": "python",
      "pygments_lexer": "ipython3",
      "version": "3.7.6"
    },
    "colab": {
      "provenance": []
    }
  },
  "nbformat": 4,
  "nbformat_minor": 0
}