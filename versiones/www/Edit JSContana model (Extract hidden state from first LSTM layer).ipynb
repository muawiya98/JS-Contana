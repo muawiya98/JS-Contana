{
 "cells": [
  {
   "cell_type": "code",
   "execution_count": 66,
   "metadata": {},
   "outputs": [],
   "source": [
    "import pandas as pd\n",
    "from sklearn.model_selection import train_test_split\n",
    "from sklearn.feature_extraction.text import CountVectorizer\n",
    "from keras.models import Sequential\n",
    "from keras import layers\n",
    "from keras.backend import clear_session\n",
    "from keras.preprocessing.text import Tokenizer\n",
    "from keras.layers import Activation, Dense, Reshape \n",
    "import numpy as np\n",
    "from keras import backend as K\n",
    "import matplotlib.pyplot as plt\n",
    "import pandas as pd\n",
    "from keras.preprocessing.sequence import pad_sequences\n",
    "from keras.layers import Embedding, LSTM, Dense, Bidirectional, Dropout, Conv1D, GlobalMaxPooling1D\n",
    "from keras.models import load_model\n",
    "from numpy import asarray\n",
    "from numpy import save\n",
    "from numpy import load\n",
    "from sklearn.metrics import confusion_matrix\n",
    "from sklearn.metrics import classification_report\n",
    "import esprima as esp\n",
    "import re\n",
    "from keras.initializers import Constant\n",
    "from keras.optimizers import Adam\n",
    "from keras.losses import BinaryCrossentropy\n",
    "from keras.utils import plot_model\n",
    "from keras import Model\n",
    "import keras\n",
    "import pydot\n",
    "import gensim \n",
    "from nltk.tokenize import word_tokenize\n",
    "import pickle\n",
    "from keras import backend as K\n",
    "\n",
    "plt.style.use('ggplot')"
   ]
  },
  {
   "cell_type": "code",
   "execution_count": 2,
   "metadata": {},
   "outputs": [],
   "source": [
    "def save_object(obj, filename):\n",
    "    with open(filename+\".pickle\", 'wb') as outp:\n",
    "        pickle.dump(obj, outp, pickle.HIGHEST_PROTOCOL)\n",
    "    outp.close()"
   ]
  },
  {
   "cell_type": "code",
   "execution_count": 3,
   "metadata": {},
   "outputs": [],
   "source": [
    "def load_object(filename):\n",
    "    with open(filename+\".pickle\", 'rb') as outp:\n",
    "        loaded_object = pickle.load(outp)\n",
    "    outp.close()\n",
    "    return loaded_object"
   ]
  },
  {
   "cell_type": "code",
   "execution_count": 111,
   "metadata": {},
   "outputs": [],
   "source": [
    "def plot_history(history):\n",
    "    acc = history.history['accuracy']\n",
    "    val_acc = history.history['val_accuracy']\n",
    "    loss = history.history['loss']\n",
    "    val_loss = history.history['val_loss']\n",
    "    x = range(1, len(acc) + 1)\n",
    "    plt.figure(figsize=(12, 5))\n",
    "    plt.subplot(1, 2, 1)\n",
    "    plt.plot(x, acc, 'b', label='Training acc')\n",
    "    plt.plot(x, val_acc, 'r', label='Validation acc')\n",
    "    plt.title('Training and validation accuracy')\n",
    "    plt.legend()\n",
    "    plt.subplot(1, 2, 2)\n",
    "    plt.plot(x, loss, 'b', label='Training loss')\n",
    "    plt.plot(x, val_loss, 'r', label='Validation loss')\n",
    "    plt.title('Training and validation loss')\n",
    "    plt.legend()"
   ]
  },
  {
   "cell_type": "code",
   "execution_count": 112,
   "metadata": {},
   "outputs": [],
   "source": [
    "# def Read_data_and_split(path_csv_file='G:/JSContanaDataSet/script_path_df.csv',my_test_size=0.25):\n",
    "#     data = pd.read_csv(path_csv_file)\n",
    "#     columns = data.columns\n",
    "#     x = data[columns[0]].values\n",
    "#     y = data[columns[1]].values\n",
    "#     sentences_train, sentences_test, y_train, y_test = train_test_split(x, y, test_size=my_test_size, random_state=1000)\n",
    "#     return sentences_train, sentences_test, y_train, y_test"
   ]
  },
  {
   "cell_type": "code",
   "execution_count": 113,
   "metadata": {},
   "outputs": [],
   "source": [
    "# convert java script code to the abstract syntax tree\n",
    "# then extract the sequences of syntax units with detailed information\n",
    "def sequence_of_syntax_units(scripts):\n",
    "    \"\"\"\n",
    "    sctipts : list or single javascript code \n",
    "    return sequence of syntax units\n",
    "    each syntax unit correspond to line in an abstract syntax tree\n",
    "    \"\"\"\n",
    "    if type(scripts) is list:\n",
    "        # esp.parseScript(script) returns abstract syntax tree of each js scripts\n",
    "        return [re.sub('\\s+', ' ', ''.join(str(esp.parseScript(script)).split('\\n'))) for script in scripts]\n",
    "    elif type(scripts) is str:\n",
    "        return re.sub('\\s+', ' ', ''.join(str(esp.parseScript(scripts)).split('\\n')))\n",
    "    else:\n",
    "        raise ValueError('The type of scripts parameter must be {list or string}')"
   ]
  },
  {
   "cell_type": "code",
   "execution_count": 114,
   "metadata": {},
   "outputs": [],
   "source": [
    "# create word tokens\n",
    "def sequence_of_syntax_units_to_tokens(seq_of_syn_units):\n",
    "    \"\"\"\n",
    "    Convert Sequence of syntax units to tokens to train  word2vec model \n",
    "    -----------------------------------------\n",
    "    seq_of_syn_units: list of sequence syntax units correspond to abstract syntax trees\n",
    "    \"\"\"\n",
    "    return list(map(word_tokenize, seq_of_syn_units))"
   ]
  },
  {
   "cell_type": "code",
   "execution_count": 115,
   "metadata": {},
   "outputs": [],
   "source": [
    "def extract_js_code_with_no_tag(code):\n",
    "    return  list(map(lambda x: re.sub(r';', ' ; ', x), re.findall(r'javascript:(.*?\\(.*?\\))[\\\\/<>]?', code, re.IGNORECASE)))"
   ]
  },
  {
   "cell_type": "code",
   "execution_count": 116,
   "metadata": {},
   "outputs": [],
   "source": [
    " def extract_js_code(script):\n",
    "    #list all the scripts tags\n",
    "    internal_js = re.findall(r'<script>?(.*?\\(.*?\\))[\\\\/<>]?',script , re.IGNORECASE)\n",
    "    # remove unwanted words like javascript keyword and quotes \n",
    "    # add space befor and after semicolon\n",
    "    clean_js_codes = []\n",
    "    for code in internal_js:\n",
    "        if re.search(r'javascript', code):\n",
    "            clean_js_codes += extract_js_code_with_no_tag(code)  \n",
    "        else:\n",
    "            clean_js_codes.append(re.sub(r';', ' ; ', code))\n",
    "    r = list(set(clean_js_codes + extract_js_code_with_no_tag(script)))\n",
    "    if len(r) == 0:\n",
    "        print(script)\n",
    "    return r"
   ]
  },
  {
   "cell_type": "code",
   "execution_count": 117,
   "metadata": {},
   "outputs": [],
   "source": [
    "# def esprima_dataFrame(path=\"G:/JSContanaDataSet/programs_training.txt\",name=\"esprima_dataFrame\"):\n",
    "#     with open(path, 'r', encoding='utf-8') as file:\n",
    "#         path_scripts = file.readlines()\n",
    "#     scripts = []\n",
    "#     Label = []\n",
    "#     X = []\n",
    "#     y = []\n",
    "#     sub_path = path[:path.rindex(\"/\")+1]\n",
    "#     for path_script in range(len(path_scripts)-1):\n",
    "#         try:\n",
    "#             s_p = sub_path+path_scripts[path_script][:-1]\n",
    "#             with open(s_p) as js_file:\n",
    "#                 script = js_file.read()\n",
    "#                 X.append(sequence_of_syntax_units(script))\n",
    "#                 if path_script%2==0:\n",
    "#                     y.append(0)\n",
    "#                 else:\n",
    "#                     y.append(1)\n",
    "#         except:\n",
    "#             pass\n",
    "#     df = pd.DataFrame(columns=[\"ScriptName\",\"Label\"])\n",
    "#     df[\"ScriptName\"] = X\n",
    "#     df[\"Label\"] = y\n",
    "#     df.to_csv(sub_path+name+'.csv', index=False)    \n",
    "#     return df"
   ]
  },
  {
   "cell_type": "code",
   "execution_count": 118,
   "metadata": {},
   "outputs": [],
   "source": [
    "# def chunking_data(Data,chunkNum):\n",
    "#     chunkSize = Data.shape[0]/chunkNum\n",
    "#     temp = []\n",
    "#     for i in range(chunkNum):\n",
    "#         satrt = int(i * chunkSize)\n",
    "#         end = int((i+1) * chunkSize)\n",
    "#         if Data.shape[0]-end>0:\n",
    "#             temp.append(Data[satrt:end])\n",
    "#         else:\n",
    "#             temp.append(Data[satrt:Data.shape[0]])\n",
    "#     return temp"
   ]
  },
  {
   "cell_type": "code",
   "execution_count": 119,
   "metadata": {},
   "outputs": [],
   "source": [
    "# def preprocessing_dataset(num_words,sentences_train,sentences_test,maxlen):\n",
    "#     tokenizer = Tokenizer(num_words=num_words)\n",
    "#     tokenizer.fit_on_texts(sentences_train)\n",
    "#     X_train = tokenizer.texts_to_sequences(sentences_train)\n",
    "#     X_test = tokenizer.texts_to_sequences(sentences_test)\n",
    "#     vocab_size = len(tokenizer.word_index) + 1  # Adding 1 because of reserved 0 index\n",
    "#     X_train = pad_sequences(X_train, padding='post', maxlen=maxlen)\n",
    "#     X_test = pad_sequences(X_test, padding='post', maxlen=maxlen)\n",
    "#     return X_train,X_test,vocab_size"
   ]
  },
  {
   "cell_type": "code",
   "execution_count": null,
   "metadata": {},
   "outputs": [],
   "source": []
  },
  {
   "cell_type": "code",
   "execution_count": null,
   "metadata": {},
   "outputs": [],
   "source": [
    "class CustomDataGen(keras.utils.Sequence):\n",
    "    \n",
    "    def __init__(self, df, X_col, y_col,batch_size,test=0,shuffle=True,sub_path=\"\"):\n",
    "        \n",
    "        self.df = df.copy()\n",
    "        self.X_col = X_col\n",
    "        self.y_col = y_col\n",
    "        self.batch_size = batch_size\n",
    "        self.test = test\n",
    "        self.shuffle = shuffle\n",
    "        self.sub_path = sub_path\n",
    "        self.n = len(self.df[self.df.columns[0]])\n",
    "    \n",
    "    def on_epoch_end(self):\n",
    "        if self.shuffle:\n",
    "            self.df = self.df.sample(frac=1).reset_index(drop=True)\n",
    "    \n",
    "    def __get_input(self, path):\n",
    "        try:\n",
    "            with open(self.sub_path+path) as js_file:\n",
    "                script = js_file.read()\n",
    "            script = sequence_of_syntax_units(script)\n",
    "            return script\n",
    "        except:\n",
    "            return 'None'\n",
    "    def __get_output(self, label):\n",
    "        return label\n",
    "#         return keras.utils.to_categorical(label, num_classes=2)\n",
    "    \n",
    "    def __get_data(self, batches):\n",
    "\n",
    "        path_batch = batches[self.X_col['path']]\n",
    "        \n",
    "        name_batch = batches[self.y_col['name']]\n",
    "\n",
    "        X_batch = np.asarray([self.__get_input(x) for x in path_batch]).astype('object')\n",
    "        \n",
    "        y_batch = np.asarray([self.__get_output(y) for y in name_batch]).astype('object')\n",
    "        \n",
    "        index = np.where(X_batch=='None')[0]\n",
    "        \n",
    "        np.delete(X_batch, index, axis=0)\n",
    "        np.delete(y_batch, index, axis=0)\n",
    "        \n",
    "        X_batch  = preprocessing_dataset_(X_batch , test = self.test )\n",
    "        \n",
    "        X_batch = K.cast_to_floatx(X_batch)\n",
    "        y_batch = K.cast_to_floatx(y_batch)\n",
    "        \n",
    "\n",
    "        return X_batch, y_batch\n",
    "    \n",
    "    def __getitem__(self, index):\n",
    "        \n",
    "        batches = self.df[index * self.batch_size:(index + 1) * self.batch_size]\n",
    "        X, y = self.__get_data(batches)        \n",
    "        return X, y\n",
    "    \n",
    "    def __len__(self):\n",
    "        return self.n // self.batch_size"
   ]
  },
  {
   "cell_type": "code",
   "execution_count": 150,
   "metadata": {},
   "outputs": [],
   "source": [
    "# def evaluation(model,history,X_train,y_train,X_test,y_test,t=0):\n",
    "#     loss, accuracy = model.evaluate(X_train, y_train, verbose=False)\n",
    "#     print(\"Training Accuracy: {:.4f}\".format(accuracy))\n",
    "#     loss, accuracy = model.evaluate(X_test, y_test, verbose=False)\n",
    "#     print(\"Testing Accuracy:  {:.4f}\".format(accuracy))\n",
    "#     print(classification_report(np.round(model.predict(X_test)), y_test))\n",
    "#     plot_history(history)"
   ]
  },
  {
   "cell_type": "code",
   "execution_count": 152,
   "metadata": {},
   "outputs": [],
   "source": [
    "def evaluation(model,history,X_train,X_test):\n",
    "    loss, accuracy = model.evaluate_generator(X_train)\n",
    "    print(\"Training Accuracy: {:.4f}\".format(accuracy))\n",
    "    loss, accuracy = model.evaluate_generator(X_test)\n",
    "    print(\"Testing Accuracy:  {:.4f}\".format(accuracy))\n",
    "#     model.predict_generator(generator, steps=n_steps, multi_processing=False)\n",
    "#     print(classification_report(y_pred = np.round(model.predict_generator(X_test)), y_true = y_test))\n",
    "    plot_history(history)"
   ]
  },
  {
   "cell_type": "code",
   "execution_count": 121,
   "metadata": {},
   "outputs": [],
   "source": [
    "# def Model(vocab_size,embedding_dim,maxlen,myoptimizer,myloss,mymetrics,shape=100,Type=0):\n",
    "#     model = Sequential()\n",
    "#     if Type==0:\n",
    "#         model.add(layers.Embedding(vocab_size, embedding_dim, input_length=maxlen))\n",
    "#         model.add(Bidirectional(LSTM(units=50, input_shape=(None, 50), return_sequences=True)))\n",
    "#     else :\n",
    "#          model.add(layers.InputLayer(input_shape=shape))\n",
    "        \n",
    "    \n",
    "#     model.add(Bidirectional(LSTM(units=50, input_shape=(None, 50), return_sequences=True)))\n",
    "\n",
    "#     # TextCNN with 4 conv layers\n",
    "#     model.add(Conv1D(128, 7, activation='tanh', input_shape=(None, 32)))\n",
    "#     model.add(Conv1D(128, 15, activation='tanh'))\n",
    "#     model.add(Conv1D(128, 25, activation='tanh'))\n",
    "#     model.add(Conv1D(128, 35, activation='tanh'))\n",
    "#     model.add(GlobalMaxPooling1D())\n",
    "#     model.add(Dense(64, activation='relu'))\n",
    "#     model.add(Dropout(0.2))\n",
    "#     model.add(Dense(1, activation='sigmoid'))\n",
    "#     model.compile(optimizer=myoptimizer,\n",
    "#                   loss=myloss,\n",
    "#                   metrics=[mymetrics])\n",
    "#     model.summary()\n",
    "#     return model"
   ]
  },
  {
   "cell_type": "code",
   "execution_count": 122,
   "metadata": {},
   "outputs": [],
   "source": [
    "def Model(shape=100,Type=0):\n",
    "    model = Sequential()\n",
    "    if Type==0:\n",
    "        model.add(layers.Embedding(vocab_size, embedding_dim, input_length=maxlen))\n",
    "        model.add(Bidirectional(LSTM(units=50, input_shape=(None, 50), return_sequences=True)))\n",
    "    else :\n",
    "         model.add(layers.InputLayer(input_shape=shape))\n",
    "        \n",
    "    \n",
    "    model.add(Bidirectional(LSTM(units=50, input_shape=(None, 50), return_sequences=True)))\n",
    "\n",
    "    # TextCNN with 4 conv layers\n",
    "    model.add(Conv1D(128, 7, activation='tanh', input_shape=(None, 32)))\n",
    "    model.add(Conv1D(128, 15, activation='tanh'))\n",
    "    model.add(Conv1D(128, 25, activation='tanh'))\n",
    "    model.add(Conv1D(128, 35, activation='tanh'))\n",
    "    model.add(GlobalMaxPooling1D())\n",
    "    model.add(Dense(64, activation='relu'))\n",
    "    model.add(Dropout(0.2))\n",
    "    model.add(Dense(1, activation='sigmoid'))\n",
    "    model.compile(optimizer=myoptimizer,\n",
    "                  loss=myloss,\n",
    "                  metrics=[mymetrics])\n",
    "    model.summary()\n",
    "    return model"
   ]
  },
  {
   "cell_type": "code",
   "execution_count": 123,
   "metadata": {},
   "outputs": [],
   "source": [
    "def fit_model(model,model_name,training_generator,validation_data=0,with_test=0):\n",
    "    model_name = str(model_name)+\".h5\"\n",
    "    if with_test!=0:\n",
    "        history = model.fit_generator(generator=training_generator,epochs=10,verbose=False,validation_data=validation_data)\n",
    "    else:\n",
    "        history = model.fit_generator(generator=training_generator,epochs=10,verbose=False)\n",
    "    model.save(model_name)\n",
    "    return model , history , model_name"
   ]
  },
  {
   "cell_type": "code",
   "execution_count": 141,
   "metadata": {},
   "outputs": [],
   "source": [
    "my_df = pd.read_csv('G:/JSContanaDataSet/script_path_data.csv')\n",
    "my_test_df = pd.read_csv('G:/JSContanaDataSet/script_path_test_data.csv')\n",
    "\n",
    "my_batch_size = 20\n",
    "path_train_data = 'G:/JSContanaDataSet/script__df.csv'\n",
    "# num_words = 400000\n",
    "num_words = 400\n",
    "# maxlen = 1024\n",
    "maxlen = 100\n",
    "embedding_dim = 50\n",
    "myoptimizer = 'adam'\n",
    "myloss= 'binary_crossentropy'\n",
    "mymetrics = 'accuracy'\n",
    "\n",
    "traingen = CustomDataGen(my_df.sample(1000),\n",
    "                         X_col={'path':'ScriptPath'},\n",
    "                         y_col={'name': 'Label'},\n",
    "                         batch_size=my_batch_size,\n",
    "                         sub_path='G:/JSContanaDataSet/',\n",
    "                         test=0)\n",
    "\n",
    "testgen = CustomDataGen(my_test_df.sample(500),\n",
    "                         X_col={'path':'ScriptPath'},\n",
    "                         y_col={'name': 'Label'},\n",
    "                         batch_size=my_batch_size,\n",
    "                         sub_path='G:/JSContanaDataSet/',\n",
    "                         test=1)\n",
    "\n",
    "vocab_size = load_object('vocab_size')\n"
   ]
  },
  {
   "cell_type": "code",
   "execution_count": 142,
   "metadata": {},
   "outputs": [
    {
     "data": {
      "text/html": [
       "<div>\n",
       "<style scoped>\n",
       "    .dataframe tbody tr th:only-of-type {\n",
       "        vertical-align: middle;\n",
       "    }\n",
       "\n",
       "    .dataframe tbody tr th {\n",
       "        vertical-align: top;\n",
       "    }\n",
       "\n",
       "    .dataframe thead th {\n",
       "        text-align: right;\n",
       "    }\n",
       "</style>\n",
       "<table border=\"1\" class=\"dataframe\">\n",
       "  <thead>\n",
       "    <tr style=\"text-align: right;\">\n",
       "      <th></th>\n",
       "      <th>ScriptPath</th>\n",
       "      <th>Label</th>\n",
       "    </tr>\n",
       "  </thead>\n",
       "  <tbody>\n",
       "    <tr>\n",
       "      <th>0</th>\n",
       "      <td>data/rackt/react-router/build/npm/lib/PathUtil...</td>\n",
       "      <td>1</td>\n",
       "    </tr>\n",
       "    <tr>\n",
       "      <th>1</th>\n",
       "      <td>data/google/closure-library/closure/goog/ui/dr...</td>\n",
       "      <td>0</td>\n",
       "    </tr>\n",
       "  </tbody>\n",
       "</table>\n",
       "</div>"
      ],
      "text/plain": [
       "                                          ScriptPath  Label\n",
       "0  data/rackt/react-router/build/npm/lib/PathUtil...      1\n",
       "1  data/google/closure-library/closure/goog/ui/dr...      0"
      ]
     },
     "execution_count": 142,
     "metadata": {},
     "output_type": "execute_result"
    }
   ],
   "source": [
    "my_test_df.head(2)"
   ]
  },
  {
   "cell_type": "code",
   "execution_count": 143,
   "metadata": {},
   "outputs": [
    {
     "data": {
      "text/html": [
       "<div>\n",
       "<style scoped>\n",
       "    .dataframe tbody tr th:only-of-type {\n",
       "        vertical-align: middle;\n",
       "    }\n",
       "\n",
       "    .dataframe tbody tr th {\n",
       "        vertical-align: top;\n",
       "    }\n",
       "\n",
       "    .dataframe thead th {\n",
       "        text-align: right;\n",
       "    }\n",
       "</style>\n",
       "<table border=\"1\" class=\"dataframe\">\n",
       "  <thead>\n",
       "    <tr style=\"text-align: right;\">\n",
       "      <th></th>\n",
       "      <th>ScriptPath</th>\n",
       "      <th>Label</th>\n",
       "    </tr>\n",
       "  </thead>\n",
       "  <tbody>\n",
       "    <tr>\n",
       "      <th>0</th>\n",
       "      <td>data/mozilla/rhino/testsrc/tests/js1_8/extensi...</td>\n",
       "      <td>0</td>\n",
       "    </tr>\n",
       "    <tr>\n",
       "      <th>1</th>\n",
       "      <td>data/hexojs/hexo/lib/extend/migrator.js</td>\n",
       "      <td>1</td>\n",
       "    </tr>\n",
       "    <tr>\n",
       "      <th>2</th>\n",
       "      <td>data/studio107/meditor/vendors/ckeditor/plugin...</td>\n",
       "      <td>0</td>\n",
       "    </tr>\n",
       "    <tr>\n",
       "      <th>3</th>\n",
       "      <td>data/clemens-tolboom/drupal-8-rest-angularjs/a...</td>\n",
       "      <td>1</td>\n",
       "    </tr>\n",
       "    <tr>\n",
       "      <th>4</th>\n",
       "      <td>data/SchizoDuckie/DuckieTV/_locales/angular-lo...</td>\n",
       "      <td>0</td>\n",
       "    </tr>\n",
       "  </tbody>\n",
       "</table>\n",
       "</div>"
      ],
      "text/plain": [
       "                                          ScriptPath  Label\n",
       "0  data/mozilla/rhino/testsrc/tests/js1_8/extensi...      0\n",
       "1            data/hexojs/hexo/lib/extend/migrator.js      1\n",
       "2  data/studio107/meditor/vendors/ckeditor/plugin...      0\n",
       "3  data/clemens-tolboom/drupal-8-rest-angularjs/a...      1\n",
       "4  data/SchizoDuckie/DuckieTV/_locales/angular-lo...      0"
      ]
     },
     "execution_count": 143,
     "metadata": {},
     "output_type": "execute_result"
    }
   ],
   "source": [
    "my_df.head()"
   ]
  },
  {
   "cell_type": "code",
   "execution_count": null,
   "metadata": {},
   "outputs": [],
   "source": [
    "#################################traingen##################################"
   ]
  },
  {
   "cell_type": "code",
   "execution_count": 125,
   "metadata": {},
   "outputs": [
    {
     "name": "stdout",
     "output_type": "stream",
     "text": [
      "Model: \"sequential_7\"\n",
      "_________________________________________________________________\n",
      "Layer (type)                 Output Shape              Param #   \n",
      "=================================================================\n",
      "embedding_5 (Embedding)      (None, 100, 50)           125800    \n",
      "_________________________________________________________________\n",
      "bidirectional_10 (Bidirectio (None, 100, 100)          40400     \n",
      "_________________________________________________________________\n",
      "bidirectional_11 (Bidirectio (None, 100, 100)          60400     \n",
      "_________________________________________________________________\n",
      "conv1d_20 (Conv1D)           (None, 94, 128)           89728     \n",
      "_________________________________________________________________\n",
      "conv1d_21 (Conv1D)           (None, 80, 128)           245888    \n",
      "_________________________________________________________________\n",
      "conv1d_22 (Conv1D)           (None, 56, 128)           409728    \n",
      "_________________________________________________________________\n",
      "conv1d_23 (Conv1D)           (None, 22, 128)           573568    \n",
      "_________________________________________________________________\n",
      "global_max_pooling1d_5 (Glob (None, 128)               0         \n",
      "_________________________________________________________________\n",
      "dense_10 (Dense)             (None, 64)                8256      \n",
      "_________________________________________________________________\n",
      "dropout_5 (Dropout)          (None, 64)                0         \n",
      "_________________________________________________________________\n",
      "dense_11 (Dense)             (None, 1)                 65        \n",
      "=================================================================\n",
      "Total params: 1,553,833\n",
      "Trainable params: 1,553,833\n",
      "Non-trainable params: 0\n",
      "_________________________________________________________________\n"
     ]
    }
   ],
   "source": [
    "Model_for_all_for_traingen = Model()"
   ]
  },
  {
   "cell_type": "code",
   "execution_count": 126,
   "metadata": {},
   "outputs": [],
   "source": [
    "Model_for_all_for_traingen , history , model_name = fit_model(Model_for_all_for_traingen,\"Model_for_all_for_traingen\",traingen,with_test=0)"
   ]
  },
  {
   "cell_type": "code",
   "execution_count": 262,
   "metadata": {},
   "outputs": [],
   "source": [
    "keras_function = K.function([Model_for_all_for_traingen.input], [Model_for_all_data.layers[1].output])\n",
    "for_traingen = []\n",
    "for i in range(my_batch_size):\n",
    "    first_layer_output = keras_function([list(traingen)[i][0], 1])\n",
    "    for_traingen.append((first_layer_output[0],list(traingen)[i][1]))\n",
    "\n",
    "save_object(for_traingen, \"for_traingen\")"
   ]
  },
  {
   "cell_type": "code",
   "execution_count": 221,
   "metadata": {},
   "outputs": [
    {
     "data": {
      "text/plain": [
       "(100, 100)"
      ]
     },
     "execution_count": 221,
     "metadata": {},
     "output_type": "execute_result"
    }
   ],
   "source": [
    "for_traingen[0][0][0].shape"
   ]
  },
  {
   "cell_type": "code",
   "execution_count": 222,
   "metadata": {},
   "outputs": [
    {
     "data": {
      "text/plain": [
       "(20, 100)"
      ]
     },
     "execution_count": 222,
     "metadata": {},
     "output_type": "execute_result"
    }
   ],
   "source": [
    "list(traingen)[0][0].shape"
   ]
  },
  {
   "cell_type": "code",
   "execution_count": null,
   "metadata": {},
   "outputs": [],
   "source": [
    "# clear_session()"
   ]
  },
  {
   "cell_type": "code",
   "execution_count": null,
   "metadata": {},
   "outputs": [],
   "source": [
    "#################################testgen##################################"
   ]
  },
  {
   "cell_type": "code",
   "execution_count": null,
   "metadata": {},
   "outputs": [],
   "source": [
    "Model_for_all_for_testgen = Model()"
   ]
  },
  {
   "cell_type": "code",
   "execution_count": null,
   "metadata": {},
   "outputs": [],
   "source": [
    "Model_for_all_for_testgen , history , model_name = fit_model(Model_for_all_for_testgen,\"Model_for_for_testgen\",testgen,with_test=0)"
   ]
  },
  {
   "cell_type": "code",
   "execution_count": null,
   "metadata": {},
   "outputs": [],
   "source": [
    "keras_function = K.function([Model_for_all_for_testgen.input], [Model_for_all_for_testgen.layers[1].output])\n",
    "for_testgen = []\n",
    "for i in range(my_batch_size):\n",
    "    first_layer_output = keras_function([list(testgen)[i][0], 1])\n",
    "    for_testgen.append((first_layer_output[0],list(testgen)[i][1]))\n",
    "\n",
    "save_object(for_testgen, \"for_testgen\")\n",
    "for_testgen = load_object(\"for_testgen\")"
   ]
  },
  {
   "cell_type": "code",
   "execution_count": null,
   "metadata": {},
   "outputs": [],
   "source": [
    "# clear_session()"
   ]
  },
  {
   "cell_type": "code",
   "execution_count": null,
   "metadata": {},
   "outputs": [],
   "source": [
    "#################################traingen,testgen##################################"
   ]
  },
  {
   "cell_type": "code",
   "execution_count": 144,
   "metadata": {},
   "outputs": [
    {
     "name": "stdout",
     "output_type": "stream",
     "text": [
      "Model: \"sequential_9\"\n",
      "_________________________________________________________________\n",
      "Layer (type)                 Output Shape              Param #   \n",
      "=================================================================\n",
      "embedding_7 (Embedding)      (None, 100, 50)           95400     \n",
      "_________________________________________________________________\n",
      "bidirectional_14 (Bidirectio (None, 100, 100)          40400     \n",
      "_________________________________________________________________\n",
      "bidirectional_15 (Bidirectio (None, 100, 100)          60400     \n",
      "_________________________________________________________________\n",
      "conv1d_28 (Conv1D)           (None, 94, 128)           89728     \n",
      "_________________________________________________________________\n",
      "conv1d_29 (Conv1D)           (None, 80, 128)           245888    \n",
      "_________________________________________________________________\n",
      "conv1d_30 (Conv1D)           (None, 56, 128)           409728    \n",
      "_________________________________________________________________\n",
      "conv1d_31 (Conv1D)           (None, 22, 128)           573568    \n",
      "_________________________________________________________________\n",
      "global_max_pooling1d_7 (Glob (None, 128)               0         \n",
      "_________________________________________________________________\n",
      "dense_14 (Dense)             (None, 64)                8256      \n",
      "_________________________________________________________________\n",
      "dropout_7 (Dropout)          (None, 64)                0         \n",
      "_________________________________________________________________\n",
      "dense_15 (Dense)             (None, 1)                 65        \n",
      "=================================================================\n",
      "Total params: 1,523,433\n",
      "Trainable params: 1,523,433\n",
      "Non-trainable params: 0\n",
      "_________________________________________________________________\n"
     ]
    }
   ],
   "source": [
    "train_test_Model = Model()"
   ]
  },
  {
   "cell_type": "code",
   "execution_count": 145,
   "metadata": {
    "scrolled": false
   },
   "outputs": [],
   "source": [
    "train_test_Model , train_test_Model_history , train_test_Model_model_name = fit_model(train_test_Model,\"train_test_Model\",traingen,testgen,with_test=1)"
   ]
  },
  {
   "cell_type": "code",
   "execution_count": 153,
   "metadata": {
    "scrolled": true
   },
   "outputs": [
    {
     "name": "stdout",
     "output_type": "stream",
     "text": [
      "Training Accuracy: 0.5020\n",
      "Testing Accuracy:  0.4900\n"
     ]
    },
    {
     "data": {
      "image/png": "[encoded data removed]",
      "text/plain": [
       "<Figure size 864x360 with 2 Axes>"
      ]
     },
     "metadata": {},
     "output_type": "display_data"
    }
   ],
   "source": [
    "evaluation(train_test_Model,train_test_Model_history,traingen,testgen)"
   ]
  },
  {
   "cell_type": "code",
   "execution_count": null,
   "metadata": {},
   "outputs": [],
   "source": [
    "# clear_session()"
   ]
  },
  {
   "cell_type": "code",
   "execution_count": null,
   "metadata": {},
   "outputs": [],
   "source": [
    "#######################################################"
   ]
  },
  {
   "cell_type": "code",
   "execution_count": 331,
   "metadata": {},
   "outputs": [],
   "source": [
    "# for_testgen , for_traingen\n",
    "# list(df_for_traingen)[0][0][0][0].shape"
   ]
  },
  {
   "cell_type": "code",
   "execution_count": 337,
   "metadata": {},
   "outputs": [],
   "source": [
    "def fit_model_(model,model_name,X_train,y_train,X_test=0,y_test=0,with_test=0):\n",
    "    model_name = str(model_name)+\".h5\"\n",
    "    if with_test!=0:\n",
    "        history = model.fit(X_train, y_train,epochs=10,verbose=False,validation_data=(X_test, y_test))\n",
    "    else:\n",
    "        history = model.fit(X_train, y_train,epochs=10,verbose=False)\n",
    "    model.save(model_name)\n",
    "    return model , history , model_name"
   ]
  },
  {
   "cell_type": "code",
   "execution_count": 442,
   "metadata": {},
   "outputs": [
    {
     "name": "stdout",
     "output_type": "stream",
     "text": [
      "Model: \"sequential_16\"\n",
      "_________________________________________________________________\n",
      "Layer (type)                 Output Shape              Param #   \n",
      "=================================================================\n",
      "bidirectional_22 (Bidirectio (None, 100, 100)          60400     \n",
      "_________________________________________________________________\n",
      "conv1d_44 (Conv1D)           (None, 94, 128)           89728     \n",
      "_________________________________________________________________\n",
      "conv1d_45 (Conv1D)           (None, 80, 128)           245888    \n",
      "_________________________________________________________________\n",
      "conv1d_46 (Conv1D)           (None, 56, 128)           409728    \n",
      "_________________________________________________________________\n",
      "conv1d_47 (Conv1D)           (None, 22, 128)           573568    \n",
      "_________________________________________________________________\n",
      "global_max_pooling1d_11 (Glo (None, 128)               0         \n",
      "_________________________________________________________________\n",
      "dense_22 (Dense)             (None, 64)                8256      \n",
      "_________________________________________________________________\n",
      "dropout_11 (Dropout)         (None, 64)                0         \n",
      "_________________________________________________________________\n",
      "dense_23 (Dense)             (None, 1)                 65        \n",
      "=================================================================\n",
      "Total params: 1,387,633\n",
      "Trainable params: 1,387,633\n",
      "Non-trainable params: 0\n",
      "_________________________________________________________________\n"
     ]
    }
   ],
   "source": [
    "Model_without_first_layer = Model(shape=list(df_for_traingen)[0][0][0][0].shape,Type=1)"
   ]
  },
  {
   "cell_type": "code",
   "execution_count": 356,
   "metadata": {},
   "outputs": [],
   "source": [
    "for_traingen = load_object(\"for_traingen\")"
   ]
  },
  {
   "cell_type": "code",
   "execution_count": 155,
   "metadata": {},
   "outputs": [],
   "source": [
    "# lstm_X_train, lstm_X_test = first_layer_output[:X_train.shape[0]] , first_layer_output[-X_test.shape[0]:]"
   ]
  },
  {
   "cell_type": "code",
   "execution_count": 339,
   "metadata": {},
   "outputs": [],
   "source": [
    "# for_traingen = (c for c in for_traingen)\n",
    "# np.concatenate((a, b), axis=None)"
   ]
  },
  {
   "cell_type": "code",
   "execution_count": 340,
   "metadata": {
    "scrolled": true
   },
   "outputs": [],
   "source": [
    "# list(traingen)"
   ]
  },
  {
   "cell_type": "code",
   "execution_count": 369,
   "metadata": {
    "scrolled": true
   },
   "outputs": [
    {
     "data": {
      "text/plain": [
       "(array([[[-4.33538016e-03,  1.03029737e-03,  4.40220349e-03, ...,\n",
       "          -1.50252960e-03, -8.31206143e-03, -4.82566981e-03],\n",
       "         [-2.94253230e-03,  3.19997128e-03,  6.91381190e-03, ...,\n",
       "          -5.90384938e-03, -9.10405163e-03, -3.09362338e-04],\n",
       "         [-2.15173885e-03,  3.10476101e-03,  1.70151144e-03, ...,\n",
       "          -1.41103314e-02, -4.45966050e-03, -1.56333181e-03],\n",
       "         ...,\n",
       "         [ 1.31770049e-03,  1.19899111e-02,  1.17563864e-03, ...,\n",
       "          -6.63181487e-03, -6.59608422e-03, -1.65103222e-04],\n",
       "         [-1.25041348e-03,  8.64825677e-03, -8.95064091e-04, ...,\n",
       "          -3.46428715e-03, -4.88419970e-03,  5.35254767e-05],\n",
       "         [ 3.84541531e-03,  1.36503605e-02, -1.24383616e-04, ...,\n",
       "          -4.37128730e-03, -1.93589786e-03, -8.34079110e-04]],\n",
       " \n",
       "        [[ 1.13752589e-03,  7.35148555e-03,  4.88875574e-03, ...,\n",
       "          -8.98361579e-03, -1.63664017e-02, -1.70112215e-02],\n",
       "         [-6.02156250e-03,  8.12258478e-03,  6.52331067e-03, ...,\n",
       "          -7.72033492e-03, -1.43509386e-02, -1.02747502e-02],\n",
       "         [ 1.20561315e-04,  9.03496519e-03,  5.96199476e-04, ...,\n",
       "          -2.31839204e-03, -1.20173106e-02, -1.05011556e-02],\n",
       "         ...,\n",
       "         [ 3.61481751e-03,  2.04013335e-03,  8.98262672e-03, ...,\n",
       "          -2.60543730e-03, -1.46677839e-02, -4.23721969e-03],\n",
       "         [ 3.68934148e-03, -8.11589125e-05,  4.33938298e-03, ...,\n",
       "          -3.46428715e-03, -4.88419970e-03,  5.35254767e-05],\n",
       "         [ 9.55382269e-03,  6.27210643e-03,  3.55270971e-03, ...,\n",
       "          -4.37128730e-03, -1.93589786e-03, -8.34079110e-04]],\n",
       " \n",
       "        [[-5.56306355e-03,  3.67788784e-03,  2.88103591e-03, ...,\n",
       "          -1.02022178e-02, -1.97506715e-02, -1.49808628e-02],\n",
       "         [ 1.34439766e-03,  6.41389936e-03, -2.12837500e-03, ...,\n",
       "          -4.94767772e-03, -1.88681092e-02, -1.66015830e-02],\n",
       "         [ 5.24905324e-03,  1.04589341e-02,  3.83361010e-03, ...,\n",
       "          -2.38906243e-03, -1.90186221e-02, -1.27250645e-02],\n",
       "         ...,\n",
       "         [-7.21681910e-03,  6.38371659e-03,  1.43418498e-02, ...,\n",
       "          -3.64870415e-03, -1.26485573e-02,  4.71310643e-03],\n",
       "         [-3.45410616e-03,  4.19785641e-03,  7.51366327e-03, ...,\n",
       "          -3.46428715e-03, -4.88419970e-03,  5.35254767e-05],\n",
       "         [ 4.75187926e-03,  1.02562774e-02,  5.18622436e-03, ...,\n",
       "          -4.37128730e-03, -1.93589786e-03, -8.34079110e-04]],\n",
       " \n",
       "        ...,\n",
       " \n",
       "        [[ 1.13752589e-03,  7.35148555e-03,  4.88875574e-03, ...,\n",
       "          -1.33251324e-02, -1.85788777e-02, -1.98074933e-02],\n",
       "         [-5.42086409e-03,  2.14888551e-03, -1.05527428e-03, ...,\n",
       "          -1.36535838e-02, -1.70710273e-02, -1.31247612e-02],\n",
       "         [-1.13626942e-02,  5.33063151e-03,  2.86507141e-03, ...,\n",
       "          -4.17271070e-03, -1.20688127e-02, -1.07314298e-02],\n",
       "         ...,\n",
       "         [ 1.95297447e-03,  5.60910860e-03,  9.45713557e-03, ...,\n",
       "           7.17835501e-04, -2.67707719e-03,  1.18652440e-03],\n",
       "         [-2.71117664e-03,  1.16175096e-02,  7.80150108e-03, ...,\n",
       "           6.75883424e-03,  1.17978061e-05,  1.41096115e-03],\n",
       "         [ 3.30654974e-03,  1.38941640e-02,  4.91106836e-03, ...,\n",
       "          -4.37128730e-03, -1.93589786e-03, -8.34079110e-04]],\n",
       " \n",
       "        [[-6.47252984e-03,  8.64120852e-03, -1.12577854e-03, ...,\n",
       "          -1.02218799e-03, -2.26782747e-02, -2.16924418e-02],\n",
       "         [-1.03185214e-02,  1.06385152e-03, -6.24372112e-03, ...,\n",
       "           9.83126229e-04, -1.68584567e-02, -1.56443939e-02],\n",
       "         [-1.92274004e-02,  2.23096809e-03, -2.82859569e-03, ...,\n",
       "           5.58430422e-03, -1.36428466e-02, -1.80361383e-02],\n",
       "         ...,\n",
       "         [-5.36123198e-03,  6.08930085e-03,  5.80830174e-03, ...,\n",
       "          -6.63181487e-03, -6.59608422e-03, -1.65103120e-04],\n",
       "         [-4.34163678e-03,  4.45528654e-03,  3.20711243e-03, ...,\n",
       "          -3.46428761e-03, -4.88419970e-03,  5.35257095e-05],\n",
       "         [ 2.90089520e-03,  1.07577303e-02,  3.35952686e-03, ...,\n",
       "          -4.37128777e-03, -1.93589763e-03, -8.34079285e-04]],\n",
       " \n",
       "        [[-1.66144455e-03, -7.87274272e-04, -1.01082248e-03, ...,\n",
       "           1.40987076e-02, -1.85962785e-02,  5.92976576e-03],\n",
       "         [-3.58075183e-03, -1.05014036e-03, -1.42724148e-03, ...,\n",
       "           1.18232928e-02, -1.71085782e-02,  4.41423943e-03],\n",
       "         [-5.47325006e-03, -1.00262638e-03, -1.50258420e-03, ...,\n",
       "           8.91337171e-03, -1.53267374e-02,  2.66933138e-03],\n",
       "         ...,\n",
       "         [ 1.16195055e-02,  4.30902746e-03,  2.09885952e-03, ...,\n",
       "          -6.63181487e-03, -6.59608422e-03, -1.65103120e-04],\n",
       "         [ 7.44588906e-03,  1.79765129e-03, -1.50675973e-04, ...,\n",
       "          -3.46428761e-03, -4.88419970e-03,  5.35257095e-05],\n",
       "         [ 1.07497899e-02,  7.69121293e-03,  6.68797467e-04, ...,\n",
       "          -4.37128777e-03, -1.93589763e-03, -8.34079285e-04]]],\n",
       "       dtype=float32),\n",
       " array([0., 1., 1., 1., 1., 0., 1., 1., 0., 1., 0., 0., 0., 1., 0., 0., 1.,\n",
       "        1., 0., 0.], dtype=float32))"
      ]
     },
     "execution_count": 369,
     "metadata": {},
     "output_type": "execute_result"
    }
   ],
   "source": [
    "for_traingen[0][]"
   ]
  },
  {
   "cell_type": "code",
   "execution_count": 405,
   "metadata": {},
   "outputs": [
    {
     "data": {
      "text/plain": [
       "(100, 100)"
      ]
     },
     "execution_count": 405,
     "metadata": {},
     "output_type": "execute_result"
    }
   ],
   "source": [
    "for_traingen[19][0][0].shape"
   ]
  },
  {
   "cell_type": "code",
   "execution_count": 391,
   "metadata": {},
   "outputs": [
    {
     "data": {
      "text/plain": [
       "array([-4.33538016e-03,  1.03029737e-03,  4.40220349e-03,  3.26751708e-03,\n",
       "        9.71960952e-04, -8.72215629e-03,  1.13978414e-04, -9.59210657e-03,\n",
       "        1.74429838e-03, -1.59154530e-03,  7.13769486e-03,  6.99908240e-03,\n",
       "        7.35487835e-03,  7.05661671e-03, -2.27400498e-03, -6.25329278e-03,\n",
       "        2.75308033e-03,  7.31687481e-03,  3.81290377e-03,  1.72818181e-04,\n",
       "        1.29799987e-03, -5.76186180e-03, -1.05466635e-03, -4.56646085e-03,\n",
       "        4.98215389e-03,  9.67363303e-04,  1.08257160e-02, -6.47894107e-03,\n",
       "        2.00909446e-03, -7.09529873e-03,  5.98195475e-03, -4.27968474e-03,\n",
       "       -1.34994718e-03,  2.86347698e-03, -2.19171564e-03, -6.57406682e-03,\n",
       "        7.86344695e-04, -1.36983469e-02, -7.47051369e-03,  8.50019103e-04,\n",
       "       -1.16144722e-04,  3.49828321e-03, -3.62730934e-03,  8.41027766e-04,\n",
       "       -2.00680486e-04,  3.40364082e-03,  2.92397407e-03, -1.45730260e-03,\n",
       "        2.92417919e-03,  6.85520004e-04,  1.57684740e-02,  1.20060444e-02,\n",
       "       -5.62097784e-03, -5.32460865e-03, -1.35169039e-03, -1.08719626e-02,\n",
       "       -6.84037386e-03, -4.35951306e-03, -7.55061163e-04,  1.21440068e-02,\n",
       "        1.83028611e-03,  1.73222146e-03, -1.95314595e-03,  1.08557492e-02,\n",
       "        1.22898649e-02,  1.60599519e-02, -3.65476334e-03, -9.04494897e-03,\n",
       "        9.97141004e-04,  3.60845611e-03, -2.31871847e-03, -1.81828917e-03,\n",
       "        4.32237424e-03, -1.99710089e-03,  9.11238417e-03,  1.10183321e-02,\n",
       "        1.45866827e-03,  2.06745067e-03, -3.88901462e-05, -3.03018931e-03,\n",
       "        4.71877400e-03,  5.59363840e-03, -1.10603459e-02,  1.58192182e-03,\n",
       "        1.98708624e-02, -8.74947570e-03, -3.88202723e-03, -3.97560513e-03,\n",
       "       -1.12024043e-02,  1.45478221e-02, -1.03425914e-02,  3.72054474e-03,\n",
       "       -1.49503732e-02,  5.42918162e-04, -9.40447766e-03,  4.45897225e-03,\n",
       "       -5.61242411e-03, -1.50252960e-03, -8.31206143e-03, -4.82566981e-03],\n",
       "      dtype=float32)"
      ]
     },
     "execution_count": 391,
     "metadata": {},
     "output_type": "execute_result"
    }
   ],
   "source": [
    "for_traingen[i][0][0][0]"
   ]
  },
  {
   "cell_type": "code",
   "execution_count": 439,
   "metadata": {},
   "outputs": [
    {
     "data": {
      "text/plain": [
       "(100, 100)"
      ]
     },
     "execution_count": 439,
     "metadata": {},
     "output_type": "execute_result"
    }
   ],
   "source": [
    "for_traingen[0][0][0].shape"
   ]
  },
  {
   "cell_type": "code",
   "execution_count": 406,
   "metadata": {},
   "outputs": [],
   "source": [
    "df = pd.DataFrame(columns=[\"ScriptPath\",\"Label\"])\n",
    "x = []\n",
    "y = []\n",
    "for i in range(my_batch_size):\n",
    "    for j in range(len(for_traingen[i][1])-1):\n",
    "        x.append(for_traingen[i][0][j])\n",
    "        y.append(for_traingen[i][1][j])\n",
    "df[\"ScriptPath\"] = x\n",
    "df[\"Label\"] = y"
   ]
  },
  {
   "cell_type": "code",
   "execution_count": 407,
   "metadata": {},
   "outputs": [
    {
     "data": {
      "text/html": [
       "<div>\n",
       "<style scoped>\n",
       "    .dataframe tbody tr th:only-of-type {\n",
       "        vertical-align: middle;\n",
       "    }\n",
       "\n",
       "    .dataframe tbody tr th {\n",
       "        vertical-align: top;\n",
       "    }\n",
       "\n",
       "    .dataframe thead th {\n",
       "        text-align: right;\n",
       "    }\n",
       "</style>\n",
       "<table border=\"1\" class=\"dataframe\">\n",
       "  <thead>\n",
       "    <tr style=\"text-align: right;\">\n",
       "      <th></th>\n",
       "      <th>ScriptPath</th>\n",
       "      <th>Label</th>\n",
       "    </tr>\n",
       "  </thead>\n",
       "  <tbody>\n",
       "    <tr>\n",
       "      <th>0</th>\n",
       "      <td>[[-0.00433538, 0.0010302974, 0.0044022035, 0.0...</td>\n",
       "      <td>0.0</td>\n",
       "    </tr>\n",
       "    <tr>\n",
       "      <th>1</th>\n",
       "      <td>[[0.0011375259, 0.0073514855, 0.0048887557, -0...</td>\n",
       "      <td>1.0</td>\n",
       "    </tr>\n",
       "    <tr>\n",
       "      <th>2</th>\n",
       "      <td>[[-0.0055630635, 0.0036778878, 0.002881036, -0...</td>\n",
       "      <td>1.0</td>\n",
       "    </tr>\n",
       "    <tr>\n",
       "      <th>3</th>\n",
       "      <td>[[0.005203909, 0.0037517848, -0.005205665, -0....</td>\n",
       "      <td>1.0</td>\n",
       "    </tr>\n",
       "    <tr>\n",
       "      <th>4</th>\n",
       "      <td>[[0.004139867, 0.0064726085, -0.00440897, -0.0...</td>\n",
       "      <td>1.0</td>\n",
       "    </tr>\n",
       "  </tbody>\n",
       "</table>\n",
       "</div>"
      ],
      "text/plain": [
       "                                          ScriptPath  Label\n",
       "0  [[-0.00433538, 0.0010302974, 0.0044022035, 0.0...    0.0\n",
       "1  [[0.0011375259, 0.0073514855, 0.0048887557, -0...    1.0\n",
       "2  [[-0.0055630635, 0.0036778878, 0.002881036, -0...    1.0\n",
       "3  [[0.005203909, 0.0037517848, -0.005205665, -0....    1.0\n",
       "4  [[0.004139867, 0.0064726085, -0.00440897, -0.0...    1.0"
      ]
     },
     "execution_count": 407,
     "metadata": {},
     "output_type": "execute_result"
    }
   ],
   "source": [
    "df.head()"
   ]
  },
  {
   "cell_type": "code",
   "execution_count": 503,
   "metadata": {},
   "outputs": [],
   "source": [
    "class CustomDataGen_(keras.utils.Sequence):\n",
    "    \n",
    "    def __init__(self, df, X_col, y_col,batch_size,test=0,shuffle=True,sub_path=\"\",df_path=True):\n",
    "        \n",
    "        self.df = df.copy()\n",
    "        self.X_col = X_col\n",
    "        self.y_col = y_col\n",
    "        self.batch_size = batch_size\n",
    "        self.test = test\n",
    "        self.shuffle = shuffle\n",
    "        self.sub_path = sub_path\n",
    "        self.n = len(self.df[self.df.columns[0]])\n",
    "        self.df_path = df_path\n",
    "    \n",
    "    def on_epoch_end(self):\n",
    "        if self.shuffle:\n",
    "            self.df = self.df.sample(frac=1).reset_index(drop=True)\n",
    "    \n",
    "    def __get_input(self, path):\n",
    "        try:\n",
    "            with open(self.sub_path+path) as js_file:\n",
    "                script = js_file.read()\n",
    "            script = sequence_of_syntax_units(script)\n",
    "            return script\n",
    "        except:\n",
    "            return 'None'\n",
    "    def __get_output(self, label):\n",
    "        return label\n",
    "#         return keras.utils.to_categorical(label, num_classes=2)\n",
    "    \n",
    "    def __get_data(self, batches):\n",
    "        if self.df_path == True:\n",
    "            path_batch = batches[self.X_col['path']]\n",
    "\n",
    "            name_batch = batches[self.y_col['name']]\n",
    "\n",
    "            X_batch = np.asarray([self.__get_input(x) for x in path_batch]).astype('object')\n",
    "\n",
    "            y_batch = np.asarray([self.__get_output(y) for y in name_batch]).astype('object')\n",
    "\n",
    "            index = np.where(X_batch=='None')[0]\n",
    "\n",
    "            np.delete(X_batch, index, axis=0)\n",
    "            np.delete(y_batch, index, axis=0)\n",
    "\n",
    "            X_batch  = preprocessing_dataset_(X_batch , test = self.test )\n",
    "\n",
    "            X_batch = K.cast_to_floatx(X_batch)\n",
    "            y_batch = K.cast_to_floatx(y_batch)\n",
    "        else:\n",
    "            \n",
    "            path_batch = batches[self.X_col['path']]\n",
    "\n",
    "            name_batch = batches[self.y_col['name']]\n",
    "\n",
    "            X_batch = np.asarray([path_batch])\n",
    "\n",
    "            y_batch = np.asarray([name_batch])\n",
    "\n",
    "            X_batch = K.cast_to_floatx(X_batch)\n",
    "            y_batch = K.cast_to_floatx(y_batch)\n",
    "            \n",
    "            X_batch = X_batch.reshape(20,100,100)\n",
    "            y_batch = y_batch.reshape(-1,1)\n",
    "\n",
    "        return X_batch, y_batch\n",
    "    \n",
    "    def __getitem__(self, index):\n",
    "        \n",
    "        batches = self.df[index * self.batch_size:(index + 1) * self.batch_size]\n",
    "        X, y = self.__get_data(batches)        \n",
    "        return X, y\n",
    "    \n",
    "    def __len__(self):\n",
    "        return self.n // self.batch_size"
   ]
  },
  {
   "cell_type": "code",
   "execution_count": 504,
   "metadata": {},
   "outputs": [],
   "source": [
    "# df.shape"
   ]
  },
  {
   "cell_type": "code",
   "execution_count": 505,
   "metadata": {},
   "outputs": [],
   "source": [
    "df_for_traingen = CustomDataGen_(df,\n",
    "                                X_col={'path':'ScriptPath'},\n",
    "                                y_col={'name': 'Label'},\n",
    "                                batch_size=my_batch_size,\n",
    "                                sub_path='G:/JSContanaDataSet/',\n",
    "                                test=0,\n",
    "                                df_path = False\n",
    "                               )"
   ]
  },
  {
   "cell_type": "code",
   "execution_count": 507,
   "metadata": {},
   "outputs": [
    {
     "data": {
      "text/plain": [
       "(20, 100, 100)"
      ]
     },
     "execution_count": 507,
     "metadata": {},
     "output_type": "execute_result"
    }
   ],
   "source": [
    "list(df_for_traingen)[1][0].shape"
   ]
  },
  {
   "cell_type": "code",
   "execution_count": 498,
   "metadata": {},
   "outputs": [
    {
     "data": {
      "text/plain": [
       "(20, 100, 100)"
      ]
     },
     "execution_count": 498,
     "metadata": {},
     "output_type": "execute_result"
    }
   ],
   "source": [
    "z.shape"
   ]
  },
  {
   "cell_type": "code",
   "execution_count": 463,
   "metadata": {},
   "outputs": [],
   "source": [
    "# x = []\n",
    "# y = []\n",
    "# for i in range(my_batch_size):\n",
    "#     print(\"========================\")\n",
    "#     x.append(for_traingen[i][0][0])\n",
    "#     y.append(for_traingen[i][1][0])\n",
    "# x = np.array(x)\n",
    "# y = np.array(y)"
   ]
  },
  {
   "cell_type": "code",
   "execution_count": 508,
   "metadata": {},
   "outputs": [
    {
     "ename": "ValueError",
     "evalue": "Creating variables on a non-first call to a function decorated with tf.function.",
     "output_type": "error",
     "traceback": [
      "\u001b[1;31m---------------------------------------------------------------------------\u001b[0m",
      "\u001b[1;31mValueError\u001b[0m                                Traceback (most recent call last)",
      "\u001b[1;32m<ipython-input-508-31f507337c58>\u001b[0m in \u001b[0;36m<module>\u001b[1;34m\u001b[0m\n\u001b[1;32m----> 1\u001b[1;33m \u001b[0mModel_without_first_layer\u001b[0m \u001b[1;33m,\u001b[0m \u001b[0mModel_without_first_layer_history\u001b[0m \u001b[1;33m,\u001b[0m \u001b[0mModel_without_first_layer_name\u001b[0m \u001b[1;33m=\u001b[0m \u001b[0mfit_model\u001b[0m\u001b[1;33m(\u001b[0m\u001b[0mModel_without_first_layer\u001b[0m\u001b[1;33m,\u001b[0m\u001b[1;34m\"Model_without_first_layer\"\u001b[0m\u001b[1;33m,\u001b[0m\u001b[0mdf_for_traingen\u001b[0m\u001b[1;33m,\u001b[0m\u001b[0mwith_test\u001b[0m\u001b[1;33m=\u001b[0m\u001b[1;36m0\u001b[0m\u001b[1;33m)\u001b[0m\u001b[1;33m\u001b[0m\u001b[1;33m\u001b[0m\u001b[0m\n\u001b[0m",
      "\u001b[1;32m<ipython-input-123-cf915477279a>\u001b[0m in \u001b[0;36mfit_model\u001b[1;34m(model, model_name, training_generator, validation_data, with_test)\u001b[0m\n\u001b[0;32m      4\u001b[0m         \u001b[0mhistory\u001b[0m \u001b[1;33m=\u001b[0m \u001b[0mmodel\u001b[0m\u001b[1;33m.\u001b[0m\u001b[0mfit_generator\u001b[0m\u001b[1;33m(\u001b[0m\u001b[0mgenerator\u001b[0m\u001b[1;33m=\u001b[0m\u001b[0mtraining_generator\u001b[0m\u001b[1;33m,\u001b[0m\u001b[0mepochs\u001b[0m\u001b[1;33m=\u001b[0m\u001b[1;36m10\u001b[0m\u001b[1;33m,\u001b[0m\u001b[0mverbose\u001b[0m\u001b[1;33m=\u001b[0m\u001b[1;32mFalse\u001b[0m\u001b[1;33m,\u001b[0m\u001b[0mvalidation_data\u001b[0m\u001b[1;33m=\u001b[0m\u001b[0mvalidation_data\u001b[0m\u001b[1;33m)\u001b[0m\u001b[1;33m\u001b[0m\u001b[1;33m\u001b[0m\u001b[0m\n\u001b[0;32m      5\u001b[0m     \u001b[1;32melse\u001b[0m\u001b[1;33m:\u001b[0m\u001b[1;33m\u001b[0m\u001b[1;33m\u001b[0m\u001b[0m\n\u001b[1;32m----> 6\u001b[1;33m         \u001b[0mhistory\u001b[0m \u001b[1;33m=\u001b[0m \u001b[0mmodel\u001b[0m\u001b[1;33m.\u001b[0m\u001b[0mfit_generator\u001b[0m\u001b[1;33m(\u001b[0m\u001b[0mgenerator\u001b[0m\u001b[1;33m=\u001b[0m\u001b[0mtraining_generator\u001b[0m\u001b[1;33m,\u001b[0m\u001b[0mepochs\u001b[0m\u001b[1;33m=\u001b[0m\u001b[1;36m10\u001b[0m\u001b[1;33m,\u001b[0m\u001b[0mverbose\u001b[0m\u001b[1;33m=\u001b[0m\u001b[1;32mFalse\u001b[0m\u001b[1;33m)\u001b[0m\u001b[1;33m\u001b[0m\u001b[1;33m\u001b[0m\u001b[0m\n\u001b[0m\u001b[0;32m      7\u001b[0m     \u001b[0mmodel\u001b[0m\u001b[1;33m.\u001b[0m\u001b[0msave\u001b[0m\u001b[1;33m(\u001b[0m\u001b[0mmodel_name\u001b[0m\u001b[1;33m)\u001b[0m\u001b[1;33m\u001b[0m\u001b[1;33m\u001b[0m\u001b[0m\n\u001b[0;32m      8\u001b[0m     \u001b[1;32mreturn\u001b[0m \u001b[0mmodel\u001b[0m \u001b[1;33m,\u001b[0m \u001b[0mhistory\u001b[0m \u001b[1;33m,\u001b[0m \u001b[0mmodel_name\u001b[0m\u001b[1;33m\u001b[0m\u001b[1;33m\u001b[0m\u001b[0m\n",
      "\u001b[1;32mC:\\ProgramData\\Anaconda3\\lib\\site-packages\\tensorflow\\python\\util\\deprecation.py\u001b[0m in \u001b[0;36mnew_func\u001b[1;34m(*args, **kwargs)\u001b[0m\n\u001b[0;32m    322\u001b[0m               \u001b[1;34m'in a future version'\u001b[0m \u001b[1;32mif\u001b[0m \u001b[0mdate\u001b[0m \u001b[1;32mis\u001b[0m \u001b[1;32mNone\u001b[0m \u001b[1;32melse\u001b[0m \u001b[1;33m(\u001b[0m\u001b[1;34m'after %s'\u001b[0m \u001b[1;33m%\u001b[0m \u001b[0mdate\u001b[0m\u001b[1;33m)\u001b[0m\u001b[1;33m,\u001b[0m\u001b[1;33m\u001b[0m\u001b[1;33m\u001b[0m\u001b[0m\n\u001b[0;32m    323\u001b[0m               instructions)\n\u001b[1;32m--> 324\u001b[1;33m       \u001b[1;32mreturn\u001b[0m \u001b[0mfunc\u001b[0m\u001b[1;33m(\u001b[0m\u001b[1;33m*\u001b[0m\u001b[0margs\u001b[0m\u001b[1;33m,\u001b[0m \u001b[1;33m**\u001b[0m\u001b[0mkwargs\u001b[0m\u001b[1;33m)\u001b[0m\u001b[1;33m\u001b[0m\u001b[1;33m\u001b[0m\u001b[0m\n\u001b[0m\u001b[0;32m    325\u001b[0m     return tf_decorator.make_decorator(\n\u001b[0;32m    326\u001b[0m         \u001b[0mfunc\u001b[0m\u001b[1;33m,\u001b[0m \u001b[0mnew_func\u001b[0m\u001b[1;33m,\u001b[0m \u001b[1;34m'deprecated'\u001b[0m\u001b[1;33m,\u001b[0m\u001b[1;33m\u001b[0m\u001b[1;33m\u001b[0m\u001b[0m\n",
      "\u001b[1;32mC:\\ProgramData\\Anaconda3\\lib\\site-packages\\tensorflow\\python\\keras\\engine\\training.py\u001b[0m in \u001b[0;36mfit_generator\u001b[1;34m(self, generator, steps_per_epoch, epochs, verbose, callbacks, validation_data, validation_steps, validation_freq, class_weight, max_queue_size, workers, use_multiprocessing, shuffle, initial_epoch)\u001b[0m\n\u001b[0;32m   1827\u001b[0m         \u001b[0muse_multiprocessing\u001b[0m\u001b[1;33m=\u001b[0m\u001b[0muse_multiprocessing\u001b[0m\u001b[1;33m,\u001b[0m\u001b[1;33m\u001b[0m\u001b[1;33m\u001b[0m\u001b[0m\n\u001b[0;32m   1828\u001b[0m         \u001b[0mshuffle\u001b[0m\u001b[1;33m=\u001b[0m\u001b[0mshuffle\u001b[0m\u001b[1;33m,\u001b[0m\u001b[1;33m\u001b[0m\u001b[1;33m\u001b[0m\u001b[0m\n\u001b[1;32m-> 1829\u001b[1;33m         initial_epoch=initial_epoch)\n\u001b[0m\u001b[0;32m   1830\u001b[0m \u001b[1;33m\u001b[0m\u001b[0m\n\u001b[0;32m   1831\u001b[0m   @deprecation.deprecated(\n",
      "\u001b[1;32mC:\\ProgramData\\Anaconda3\\lib\\site-packages\\tensorflow\\python\\keras\\engine\\training.py\u001b[0m in \u001b[0;36m_method_wrapper\u001b[1;34m(self, *args, **kwargs)\u001b[0m\n\u001b[0;32m    106\u001b[0m   \u001b[1;32mdef\u001b[0m \u001b[0m_method_wrapper\u001b[0m\u001b[1;33m(\u001b[0m\u001b[0mself\u001b[0m\u001b[1;33m,\u001b[0m \u001b[1;33m*\u001b[0m\u001b[0margs\u001b[0m\u001b[1;33m,\u001b[0m \u001b[1;33m**\u001b[0m\u001b[0mkwargs\u001b[0m\u001b[1;33m)\u001b[0m\u001b[1;33m:\u001b[0m\u001b[1;33m\u001b[0m\u001b[1;33m\u001b[0m\u001b[0m\n\u001b[0;32m    107\u001b[0m     \u001b[1;32mif\u001b[0m \u001b[1;32mnot\u001b[0m \u001b[0mself\u001b[0m\u001b[1;33m.\u001b[0m\u001b[0m_in_multi_worker_mode\u001b[0m\u001b[1;33m(\u001b[0m\u001b[1;33m)\u001b[0m\u001b[1;33m:\u001b[0m  \u001b[1;31m# pylint: disable=protected-access\u001b[0m\u001b[1;33m\u001b[0m\u001b[1;33m\u001b[0m\u001b[0m\n\u001b[1;32m--> 108\u001b[1;33m       \u001b[1;32mreturn\u001b[0m \u001b[0mmethod\u001b[0m\u001b[1;33m(\u001b[0m\u001b[0mself\u001b[0m\u001b[1;33m,\u001b[0m \u001b[1;33m*\u001b[0m\u001b[0margs\u001b[0m\u001b[1;33m,\u001b[0m \u001b[1;33m**\u001b[0m\u001b[0mkwargs\u001b[0m\u001b[1;33m)\u001b[0m\u001b[1;33m\u001b[0m\u001b[1;33m\u001b[0m\u001b[0m\n\u001b[0m\u001b[0;32m    109\u001b[0m \u001b[1;33m\u001b[0m\u001b[0m\n\u001b[0;32m    110\u001b[0m     \u001b[1;31m# Running inside `run_distribute_coordinator` already.\u001b[0m\u001b[1;33m\u001b[0m\u001b[1;33m\u001b[0m\u001b[1;33m\u001b[0m\u001b[0m\n",
      "\u001b[1;32mC:\\ProgramData\\Anaconda3\\lib\\site-packages\\tensorflow\\python\\keras\\engine\\training.py\u001b[0m in \u001b[0;36mfit\u001b[1;34m(self, x, y, batch_size, epochs, verbose, callbacks, validation_split, validation_data, shuffle, class_weight, sample_weight, initial_epoch, steps_per_epoch, validation_steps, validation_batch_size, validation_freq, max_queue_size, workers, use_multiprocessing)\u001b[0m\n\u001b[0;32m   1096\u001b[0m                 batch_size=batch_size):\n\u001b[0;32m   1097\u001b[0m               \u001b[0mcallbacks\u001b[0m\u001b[1;33m.\u001b[0m\u001b[0mon_train_batch_begin\u001b[0m\u001b[1;33m(\u001b[0m\u001b[0mstep\u001b[0m\u001b[1;33m)\u001b[0m\u001b[1;33m\u001b[0m\u001b[1;33m\u001b[0m\u001b[0m\n\u001b[1;32m-> 1098\u001b[1;33m               \u001b[0mtmp_logs\u001b[0m \u001b[1;33m=\u001b[0m \u001b[0mtrain_function\u001b[0m\u001b[1;33m(\u001b[0m\u001b[0miterator\u001b[0m\u001b[1;33m)\u001b[0m\u001b[1;33m\u001b[0m\u001b[1;33m\u001b[0m\u001b[0m\n\u001b[0m\u001b[0;32m   1099\u001b[0m               \u001b[1;32mif\u001b[0m \u001b[0mdata_handler\u001b[0m\u001b[1;33m.\u001b[0m\u001b[0mshould_sync\u001b[0m\u001b[1;33m:\u001b[0m\u001b[1;33m\u001b[0m\u001b[1;33m\u001b[0m\u001b[0m\n\u001b[0;32m   1100\u001b[0m                 \u001b[0mcontext\u001b[0m\u001b[1;33m.\u001b[0m\u001b[0masync_wait\u001b[0m\u001b[1;33m(\u001b[0m\u001b[1;33m)\u001b[0m\u001b[1;33m\u001b[0m\u001b[1;33m\u001b[0m\u001b[0m\n",
      "\u001b[1;32mC:\\ProgramData\\Anaconda3\\lib\\site-packages\\tensorflow\\python\\eager\\def_function.py\u001b[0m in \u001b[0;36m__call__\u001b[1;34m(self, *args, **kwds)\u001b[0m\n\u001b[0;32m    778\u001b[0m       \u001b[1;32melse\u001b[0m\u001b[1;33m:\u001b[0m\u001b[1;33m\u001b[0m\u001b[1;33m\u001b[0m\u001b[0m\n\u001b[0;32m    779\u001b[0m         \u001b[0mcompiler\u001b[0m \u001b[1;33m=\u001b[0m \u001b[1;34m\"nonXla\"\u001b[0m\u001b[1;33m\u001b[0m\u001b[1;33m\u001b[0m\u001b[0m\n\u001b[1;32m--> 780\u001b[1;33m         \u001b[0mresult\u001b[0m \u001b[1;33m=\u001b[0m \u001b[0mself\u001b[0m\u001b[1;33m.\u001b[0m\u001b[0m_call\u001b[0m\u001b[1;33m(\u001b[0m\u001b[1;33m*\u001b[0m\u001b[0margs\u001b[0m\u001b[1;33m,\u001b[0m \u001b[1;33m**\u001b[0m\u001b[0mkwds\u001b[0m\u001b[1;33m)\u001b[0m\u001b[1;33m\u001b[0m\u001b[1;33m\u001b[0m\u001b[0m\n\u001b[0m\u001b[0;32m    781\u001b[0m \u001b[1;33m\u001b[0m\u001b[0m\n\u001b[0;32m    782\u001b[0m       \u001b[0mnew_tracing_count\u001b[0m \u001b[1;33m=\u001b[0m \u001b[0mself\u001b[0m\u001b[1;33m.\u001b[0m\u001b[0m_get_tracing_count\u001b[0m\u001b[1;33m(\u001b[0m\u001b[1;33m)\u001b[0m\u001b[1;33m\u001b[0m\u001b[1;33m\u001b[0m\u001b[0m\n",
      "\u001b[1;32mC:\\ProgramData\\Anaconda3\\lib\\site-packages\\tensorflow\\python\\eager\\def_function.py\u001b[0m in \u001b[0;36m_call\u001b[1;34m(self, *args, **kwds)\u001b[0m\n\u001b[0;32m    814\u001b[0m       \u001b[0mresults\u001b[0m \u001b[1;33m=\u001b[0m \u001b[0mself\u001b[0m\u001b[1;33m.\u001b[0m\u001b[0m_stateful_fn\u001b[0m\u001b[1;33m(\u001b[0m\u001b[1;33m*\u001b[0m\u001b[0margs\u001b[0m\u001b[1;33m,\u001b[0m \u001b[1;33m**\u001b[0m\u001b[0mkwds\u001b[0m\u001b[1;33m)\u001b[0m\u001b[1;33m\u001b[0m\u001b[1;33m\u001b[0m\u001b[0m\n\u001b[0;32m    815\u001b[0m       \u001b[1;32mif\u001b[0m \u001b[0mself\u001b[0m\u001b[1;33m.\u001b[0m\u001b[0m_created_variables\u001b[0m\u001b[1;33m:\u001b[0m\u001b[1;33m\u001b[0m\u001b[1;33m\u001b[0m\u001b[0m\n\u001b[1;32m--> 816\u001b[1;33m         raise ValueError(\"Creating variables on a non-first call to a function\"\n\u001b[0m\u001b[0;32m    817\u001b[0m                          \" decorated with tf.function.\")\n\u001b[0;32m    818\u001b[0m       \u001b[1;32mreturn\u001b[0m \u001b[0mresults\u001b[0m\u001b[1;33m\u001b[0m\u001b[1;33m\u001b[0m\u001b[0m\n",
      "\u001b[1;31mValueError\u001b[0m: Creating variables on a non-first call to a function decorated with tf.function."
     ]
    }
   ],
   "source": [
    "Model_without_first_layer , Model_without_first_layer_history , Model_without_first_layer_name = fit_model(Model_without_first_layer,\"Model_without_first_layer\",df_for_traingen,with_test=0)"
   ]
  },
  {
   "cell_type": "code",
   "execution_count": 157,
   "metadata": {},
   "outputs": [],
   "source": [
    "evaluation(Model_without_first_layer,Model_without_first_layer_history,lstm_X_train,y_train,lstm_X_test,y_test)"
   ]
  },
  {
   "cell_type": "code",
   "execution_count": 65,
   "metadata": {},
   "outputs": [],
   "source": [
    "# clear_session()"
   ]
  },
  {
   "cell_type": "code",
   "execution_count": null,
   "metadata": {},
   "outputs": [],
   "source": [
    "################################################################"
   ]
  },
  {
   "cell_type": "code",
   "execution_count": null,
   "metadata": {},
   "outputs": [],
   "source": []
  },
  {
   "cell_type": "code",
   "execution_count": null,
   "metadata": {},
   "outputs": [],
   "source": []
  },
  {
   "cell_type": "code",
   "execution_count": null,
   "metadata": {},
   "outputs": [],
   "source": [
    "\n",
    "# file_to_read = open(\"stored_object.pickle\", \"rb\")\n",
    "\n",
    "# loaded_object = pickle.load(file_to_read)\n",
    "\n",
    "# file_to_read.close()\n",
    "# print(loaded_object)\n",
    "\n",
    "# ss = np.asarray([\"1\", \"www\",\"2\", \"None\",\"muawiyua\",None,None]).astype('object')\n",
    "# index = np.where(ss == None)[0]\n",
    "# print(index)\n",
    "\n",
    "# np.delete(ss, index, axis=0)\n",
    "\n",
    "# l = []\n",
    "# il = []\n",
    "# i = 0 \n",
    "# for s in ss:\n",
    "#     if s!=None:\n",
    "#         l.append(s)\n",
    "#         il.append(i)\n",
    "#     i+=1\n",
    "\n",
    "# print(np.asarray(l))"
   ]
  },
  {
   "cell_type": "code",
   "execution_count": null,
   "metadata": {},
   "outputs": [],
   "source": []
  },
  {
   "cell_type": "code",
   "execution_count": 35,
   "metadata": {},
   "outputs": [],
   "source": [
    "# def fit_Model(model,model_name,X_train,y_train,X_test=0,y_test=0,chunk_size=10,with_test=0):\n",
    "#     model_name = str(model_name)+\".h5\"\n",
    "#     X_train_List = chunking_data(X_train,chunk_size)\n",
    "#     y_train_List = chunking_data(y_train,chunk_size)\n",
    "   \n",
    "#     if with_test!=0:\n",
    "#         X_test_List = chunking_data(X_test,chunk_size)\n",
    "#         y_test_List = chunking_data(y_test,chunk_size)\n",
    "#         history = model.fit(X_train_List[0], y_train_List[0],epochs=10,verbose=False,validation_data=(X_test_List[0], y_test_List[0]))\n",
    "#     else:\n",
    "#         history = model.fit(X_train_List[0], y_train_List[0],epochs=10,verbose=False)\n",
    "            \n",
    "#     model.save(model_name)\n",
    "#     for i in range(1,len(X_train_List)-1):\n",
    "#         model = load_model(model_name)\n",
    "#         if with_test!=0:\n",
    "#             model.fit(X_train_List[i], y_train_List[i],epochs=10,verbose=False,validation_data=(X_test_List[i], y_test_List[i]))\n",
    "#         else:\n",
    "#             model.fit(X_train_List[i], y_train_List[i],epochs=10,verbose=False)\n",
    "#         loaded_train_test_model.save(model_name)    \n",
    "#     return model , history , model_name"
   ]
  },
  {
   "cell_type": "code",
   "execution_count": 36,
   "metadata": {},
   "outputs": [],
   "source": [
    "# def fit_model_(model,model_name,X_train,y_train,X_test=0,y_test=0,with_test=0):\n",
    "#     model_name = str(model_name)+\".h5\"\n",
    "#     if with_test!=0:\n",
    "#         history = model.fit(X_train, y_train,epochs=10,verbose=False,validation_data=(X_test, y_test))\n",
    "#     else:\n",
    "#         history = model.fit(X_train, y_train,epochs=10,verbose=False)\n",
    "#     model.save(model_name)\n",
    "#     return model , history , model_name"
   ]
  },
  {
   "cell_type": "code",
   "execution_count": 126,
   "metadata": {},
   "outputs": [],
   "source": [
    "# my_df = pd.read_csv('G:/JSContanaDataSet/script_path_data.csv')\n",
    "\n",
    "# traingen = CustomDataGen(my_df.sample(1000),\n",
    "#                          X_col={'path':'ScriptPath'},\n",
    "#                          y_col={'name': 'Label'},\n",
    "#                          batch_size=200,sub_path='G:/JSContanaDataSet/')"
   ]
  },
  {
   "cell_type": "code",
   "execution_count": null,
   "metadata": {},
   "outputs": [],
   "source": [
    "# model.fit_generator(generator=training_generator,\n",
    "#                     validation_data=validation_generator,\n",
    "#                     use_multiprocessing=True,\n",
    "#                     workers=6)"
   ]
  },
  {
   "cell_type": "code",
   "execution_count": 158,
   "metadata": {},
   "outputs": [],
   "source": [
    "# path_train_data = 'G:/JSContanaDataSet/script__df.csv'\n",
    "# # num_words = 400000\n",
    "# num_words = 400\n",
    "# # maxlen = 1024\n",
    "# maxlen = 100\n",
    "# embedding_dim = 50\n",
    "# myoptimizer = 'adam'\n",
    "# myloss= 'binary_crossentropy'\n",
    "# mymetrics = 'accuracy'\n",
    "\n",
    "\n",
    "# # sentences_train, sentences_test, y_train, y_test = Read_data_and_split(path_train_data)\n",
    "# # X_train,X_test = preprocessing_dataset(num_words,sentences_train,sentences_test,maxlen)\n",
    "# # x_Data = np.concatenate((X_train, X_test), axis=0)\n",
    "# # y_Data = np.concatenate((y_train, y_test), axis=0)"
   ]
  },
  {
   "cell_type": "code",
   "execution_count": 27,
   "metadata": {},
   "outputs": [],
   "source": []
  },
  {
   "cell_type": "markdown",
   "metadata": {},
   "source": [
    "# Model for All Data"
   ]
  },
  {
   "cell_type": "code",
   "execution_count": 212,
   "metadata": {},
   "outputs": [],
   "source": [
    "# Model_for_all_data = Model()"
   ]
  },
  {
   "cell_type": "code",
   "execution_count": 46,
   "metadata": {
    "scrolled": true
   },
   "outputs": [],
   "source": [
    "# Model_for_all_data , history , model_name = fit_model(Model_for_all_data,\"Model_for_all_data\",x_Data,y_Data,with_test=0)"
   ]
  },
  {
   "cell_type": "code",
   "execution_count": 213,
   "metadata": {},
   "outputs": [],
   "source": [
    "# keras_function = K.function([Model_for_all_data.input], [Model_for_all_data.layers[1].output])\n",
    "# first_layer_output = keras_function([x_Data, 1])\n",
    "# save('first_layer_output.npy', first_layer_output[0])\n",
    "# first_layer_output = load('first_layer_output.npy')"
   ]
  },
  {
   "cell_type": "code",
   "execution_count": 39,
   "metadata": {},
   "outputs": [],
   "source": [
    "# clear_session()"
   ]
  },
  {
   "cell_type": "markdown",
   "metadata": {},
   "source": [
    "# Model for train&test data"
   ]
  },
  {
   "cell_type": "code",
   "execution_count": 19,
   "metadata": {},
   "outputs": [
    {
     "name": "stdout",
     "output_type": "stream",
     "text": [
      "Model: \"sequential_1\"\n",
      "_________________________________________________________________\n",
      "Layer (type)                 Output Shape              Param #   \n",
      "=================================================================\n",
      "embedding_1 (Embedding)      (None, 100, 50)           1198000   \n",
      "_________________________________________________________________\n",
      "bidirectional_2 (Bidirection (None, 100, 100)          40400     \n",
      "_________________________________________________________________\n",
      "bidirectional_3 (Bidirection (None, 100, 100)          60400     \n",
      "_________________________________________________________________\n",
      "conv1d_4 (Conv1D)            (None, 94, 128)           89728     \n",
      "_________________________________________________________________\n",
      "conv1d_5 (Conv1D)            (None, 80, 128)           245888    \n",
      "_________________________________________________________________\n",
      "conv1d_6 (Conv1D)            (None, 56, 128)           409728    \n",
      "_________________________________________________________________\n",
      "conv1d_7 (Conv1D)            (None, 22, 128)           573568    \n",
      "_________________________________________________________________\n",
      "global_max_pooling1d_1 (Glob (None, 128)               0         \n",
      "_________________________________________________________________\n",
      "dense_2 (Dense)              (None, 64)                8256      \n",
      "_________________________________________________________________\n",
      "dropout_1 (Dropout)          (None, 64)                0         \n",
      "_________________________________________________________________\n",
      "dense_3 (Dense)              (None, 1)                 65        \n",
      "=================================================================\n",
      "Total params: 2,626,033\n",
      "Trainable params: 2,626,033\n",
      "Non-trainable params: 0\n",
      "_________________________________________________________________\n"
     ]
    }
   ],
   "source": [
    "# train_test_Model = Model(vocab_size,embedding_dim,maxlen,myoptimizer,myloss,mymetrics)"
   ]
  },
  {
   "cell_type": "code",
   "execution_count": 20,
   "metadata": {},
   "outputs": [],
   "source": [
    "# train_test_Model , train_test_Model_history , train_test_Model_model_name = fit_model(train_test_Model,\"train_test_Model\",X_train,y_train,X_test,y_test,with_test=1)"
   ]
  },
  {
   "cell_type": "code",
   "execution_count": 21,
   "metadata": {},
   "outputs": [
    {
     "name": "stdout",
     "output_type": "stream",
     "text": [
      "Training Accuracy: 0.5040\n",
      "Testing Accuracy:  0.5240\n"
     ]
    },
    {
     "name": "stderr",
     "output_type": "stream",
     "text": [
      "C:\\ProgramData\\Anaconda3\\lib\\site-packages\\sklearn\\metrics\\_classification.py:1272: UndefinedMetricWarning: Recall and F-score are ill-defined and being set to 0.0 in labels with no true samples. Use `zero_division` parameter to control this behavior.\n",
      "  _warn_prf(average, modifier, msg_start, len(result))\n"
     ]
    },
    {
     "name": "stdout",
     "output_type": "stream",
     "text": [
      "              precision    recall  f1-score   support\n",
      "\n",
      "         0.0       0.00      0.00      0.00         0\n",
      "         1.0       1.00      0.52      0.69       500\n",
      "\n",
      "    accuracy                           0.52       500\n",
      "   macro avg       0.50      0.26      0.34       500\n",
      "weighted avg       1.00      0.52      0.69       500\n",
      "\n"
     ]
    },
    {
     "data": {
      "image/png": "[encoded data removed]",
      "text/plain": [
       "<Figure size 864x360 with 2 Axes>"
      ]
     },
     "metadata": {},
     "output_type": "display_data"
    }
   ],
   "source": [
    "# evaluation(train_test_Model,train_test_Model_history,X_train,y_train,X_test,y_test)"
   ]
  },
  {
   "cell_type": "code",
   "execution_count": null,
   "metadata": {},
   "outputs": [],
   "source": [
    "# clear_session()"
   ]
  },
  {
   "cell_type": "markdown",
   "metadata": {},
   "source": [
    "# Model Without first LSTM layer"
   ]
  },
  {
   "cell_type": "code",
   "execution_count": 22,
   "metadata": {},
   "outputs": [
    {
     "name": "stdout",
     "output_type": "stream",
     "text": [
      "Model: \"sequential_2\"\n",
      "_________________________________________________________________\n",
      "Layer (type)                 Output Shape              Param #   \n",
      "=================================================================\n",
      "bidirectional_4 (Bidirection (None, 100, 100)          60400     \n",
      "_________________________________________________________________\n",
      "conv1d_8 (Conv1D)            (None, 94, 128)           89728     \n",
      "_________________________________________________________________\n",
      "conv1d_9 (Conv1D)            (None, 80, 128)           245888    \n",
      "_________________________________________________________________\n",
      "conv1d_10 (Conv1D)           (None, 56, 128)           409728    \n",
      "_________________________________________________________________\n",
      "conv1d_11 (Conv1D)           (None, 22, 128)           573568    \n",
      "_________________________________________________________________\n",
      "global_max_pooling1d_2 (Glob (None, 128)               0         \n",
      "_________________________________________________________________\n",
      "dense_4 (Dense)              (None, 64)                8256      \n",
      "_________________________________________________________________\n",
      "dropout_2 (Dropout)          (None, 64)                0         \n",
      "_________________________________________________________________\n",
      "dense_5 (Dense)              (None, 1)                 65        \n",
      "=================================================================\n",
      "Total params: 1,387,633\n",
      "Trainable params: 1,387,633\n",
      "Non-trainable params: 0\n",
      "_________________________________________________________________\n"
     ]
    }
   ],
   "source": [
    "# Model_without_first_layer = Model(vocab_size,embedding_dim,maxlen,myoptimizer,myloss,mymetrics,shape=first_layer_output[0].shape,Type=1)"
   ]
  },
  {
   "cell_type": "code",
   "execution_count": 76,
   "metadata": {},
   "outputs": [],
   "source": [
    "# lstm_X_train, lstm_X_test = first_layer_output[:X_train.shape[0]] , first_layer_output[-X_test.shape[0]:]"
   ]
  },
  {
   "cell_type": "code",
   "execution_count": 25,
   "metadata": {},
   "outputs": [],
   "source": [
    "# Model_without_first_layer , Model_without_first_layer_history , Model_without_first_layer_name = fit_model(Model_without_first_layer,\"Model_without_first_layer\",lstm_X_train,y_train,lstm_X_test,y_test,with_test=1)"
   ]
  },
  {
   "cell_type": "code",
   "execution_count": 26,
   "metadata": {},
   "outputs": [
    {
     "name": "stdout",
     "output_type": "stream",
     "text": [
      "Training Accuracy: 0.5060\n",
      "Testing Accuracy:  0.5220\n",
      "              precision    recall  f1-score   support\n",
      "\n",
      "         0.0       0.00      0.00      0.00         1\n",
      "         1.0       1.00      0.52      0.69       499\n",
      "\n",
      "    accuracy                           0.52       500\n",
      "   macro avg       0.50      0.26      0.34       500\n",
      "weighted avg       0.99      0.52      0.68       500\n",
      "\n"
     ]
    },
    {
     "data": {
      "image/png": "[encoded data removed]",
      "text/plain": [
       "<Figure size 864x360 with 2 Axes>"
      ]
     },
     "metadata": {},
     "output_type": "display_data"
    }
   ],
   "source": [
    "# evaluation(Model_without_first_layer,Model_without_first_layer_history,lstm_X_train,y_train,lstm_X_test,y_test)"
   ]
  },
  {
   "cell_type": "code",
   "execution_count": 65,
   "metadata": {},
   "outputs": [],
   "source": [
    "# clear_session()"
   ]
  },
  {
   "cell_type": "code",
   "execution_count": null,
   "metadata": {},
   "outputs": [],
   "source": []
  }
 ],
 "metadata": {
  "kernelspec": {
   "display_name": "Python 3",
   "language": "python",
   "name": "python3"
  },
  "language_info": {
   "codemirror_mode": {
    "name": "ipython",
    "version": 3
   },
   "file_extension": ".py",
   "mimetype": "text/x-python",
   "name": "python",
   "nbconvert_exporter": "python",
   "pygments_lexer": "ipython3",
   "version": "3.7.6"
  }
 },
 "nbformat": 4,
 "nbformat_minor": 4
}
