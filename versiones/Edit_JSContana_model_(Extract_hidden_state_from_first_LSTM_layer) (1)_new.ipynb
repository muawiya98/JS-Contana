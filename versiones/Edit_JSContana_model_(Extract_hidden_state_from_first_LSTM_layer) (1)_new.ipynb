{
 "cells": [
  {
   "cell_type": "code",
   "execution_count": null,
   "metadata": {
    "id": "V5WsBnKyPFMa"
   },
   "outputs": [],
   "source": [
    "import pandas as pd\n",
    "from sklearn.metrics import accuracy_score, precision_score, recall_score, f1_score\n",
    "from sklearn.model_selection import train_test_split\n",
    "from sklearn.feature_extraction.text import CountVectorizer\n",
    "from keras.models import Sequential\n",
    "from keras import layers\n",
    "from keras.backend import clear_session\n",
    "from keras.preprocessing.text import Tokenizer\n",
    "from keras.layers import Activation, Dense, Reshape \n",
    "import numpy as np\n",
    "from keras import backend as K\n",
    "import matplotlib.pyplot as plt\n",
    "import pandas as pd\n",
    "from keras.preprocessing.sequence import pad_sequences\n",
    "from keras.layers import Embedding, LSTM, Dense, Bidirectional, Dropout, Conv1D, GlobalMaxPooling1D\n",
    "from keras.models import load_model\n",
    "from numpy import asarray\n",
    "from numpy import save\n",
    "from numpy import load\n",
    "from sklearn.metrics import confusion_matrix\n",
    "from sklearn.metrics import classification_report\n",
    "import esprima as esp\n",
    "import re\n",
    "from keras.initializers import Constant\n",
    "from tensorflow.keras.optimizers import Adam\n",
    "from keras.losses import BinaryCrossentropy\n",
    "from tensorflow.keras.utils import plot_model\n",
    "from keras import Model\n",
    "from tensorflow.keras.utils import Sequence\n",
    "import pydot\n",
    "import gensim \n",
    "from nltk.tokenize import word_tokenize\n",
    "import pickle\n",
    "from keras import backend as K\n",
    "import os\n",
    "import random\n",
    "import re\n",
    "from sklearn.metrics import accuracy_score, precision_score, recall_score, f1_score\n",
    "import logging\n",
    "from time import time\n",
    "from functools import partial\n",
    "# from concurrent.futures import ProcessPoolExecutor\n",
    "import concurrent.futures\n",
    "from threading import current_thread\n",
    "# from tqdm.notebook import tqdm\n",
    "from tqdm import tqdm\n",
    "import gc\n",
    "# Set the random seed for reproducible results\n",
    "np.random.seed(123)\n",
    "plt.style.use('ggplot')"
   ]
  },
  {
   "cell_type": "code",
   "execution_count": 2,
   "metadata": {},
   "outputs": [],
   "source": [
    "# train_batch_size = 50\n",
    "# test_batch_size = int(test_df.shape[0]/(train_df.shape[0]*train_batch_size))\n",
    "# validate_batch_size = int(validation_df.shape[0]/(train_df.shape[0]*train_batch_size))\n",
    "# num_words = 400000\n",
    "num_words = 400\n",
    "# maxlen = 1024\n",
    "maxlen = 100\n",
    "embedding_dim = 50\n",
    "myoptimizer = 'adam'\n",
    "myloss= 'binary_crossentropy'\n",
    "mymetrics = 'accuracy'"
   ]
  },
  {
   "cell_type": "code",
   "execution_count": 3,
   "metadata": {
    "colab": {
     "base_uri": "https://localhost:8080/"
    },
    "id": "JjJwQodFabFn",
    "outputId": "8dfaa6db-d22b-4f1a-b977-8162ab83b59b"
   },
   "outputs": [],
   "source": [
    "# from google.colab import drive\n",
    "# drive.mount(\"/content/drive\")"
   ]
  },
  {
   "cell_type": "code",
   "execution_count": 4,
   "metadata": {
    "id": "MuB9VYRXPFMf"
   },
   "outputs": [],
   "source": [
    "def save_object(obj, filename):\n",
    "    filename = os.path.join('G:\\JSContanaDataSet\\par',filename)\n",
    "    with open(filename+\".pkl\", 'wb') as outp:\n",
    "        pickle.dump(obj, outp, pickle.HIGHEST_PROTOCOL)\n",
    "    outp.close()"
   ]
  },
  {
   "cell_type": "code",
   "execution_count": 5,
   "metadata": {
    "id": "w32njEwEPFMf"
   },
   "outputs": [],
   "source": [
    "def load_object(filename):\n",
    "    filename = os.path.join('G:\\JSContanaDataSet\\par',filename)\n",
    "    with open(filename+\".pkl\", 'rb') as outp:\n",
    "        loaded_object = pickle.load(outp)\n",
    "    outp.close()\n",
    "    return loaded_object"
   ]
  },
  {
   "cell_type": "code",
   "execution_count": 6,
   "metadata": {
    "id": "uxEPSqgNPFMg"
   },
   "outputs": [],
   "source": [
    "def plot_history(history):\n",
    "    acc = history.history['accuracy']\n",
    "    val_acc = history.history['val_accuracy']\n",
    "    loss = history.history['loss']\n",
    "    val_loss = history.history['val_loss']\n",
    "    x = range(1, len(acc) + 1)\n",
    "    plt.figure(figsize=(12, 5))\n",
    "    plt.subplot(1, 2, 1)\n",
    "    plt.plot(x, acc, 'b', label='Training acc')\n",
    "    plt.plot(x, val_acc, 'r', label='Validation acc')\n",
    "    plt.title('Training and validation accuracy')\n",
    "    plt.legend()\n",
    "    plt.subplot(1, 2, 2)\n",
    "    plt.plot(x, loss, 'b', label='Training loss')\n",
    "    plt.plot(x, val_loss, 'r', label='Validation loss')\n",
    "    plt.title('Training and validation loss')\n",
    "    plt.legend()"
   ]
  },
  {
   "cell_type": "code",
   "execution_count": 7,
   "metadata": {
    "id": "9ko40zJGqnCW"
   },
   "outputs": [],
   "source": [
    "def lowering_remove_url_ip_(script):\n",
    "#     print(\"=====\")\n",
    "    script = re.sub(r'\\w+:\\/{2}[\\d\\w-]+(\\.[\\d\\w-]+)*(?:(?:\\/[^\\s/]*))*', '', script)\n",
    "    script = re.sub(r'((25[0-5]|2[0-4][0-9]|[01]?[0-9][0-9]?)\\.){3}(25[0-5]|2[0-4][0-9]|[01]?[0-9][0-9]?)', '', script)\n",
    "    script = re.sub(r\"(/\\*([^*]|[\\r\\n]|(\\*+([^*/]|[\\r\\n])))*\\*+/)|(//.*)\",'',script)\n",
    "    script = script.lower()\n",
    "    return script"
   ]
  },
  {
   "cell_type": "code",
   "execution_count": null,
   "metadata": {},
   "outputs": [],
   "source": []
  },
  {
   "cell_type": "code",
   "execution_count": 8,
   "metadata": {
    "id": "0XqcEGYKPFMg"
   },
   "outputs": [],
   "source": [
    "def preprocessing_dataset_(scripts,fit = True):\n",
    "    if fit:\n",
    "        tokenizer = Tokenizer(num_words=num_words)\n",
    "        tokenizer.fit_on_texts(scripts)\n",
    "        our_tokenizer = save_object(tokenizer, \"our_tokenizer\")\n",
    "    else :\n",
    "        tokenizer = load_object(\"our_tokenizer\")\n",
    "    X = tokenizer.texts_to_sequences(scripts)\n",
    "    if fit:\n",
    "        vocab_size = len(tokenizer.word_index) + 1  # Adding 1 because of reserved 0 index\n",
    "        save_object(vocab_size, \"vocab_size\")\n",
    "    X = pad_sequences(X, padding='post', maxlen=maxlen)\n",
    "    return X"
   ]
  },
  {
   "cell_type": "code",
   "execution_count": 9,
   "metadata": {
    "id": "v9BoJm8ZPFMh"
   },
   "outputs": [],
   "source": [
    "# convert java script code to the abstract syntax tree\n",
    "# then extract the sequences of syntax units with detailed information\n",
    "def sequence_of_syntax_units(scripts):\n",
    "    \"\"\"\n",
    "    sctipts : list or single javascript code \n",
    "    return sequence of syntax units\n",
    "    each syntax unit correspond to line in an abstract syntax tree\n",
    "    \"\"\"\n",
    "    if type(scripts) is list:\n",
    "        # esp.parseScript(script) returns abstract syntax tree of each js scripts\n",
    "        return [re.sub('\\s+', ' ', ''.join(str(esp.parseScript(script)).split('\\n'))) for script in scripts]\n",
    "    elif type(scripts) is str:\n",
    "        return re.sub('\\s+', ' ', ''.join(str(esp.parseScript(scripts)).split('\\n')))\n",
    "    else:\n",
    "        raise ValueError('The type of scripts parameter must be {list or string}')"
   ]
  },
  {
   "cell_type": "code",
   "execution_count": 10,
   "metadata": {
    "id": "5wZYnCfDPFMi"
   },
   "outputs": [],
   "source": [
    "# create word tokens\n",
    "def sequence_of_syntax_units_to_tokens(seq_of_syn_units):\n",
    "    \"\"\"\n",
    "    Convert Sequence of syntax units to tokens to train  word2vec model \n",
    "    -----------------------------------------\n",
    "    seq_of_syn_units: list of sequence syntax units correspond to abstract syntax trees\n",
    "    \"\"\"\n",
    "    return list(map(word_tokenize, seq_of_syn_units))"
   ]
  },
  {
   "cell_type": "code",
   "execution_count": 11,
   "metadata": {
    "id": "jMHUf_hAPFMi"
   },
   "outputs": [],
   "source": [
    "class CustomDataGen(Sequence):\n",
    "    \n",
    "    def __init__(self, df, X_col, y_col,batch_size,fit=False,shuffle=True,parent_path=\"\"):\n",
    "        \n",
    "        self.df = df.copy()\n",
    "        self.X_col = X_col\n",
    "        self.y_col = y_col\n",
    "        self.batch_size = batch_size\n",
    "        self.fit = fit\n",
    "        self.shuffle = shuffle\n",
    "        self.parent_path = parent_path\n",
    "        self.n = df.shape[0]\n",
    "    \n",
    "    def on_epoch_end(self):\n",
    "        if self.shuffle:\n",
    "            self.df = self.df.sample(frac=1).reset_index(drop=True)\n",
    "    \n",
    "    def __get_input(self, path):\n",
    "        try:\n",
    "            with open(os.path.join(self.parent_path,path), 'r', encoding='utf-8') as js_file:\n",
    "                script = js_file.read()\n",
    "            script = lowering_remove_url_ip_(script)\n",
    "            script = sequence_of_syntax_units(script)\n",
    "            return script\n",
    "        except:\n",
    "            return 'None'\n",
    "    def __get_output(self, label):\n",
    "        return label\n",
    "#         return keras.utils.to_categorical(label, num_classes=2)\n",
    "    \n",
    "    def __get_data(self, batches):\n",
    "\n",
    "        path_batch = batches[self.X_col['path']]\n",
    "        \n",
    "        name_batch = batches[self.y_col['name']]\n",
    "\n",
    "        X_batch = np.asarray([self.__get_input(x) for x in path_batch]).astype('object')\n",
    "        \n",
    "        y_batch = np.asarray([self.__get_output(y) for y in name_batch]).astype('object')\n",
    "        \n",
    "        index = np.where(X_batch=='None')[0]\n",
    "        \n",
    "        np.delete(X_batch, index, axis=0)\n",
    "        np.delete(y_batch, index, axis=0)\n",
    "        \n",
    "        X_batch  = preprocessing_dataset_(X_batch , fit = self.fit )\n",
    "        \n",
    "        X_batch = K.cast_to_floatx(X_batch)\n",
    "        y_batch = K.cast_to_floatx(y_batch)\n",
    "        \n",
    "\n",
    "        return X_batch, y_batch\n",
    "    \n",
    "    def __getitem__(self, index):\n",
    "        \n",
    "        batches = self.df[index * self.batch_size:(index + 1) * self.batch_size]\n",
    "        X, y = self.__get_data(batches)        \n",
    "        return X, y\n",
    "    \n",
    "    def __len__(self):\n",
    "        return self.n // self.batch_size"
   ]
  },
  {
   "cell_type": "code",
   "execution_count": 12,
   "metadata": {
    "id": "eVR0u9kXPFMj"
   },
   "outputs": [],
   "source": [
    "def feature_selection(x_chunk,y_chunk):\n",
    "    indexes = random.sample(range(3, x_chunk.shape[0]), random.randint(1, x_chunk.shape[0]-3))\n",
    "    x_chunk[indexes,:,:] = 0\n",
    "    y_chunk = y_chunk[indexes]\n",
    "    return x_chunk,y_chunk\n",
    "def feature_selection_(x_chunk):\n",
    "    indexes = random.sample(range(3, x_chunk.shape[0]), random.randint(1, x_chunk.shape[0]-3))\n",
    "    x_chunk[:,indexes,:] = 0\n",
    "    return x_chunk\n",
    "def feature_selection__(x_chunk):\n",
    "    indexes = random.sample(range(3, x_chunk.shape[0]), random.randint(1, x_chunk.shape[0]-3))\n",
    "    x_chunk[:,:,indexes] = 0\n",
    "    return x_chunk"
   ]
  },
  {
   "cell_type": "code",
   "execution_count": 13,
   "metadata": {},
   "outputs": [],
   "source": [
    "def evaluation_(model,history,X_train,y_train):\n",
    "    train_loss, train_accuracy = model.evaluate(X_train, y_train, verbose=False)"
   ]
  },
  {
   "cell_type": "code",
   "execution_count": 14,
   "metadata": {
    "id": "MZN229zLPFMj"
   },
   "outputs": [],
   "source": [
    "def evaluation(model,chunk_nuber,history,X_train,y_train,X_test,y_test,model_comparison_table):\n",
    "    train_loss, train_accuracy = model.evaluate(X_train, y_train, verbose=False)\n",
    "    test_loss, test_accuracy = model.evaluate(X_test, y_test, verbose=False)\n",
    "    predicted = model.predict(X_test)\n",
    "    Classification_report = classification_report(np.round(model.predict(X_test)), y_test)\n",
    "    inputer(model_comparison_table,chunk_nuber,train_loss, train_accuracy,test_loss, test_accuracy,str(Classification_report))"
   ]
  },
  {
   "cell_type": "code",
   "execution_count": 15,
   "metadata": {
    "id": "V9BXBE5JPFMk"
   },
   "outputs": [],
   "source": [
    "def create_model(shape=100,without_lstm=False):\n",
    "    model = Sequential()\n",
    "    if not without_lstm:\n",
    "        model.add(layers.Embedding(vocab_size, embedding_dim, input_length=maxlen))\n",
    "        model.add(Bidirectional(LSTM(units=50, input_shape=(None, 50), return_sequences=True)))\n",
    "    else :\n",
    "         model.add(layers.InputLayer(input_shape=shape))\n",
    "        \n",
    "    \n",
    "    model.add(Bidirectional(LSTM(units=50, input_shape=(None, 50), return_sequences=True)))\n",
    "\n",
    "    # TextCNN with 4 conv layers\n",
    "    model.add(Conv1D(128, 7, activation='tanh', input_shape=(None, 32)))\n",
    "    model.add(Conv1D(128, 15, activation='tanh'))\n",
    "    model.add(Conv1D(128, 25, activation='tanh'))\n",
    "    model.add(Conv1D(128, 35, activation='tanh'))\n",
    "    model.add(GlobalMaxPooling1D())\n",
    "    model.add(Dense(64, activation='relu'))\n",
    "    model.add(Dropout(0.2))\n",
    "    model.add(Dense(1, activation='sigmoid'))\n",
    "    model.compile(optimizer=myoptimizer,\n",
    "                  loss=myloss,\n",
    "                  metrics=[mymetrics])\n",
    "#     model.summary()\n",
    "    return model"
   ]
  },
  {
   "cell_type": "code",
   "execution_count": 16,
   "metadata": {},
   "outputs": [],
   "source": [
    "def fit_model_(model,X_train,y_train):\n",
    "    history = model.fit(X_train, y_train,epochs=10,verbose=False)\n",
    "    return model , history"
   ]
  },
  {
   "cell_type": "code",
   "execution_count": 17,
   "metadata": {
    "id": "9xKb1B6gPFMk"
   },
   "outputs": [],
   "source": [
    "def fit_model(model,X_train,y_train,X_validation,y_validation):\n",
    "    history = model.fit(X_train, y_train,epochs=10,verbose=False,validation_data=(X_validation, y_validation))\n",
    "    return model , history"
   ]
  },
  {
   "cell_type": "code",
   "execution_count": 18,
   "metadata": {},
   "outputs": [],
   "source": [
    "def creat_metrics():\n",
    "    model_comparison_table = {}\n",
    "    model_comparison_table['chunk_nuber'] = []\n",
    "    model_comparison_table['train_loss'] = []\n",
    "    model_comparison_table['train_accuracy'] = []\n",
    "    model_comparison_table['test_loss'] = []\n",
    "    model_comparison_table['test_accuracy'] = []\n",
    "    model_comparison_table['classification_report'] = []\n",
    "    return model_comparison_table"
   ]
  },
  {
   "cell_type": "code",
   "execution_count": 19,
   "metadata": {},
   "outputs": [],
   "source": [
    "def inputer(model_comparison_table,chunk_nuber,train_loss, train_accuracy,test_loss,test_accuracy,classification_report):#precision_score,recall_score,f1_score):\n",
    "    model_comparison_table['chunk_nuber'].append(str(chunk_nuber))\n",
    "    model_comparison_table['train_loss'].append(train_loss)\n",
    "    model_comparison_table['train_accuracy'].append(train_accuracy)\n",
    "    model_comparison_table['test_loss'].append(test_loss)    \n",
    "    model_comparison_table['test_accuracy'].append(test_accuracy)  \n",
    "    model_comparison_table['classification_report'].append(classification_report)    "
   ]
  },
  {
   "cell_type": "code",
   "execution_count": 20,
   "metadata": {
    "id": "IU5FapdtQbn1"
   },
   "outputs": [],
   "source": [
    "# '/content/drive/MyDrive/Colab Notebooks/XSS_dataset.csv'\n",
    "# df = pd.read_csv('G:\\JSContanaDataSet\\XSS_dataset.csv')\n",
    "# df1 = df.sa1mple(2000)\n",
    "# df1.to_csv('G:\\JSContanaDataSet\\XSS_dataset_Samle.csv',index=False)\n",
    "# test_df = df.iloc[:int((df.shape[0]*20)/100)]\n",
    "# validation_df = df.iloc[int((df.shape[0]*20)/100):int(2*((df.shape[0]*20)/100))]\n",
    "# train_df = df.iloc[int(2*((df.shape[0]*20)/100)):]"
   ]
  },
  {
   "cell_type": "code",
   "execution_count": 23,
   "metadata": {},
   "outputs": [],
   "source": [
    "def chunking_data(Data,validation_size=0.10,test_size=0.20,train_size=0.70):\n",
    "    \n",
    "    test_data = Data.iloc[:int((Data.shape[0]*test_size))]\n",
    "    \n",
    "    validation_data = Data.iloc[int((Data.shape[0]*test_size)):(int((Data.shape[0]*validation_size))+int((Data.shape[0]*test_size)))]\n",
    "    \n",
    "    train_data = Data.iloc[(int((Data.shape[0]*test_size))+int((Data.shape[0]*validation_size))):]\n",
    "    \n",
    "    X_test = test_data[test_data.columns[-2]]\n",
    "    y_test = test_data[test_data.columns[-1]]\n",
    "    \n",
    "    X_validation = validation_data[validation_data.columns[-2]]\n",
    "    y_validation = validation_data[validation_data.columns[-1]]\n",
    "    \n",
    "    X_train = train_data[train_data.columns[-2]]\n",
    "    y_train = train_data[train_data.columns[-1]]\n",
    "    \n",
    "    return X_train , y_train , X_test , y_test , X_validation , y_validation"
   ]
  },
  {
   "cell_type": "code",
   "execution_count": 24,
   "metadata": {},
   "outputs": [],
   "source": [
    "def read__script(script_paths,parent_path,y):\n",
    "    x_temp = []\n",
    "    y_temp = []\n",
    "    todrop = []\n",
    "    for path in tqdm(script_paths):\n",
    "        try:\n",
    "            with open(os.path.join(parent_path,path), 'r', encoding='utf-8') as js_file:\n",
    "                script = js_file.read()\n",
    "            js_file.close()\n",
    "#             script = lowering_remove_url_ip_(script)\n",
    "            script = sequence_of_syntax_units(script)\n",
    "            new_y = y[script_paths.index(path)]\n",
    "            x_temp.append(script)\n",
    "            y_temp.append(new_y)\n",
    "        except:\n",
    "            pass\n",
    "    if len(x_temp)>0:\n",
    "        return x_temp , np.array(y_temp)\n",
    "    else:\n",
    "        return None , None"
   ]
  },
  {
   "cell_type": "code",
   "execution_count": null,
   "metadata": {},
   "outputs": [],
   "source": []
  },
  {
   "cell_type": "code",
   "execution_count": null,
   "metadata": {
    "scrolled": true
   },
   "outputs": [
    {
     "name": "stderr",
     "output_type": "stream",
     "text": [
      "  1%|▌                                                                                | 9/1400 [00:00<00:19, 71.06it/s]"
     ]
    },
    {
     "name": "stdout",
     "output_type": "stream",
     "text": [
      "============================0=================================\n"
     ]
    },
    {
     "name": "stderr",
     "output_type": "stream",
     "text": [
      "100%|██████████████████████████████████████████████████████████████████████████████| 1400/1400 [03:19<00:00,  7.03it/s]\n",
      "100%|████████████████████████████████████████████████████████████████████████████████| 400/400 [00:42<00:00,  9.32it/s]\n",
      "100%|████████████████████████████████████████████████████████████████████████████████| 200/200 [00:18<00:00, 10.70it/s]\n"
     ]
    },
    {
     "name": "stdout",
     "output_type": "stream",
     "text": [
      "(1350, 100)\n",
      "(1350,)\n",
      "(384, 100)\n",
      "(384,)\n",
      "(195, 100)\n",
      "(195,)\n",
      "80945\n"
     ]
    },
    {
     "name": "stderr",
     "output_type": "stream",
     "text": [
      "\r",
      "  0%|                                                                                         | 0/1400 [00:00<?, ?it/s]"
     ]
    },
    {
     "name": "stdout",
     "output_type": "stream",
     "text": [
      "============================1=================================\n"
     ]
    },
    {
     "name": "stderr",
     "output_type": "stream",
     "text": [
      " 89%|█████████████████████████████████████████████████████████████████████▋        | 1250/1400 [02:11<00:41,  3.62it/s]C:\\ProgramData\\Anaconda3\\lib\\site-packages\\esprima\\scanner.py:1040: FutureWarning: Possible nested set at position 20\n",
      "  return re.compile(pattern, pyflags)\n",
      "100%|██████████████████████████████████████████████████████████████████████████████| 1400/1400 [02:32<00:00,  9.18it/s]\n",
      "100%|████████████████████████████████████████████████████████████████████████████████| 400/400 [00:50<00:00,  7.87it/s]\n",
      "100%|████████████████████████████████████████████████████████████████████████████████| 200/200 [00:49<00:00,  4.07it/s]\n"
     ]
    },
    {
     "name": "stdout",
     "output_type": "stream",
     "text": [
      "(1349, 100)\n",
      "(1349,)\n",
      "(382, 100)\n",
      "(382,)\n",
      "(192, 100)\n",
      "(192,)\n"
     ]
    },
    {
     "name": "stderr",
     "output_type": "stream",
     "text": [
      "\r",
      "  0%|                                                                                         | 0/1400 [00:00<?, ?it/s]"
     ]
    },
    {
     "name": "stdout",
     "output_type": "stream",
     "text": [
      "============================2=================================\n"
     ]
    },
    {
     "name": "stderr",
     "output_type": "stream",
     "text": [
      "100%|██████████████████████████████████████████████████████████████████████████████| 1400/1400 [06:04<00:00,  3.84it/s]\n",
      "100%|████████████████████████████████████████████████████████████████████████████████| 400/400 [00:39<00:00, 10.03it/s]\n",
      "100%|████████████████████████████████████████████████████████████████████████████████| 200/200 [00:25<00:00,  7.96it/s]\n"
     ]
    },
    {
     "name": "stdout",
     "output_type": "stream",
     "text": [
      "(1360, 100)\n",
      "(1360,)\n",
      "(384, 100)\n",
      "(384,)\n",
      "(194, 100)\n",
      "(194,)\n"
     ]
    },
    {
     "name": "stderr",
     "output_type": "stream",
     "text": [
      "  0%|▏                                                                                | 3/1400 [00:00<01:09, 20.19it/s]"
     ]
    },
    {
     "name": "stdout",
     "output_type": "stream",
     "text": [
      "============================3=================================\n"
     ]
    },
    {
     "name": "stderr",
     "output_type": "stream",
     "text": [
      "100%|██████████████████████████████████████████████████████████████████████████████| 1400/1400 [03:07<00:00,  7.48it/s]\n",
      "100%|████████████████████████████████████████████████████████████████████████████████| 400/400 [00:51<00:00,  7.75it/s]\n",
      "100%|████████████████████████████████████████████████████████████████████████████████| 200/200 [00:25<00:00,  7.83it/s]\n"
     ]
    },
    {
     "name": "stdout",
     "output_type": "stream",
     "text": [
      "(1361, 100)\n",
      "(1361,)\n",
      "(387, 100)\n",
      "(387,)\n",
      "(191, 100)\n",
      "(191,)\n"
     ]
    },
    {
     "name": "stderr",
     "output_type": "stream",
     "text": [
      "\r",
      "  0%|                                                                                         | 0/1400 [00:00<?, ?it/s]"
     ]
    },
    {
     "name": "stdout",
     "output_type": "stream",
     "text": [
      "============================4=================================\n"
     ]
    },
    {
     "name": "stderr",
     "output_type": "stream",
     "text": [
      "100%|██████████████████████████████████████████████████████████████████████████████| 1400/1400 [03:23<00:00,  6.88it/s]\n",
      "100%|████████████████████████████████████████████████████████████████████████████████| 400/400 [00:48<00:00,  8.17it/s]\n",
      "100%|████████████████████████████████████████████████████████████████████████████████| 200/200 [00:23<00:00,  8.59it/s]\n"
     ]
    },
    {
     "name": "stdout",
     "output_type": "stream",
     "text": [
      "(1342, 100)\n",
      "(1342,)\n",
      "(381, 100)\n",
      "(381,)\n",
      "(192, 100)\n",
      "(192,)\n"
     ]
    },
    {
     "name": "stderr",
     "output_type": "stream",
     "text": [
      "  0%|▏                                                                                | 4/1400 [00:00<00:38, 36.12it/s]"
     ]
    },
    {
     "name": "stdout",
     "output_type": "stream",
     "text": [
      "============================5=================================\n"
     ]
    },
    {
     "name": "stderr",
     "output_type": "stream",
     "text": [
      "100%|██████████████████████████████████████████████████████████████████████████████| 1400/1400 [01:33<00:00, 14.98it/s]\n",
      "100%|████████████████████████████████████████████████████████████████████████████████| 400/400 [00:35<00:00, 11.24it/s]\n",
      "100%|████████████████████████████████████████████████████████████████████████████████| 200/200 [00:14<00:00, 13.83it/s]\n"
     ]
    },
    {
     "name": "stdout",
     "output_type": "stream",
     "text": [
      "(1360, 100)\n",
      "(1360,)\n",
      "(379, 100)\n",
      "(379,)\n",
      "(191, 100)\n",
      "(191,)\n"
     ]
    },
    {
     "name": "stderr",
     "output_type": "stream",
     "text": [
      "\r",
      "  0%|                                                                                         | 0/1400 [00:00<?, ?it/s]"
     ]
    },
    {
     "name": "stdout",
     "output_type": "stream",
     "text": [
      "============================6=================================\n"
     ]
    },
    {
     "name": "stderr",
     "output_type": "stream",
     "text": [
      "100%|██████████████████████████████████████████████████████████████████████████████| 1400/1400 [02:17<00:00, 10.22it/s]\n",
      "100%|████████████████████████████████████████████████████████████████████████████████| 400/400 [00:35<00:00, 11.33it/s]\n",
      "100%|████████████████████████████████████████████████████████████████████████████████| 200/200 [00:13<00:00, 14.82it/s]\n"
     ]
    },
    {
     "name": "stdout",
     "output_type": "stream",
     "text": [
      "(1356, 100)\n",
      "(1356,)\n",
      "(383, 100)\n",
      "(383,)\n",
      "(194, 100)\n",
      "(194,)\n"
     ]
    },
    {
     "name": "stderr",
     "output_type": "stream",
     "text": [
      "  0%|▏                                                                                | 3/1400 [00:00<00:53, 26.16it/s]"
     ]
    },
    {
     "name": "stdout",
     "output_type": "stream",
     "text": [
      "============================7=================================\n"
     ]
    },
    {
     "name": "stderr",
     "output_type": "stream",
     "text": [
      "100%|██████████████████████████████████████████████████████████████████████████████| 1400/1400 [02:25<00:00,  9.63it/s]\n",
      "100%|████████████████████████████████████████████████████████████████████████████████| 400/400 [00:31<00:00, 12.71it/s]\n",
      "100%|████████████████████████████████████████████████████████████████████████████████| 200/200 [00:19<00:00, 10.23it/s]\n"
     ]
    },
    {
     "name": "stdout",
     "output_type": "stream",
     "text": [
      "(1344, 100)\n",
      "(1344,)\n",
      "(388, 100)\n",
      "(388,)\n",
      "(194, 100)\n",
      "(194,)\n"
     ]
    },
    {
     "name": "stderr",
     "output_type": "stream",
     "text": [
      "  0%|                                                                                 | 2/1400 [00:00<01:12, 19.28it/s]"
     ]
    },
    {
     "name": "stdout",
     "output_type": "stream",
     "text": [
      "============================8=================================\n"
     ]
    },
    {
     "name": "stderr",
     "output_type": "stream",
     "text": [
      "100%|██████████████████████████████████████████████████████████████████████████████| 1400/1400 [02:53<00:00,  8.05it/s]\n",
      "100%|████████████████████████████████████████████████████████████████████████████████| 400/400 [00:48<00:00,  8.21it/s]\n",
      "100%|████████████████████████████████████████████████████████████████████████████████| 200/200 [00:14<00:00, 14.01it/s]\n"
     ]
    },
    {
     "name": "stdout",
     "output_type": "stream",
     "text": [
      "(1353, 100)\n",
      "(1353,)\n",
      "(381, 100)\n",
      "(381,)\n",
      "(197, 100)\n",
      "(197,)\n"
     ]
    },
    {
     "name": "stderr",
     "output_type": "stream",
     "text": [
      "  0%|▏                                                                                | 4/1400 [00:00<00:59, 23.59it/s]"
     ]
    },
    {
     "name": "stdout",
     "output_type": "stream",
     "text": [
      "============================9=================================\n"
     ]
    },
    {
     "name": "stderr",
     "output_type": "stream",
     "text": [
      "100%|██████████████████████████████████████████████████████████████████████████████| 1400/1400 [02:49<00:00,  8.28it/s]\n",
      "100%|████████████████████████████████████████████████████████████████████████████████| 400/400 [00:34<00:00, 11.45it/s]\n",
      "100%|████████████████████████████████████████████████████████████████████████████████| 200/200 [00:25<00:00,  7.70it/s]\n"
     ]
    },
    {
     "name": "stdout",
     "output_type": "stream",
     "text": [
      "(1349, 100)\n",
      "(1349,)\n",
      "(385, 100)\n",
      "(385,)\n",
      "(194, 100)\n",
      "(194,)\n"
     ]
    },
    {
     "name": "stderr",
     "output_type": "stream",
     "text": [
      "  0%|▎                                                                                | 6/1400 [00:00<00:38, 36.24it/s]"
     ]
    },
    {
     "name": "stdout",
     "output_type": "stream",
     "text": [
      "============================10=================================\n"
     ]
    },
    {
     "name": "stderr",
     "output_type": "stream",
     "text": [
      "100%|██████████████████████████████████████████████████████████████████████████████| 1400/1400 [02:50<00:00,  8.23it/s]\n",
      "100%|████████████████████████████████████████████████████████████████████████████████| 400/400 [00:40<00:00,  9.87it/s]\n",
      "100%|████████████████████████████████████████████████████████████████████████████████| 200/200 [00:21<00:00,  9.11it/s]\n"
     ]
    },
    {
     "name": "stdout",
     "output_type": "stream",
     "text": [
      "(1354, 100)\n",
      "(1354,)\n",
      "(380, 100)\n",
      "(380,)\n",
      "(191, 100)\n",
      "(191,)\n"
     ]
    },
    {
     "name": "stderr",
     "output_type": "stream",
     "text": [
      "  0%|▎                                                                                | 6/1400 [00:00<00:23, 58.98it/s]"
     ]
    },
    {
     "name": "stdout",
     "output_type": "stream",
     "text": [
      "============================11=================================\n"
     ]
    },
    {
     "name": "stderr",
     "output_type": "stream",
     "text": [
      "100%|██████████████████████████████████████████████████████████████████████████████| 1400/1400 [02:29<00:00,  9.34it/s]\n",
      "100%|████████████████████████████████████████████████████████████████████████████████| 400/400 [00:56<00:00,  7.08it/s]\n",
      "100%|████████████████████████████████████████████████████████████████████████████████| 200/200 [00:15<00:00, 12.56it/s]\n"
     ]
    },
    {
     "name": "stdout",
     "output_type": "stream",
     "text": [
      "(1362, 100)\n",
      "(1362,)\n",
      "(387, 100)\n",
      "(387,)\n",
      "(193, 100)\n",
      "(193,)\n"
     ]
    },
    {
     "name": "stderr",
     "output_type": "stream",
     "text": [
      "\r",
      "  0%|                                                                                         | 0/1400 [00:00<?, ?it/s]"
     ]
    },
    {
     "name": "stdout",
     "output_type": "stream",
     "text": [
      "============================12=================================\n"
     ]
    },
    {
     "name": "stderr",
     "output_type": "stream",
     "text": [
      "100%|██████████████████████████████████████████████████████████████████████████████| 1400/1400 [02:44<00:00,  8.50it/s]\n",
      "100%|████████████████████████████████████████████████████████████████████████████████| 400/400 [01:00<00:00,  6.61it/s]\n",
      "100%|████████████████████████████████████████████████████████████████████████████████| 200/200 [00:15<00:00, 13.31it/s]\n"
     ]
    },
    {
     "name": "stdout",
     "output_type": "stream",
     "text": [
      "(1360, 100)\n",
      "(1360,)\n",
      "(380, 100)\n",
      "(380,)\n",
      "(190, 100)\n",
      "(190,)\n"
     ]
    },
    {
     "name": "stderr",
     "output_type": "stream",
     "text": [
      "  0%|▏                                                                                | 3/1400 [00:00<00:49, 28.38it/s]"
     ]
    },
    {
     "name": "stdout",
     "output_type": "stream",
     "text": [
      "============================13=================================\n"
     ]
    },
    {
     "name": "stderr",
     "output_type": "stream",
     "text": [
      "100%|██████████████████████████████████████████████████████████████████████████████| 1400/1400 [03:24<00:00,  6.86it/s]\n",
      "100%|████████████████████████████████████████████████████████████████████████████████| 400/400 [00:27<00:00, 14.80it/s]\n",
      "100%|████████████████████████████████████████████████████████████████████████████████| 200/200 [00:16<00:00, 12.41it/s]\n"
     ]
    },
    {
     "name": "stdout",
     "output_type": "stream",
     "text": [
      "(1353, 100)\n",
      "(1353,)\n",
      "(383, 100)\n",
      "(383,)\n",
      "(190, 100)\n",
      "(190,)\n"
     ]
    },
    {
     "name": "stderr",
     "output_type": "stream",
     "text": [
      "  0%|▎                                                                                | 5/1400 [00:00<00:28, 49.64it/s]"
     ]
    },
    {
     "name": "stdout",
     "output_type": "stream",
     "text": [
      "============================14=================================\n"
     ]
    },
    {
     "name": "stderr",
     "output_type": "stream",
     "text": [
      "100%|██████████████████████████████████████████████████████████████████████████████| 1400/1400 [02:34<00:00,  9.04it/s]\n",
      "100%|████████████████████████████████████████████████████████████████████████████████| 400/400 [00:37<00:00, 10.57it/s]\n",
      "100%|████████████████████████████████████████████████████████████████████████████████| 200/200 [00:25<00:00,  7.74it/s]\n"
     ]
    },
    {
     "name": "stdout",
     "output_type": "stream",
     "text": [
      "(1362, 100)\n",
      "(1362,)\n",
      "(394, 100)\n",
      "(394,)\n",
      "(193, 100)\n",
      "(193,)\n"
     ]
    },
    {
     "name": "stderr",
     "output_type": "stream",
     "text": [
      "\r",
      "  0%|                                                                                         | 0/1400 [00:00<?, ?it/s]"
     ]
    },
    {
     "name": "stdout",
     "output_type": "stream",
     "text": [
      "============================15=================================\n"
     ]
    },
    {
     "name": "stderr",
     "output_type": "stream",
     "text": [
      "100%|██████████████████████████████████████████████████████████████████████████████| 1400/1400 [02:31<00:00,  9.22it/s]\n",
      "100%|████████████████████████████████████████████████████████████████████████████████| 400/400 [00:39<00:00, 10.10it/s]\n",
      "100%|████████████████████████████████████████████████████████████████████████████████| 200/200 [00:23<00:00,  8.52it/s]\n"
     ]
    },
    {
     "name": "stdout",
     "output_type": "stream",
     "text": [
      "(1345, 100)\n",
      "(1345,)\n",
      "(381, 100)\n",
      "(381,)\n",
      "(196, 100)\n",
      "(196,)\n"
     ]
    },
    {
     "name": "stderr",
     "output_type": "stream",
     "text": [
      "\r",
      "  0%|                                                                                         | 0/1400 [00:00<?, ?it/s]"
     ]
    },
    {
     "name": "stdout",
     "output_type": "stream",
     "text": [
      "============================16=================================\n"
     ]
    },
    {
     "name": "stderr",
     "output_type": "stream",
     "text": [
      "100%|██████████████████████████████████████████████████████████████████████████████| 1400/1400 [02:59<00:00,  7.80it/s]\n",
      "100%|████████████████████████████████████████████████████████████████████████████████| 400/400 [00:39<00:00, 10.15it/s]\n",
      "100%|████████████████████████████████████████████████████████████████████████████████| 200/200 [00:31<00:00,  6.32it/s]\n"
     ]
    },
    {
     "name": "stdout",
     "output_type": "stream",
     "text": [
      "(1349, 100)\n",
      "(1349,)\n",
      "(386, 100)\n",
      "(386,)\n",
      "(194, 100)\n",
      "(194,)\n"
     ]
    },
    {
     "name": "stderr",
     "output_type": "stream",
     "text": [
      "\r",
      "  0%|                                                                                         | 0/1400 [00:00<?, ?it/s]"
     ]
    },
    {
     "name": "stdout",
     "output_type": "stream",
     "text": [
      "============================17=================================\n"
     ]
    },
    {
     "name": "stderr",
     "output_type": "stream",
     "text": [
      "100%|██████████████████████████████████████████████████████████████████████████████| 1400/1400 [02:37<00:00,  8.89it/s]\n",
      "100%|████████████████████████████████████████████████████████████████████████████████| 400/400 [00:32<00:00, 12.26it/s]\n",
      "100%|████████████████████████████████████████████████████████████████████████████████| 200/200 [00:19<00:00, 10.52it/s]\n"
     ]
    },
    {
     "name": "stdout",
     "output_type": "stream",
     "text": [
      "(1349, 100)\n",
      "(1349,)\n",
      "(381, 100)\n",
      "(381,)\n",
      "(190, 100)\n",
      "(190,)\n"
     ]
    },
    {
     "name": "stderr",
     "output_type": "stream",
     "text": [
      "\r",
      "  0%|                                                                                         | 0/1400 [00:00<?, ?it/s]"
     ]
    },
    {
     "name": "stdout",
     "output_type": "stream",
     "text": [
      "============================18=================================\n"
     ]
    },
    {
     "name": "stderr",
     "output_type": "stream",
     "text": [
      "100%|██████████████████████████████████████████████████████████████████████████████| 1400/1400 [02:44<00:00,  8.52it/s]\n",
      "100%|████████████████████████████████████████████████████████████████████████████████| 400/400 [00:42<00:00,  9.31it/s]\n",
      "100%|████████████████████████████████████████████████████████████████████████████████| 200/200 [00:21<00:00,  9.31it/s]\n"
     ]
    },
    {
     "name": "stdout",
     "output_type": "stream",
     "text": [
      "(1365, 100)\n",
      "(1365,)\n",
      "(391, 100)\n",
      "(391,)\n",
      "(191, 100)\n",
      "(191,)\n"
     ]
    },
    {
     "name": "stderr",
     "output_type": "stream",
     "text": [
      "  0%|▏                                                                                | 3/1400 [00:00<01:15, 18.61it/s]"
     ]
    },
    {
     "name": "stdout",
     "output_type": "stream",
     "text": [
      "============================19=================================\n"
     ]
    },
    {
     "name": "stderr",
     "output_type": "stream",
     "text": [
      " 29%|██████████████████████▉                                                        | 406/1400 [00:35<01:30, 11.00it/s]C:\\ProgramData\\Anaconda3\\lib\\site-packages\\esprima\\scanner.py:1040: FutureWarning: Possible set difference at position 36\n",
      "  return re.compile(pattern, pyflags)\n",
      "C:\\ProgramData\\Anaconda3\\lib\\site-packages\\esprima\\scanner.py:1040: FutureWarning: Possible set difference at position 38\n",
      "  return re.compile(pattern, pyflags)\n",
      "100%|██████████████████████████████████████████████████████████████████████████████| 1400/1400 [01:53<00:00, 12.29it/s]\n",
      "100%|████████████████████████████████████████████████████████████████████████████████| 400/400 [00:24<00:00, 16.11it/s]\n",
      "100%|████████████████████████████████████████████████████████████████████████████████| 200/200 [00:14<00:00, 13.72it/s]\n"
     ]
    },
    {
     "name": "stdout",
     "output_type": "stream",
     "text": [
      "(1353, 100)\n",
      "(1353,)\n",
      "(384, 100)\n",
      "(384,)\n",
      "(196, 100)\n",
      "(196,)\n"
     ]
    },
    {
     "name": "stderr",
     "output_type": "stream",
     "text": [
      "\r",
      "  0%|                                                                                         | 0/1400 [00:00<?, ?it/s]"
     ]
    },
    {
     "name": "stdout",
     "output_type": "stream",
     "text": [
      "============================20=================================\n"
     ]
    },
    {
     "name": "stderr",
     "output_type": "stream",
     "text": [
      "100%|██████████████████████████████████████████████████████████████████████████████| 1400/1400 [03:49<00:00,  6.11it/s]\n",
      "100%|████████████████████████████████████████████████████████████████████████████████| 400/400 [01:24<00:00,  4.74it/s]\n",
      "100%|████████████████████████████████████████████████████████████████████████████████| 200/200 [00:48<00:00,  4.11it/s]\n"
     ]
    },
    {
     "name": "stdout",
     "output_type": "stream",
     "text": [
      "(785, 100)\n",
      "(785,)\n",
      "(400, 100)\n",
      "(400,)\n",
      "(200, 100)\n",
      "(200,)\n"
     ]
    },
    {
     "name": "stderr",
     "output_type": "stream",
     "text": [
      "\r",
      "  0%|                                                                                         | 0/1400 [00:00<?, ?it/s]"
     ]
    },
    {
     "name": "stdout",
     "output_type": "stream",
     "text": [
      "============================21=================================\n"
     ]
    },
    {
     "name": "stderr",
     "output_type": "stream",
     "text": [
      "100%|██████████████████████████████████████████████████████████████████████████████| 1400/1400 [01:39<00:00, 14.13it/s]\n",
      "100%|███████████████████████████████████████████████████████████████████████████████| 400/400 [00:03<00:00, 123.75it/s]\n",
      "100%|████████████████████████████████████████████████████████████████████████████████| 200/200 [00:02<00:00, 82.22it/s]\n"
     ]
    },
    {
     "name": "stdout",
     "output_type": "stream",
     "text": [
      "(1022, 100)\n",
      "(1022,)\n",
      "(47, 100)\n",
      "(47,)\n",
      "(46, 100)\n",
      "(46,)\n"
     ]
    },
    {
     "name": "stderr",
     "output_type": "stream",
     "text": [
      "\r",
      "  0%|                                                                                         | 0/1400 [00:00<?, ?it/s]"
     ]
    },
    {
     "name": "stdout",
     "output_type": "stream",
     "text": [
      "============================22=================================\n"
     ]
    },
    {
     "name": "stderr",
     "output_type": "stream",
     "text": [
      "100%|██████████████████████████████████████████████████████████████████████████████| 1400/1400 [01:15<00:00, 18.52it/s]\n",
      "100%|████████████████████████████████████████████████████████████████████████████████| 400/400 [01:13<00:00,  5.43it/s]\n",
      "100%|████████████████████████████████████████████████████████████████████████████████| 200/200 [00:15<00:00, 13.05it/s]\n"
     ]
    },
    {
     "name": "stdout",
     "output_type": "stream",
     "text": [
      "(1347, 100)\n",
      "(1347,)\n",
      "(399, 100)\n",
      "(399,)\n",
      "(199, 100)\n",
      "(199,)\n"
     ]
    },
    {
     "name": "stderr",
     "output_type": "stream",
     "text": [
      "  0%|▎                                                                                | 5/1400 [00:00<00:30, 45.98it/s]"
     ]
    },
    {
     "name": "stdout",
     "output_type": "stream",
     "text": [
      "============================23=================================\n"
     ]
    },
    {
     "name": "stderr",
     "output_type": "stream",
     "text": [
      "100%|██████████████████████████████████████████████████████████████████████████████| 1400/1400 [04:39<00:00,  5.01it/s]\n",
      "100%|████████████████████████████████████████████████████████████████████████████████| 400/400 [00:11<00:00, 35.58it/s]\n",
      "100%|████████████████████████████████████████████████████████████████████████████████| 200/200 [00:49<00:00,  4.08it/s]\n"
     ]
    },
    {
     "name": "stdout",
     "output_type": "stream",
     "text": [
      "(1210, 100)\n",
      "(1210,)\n",
      "(398, 100)\n",
      "(398,)\n",
      "(200, 100)\n",
      "(200,)\n"
     ]
    },
    {
     "name": "stderr",
     "output_type": "stream",
     "text": [
      "\r",
      "  0%|                                                                                         | 0/1400 [00:00<?, ?it/s]"
     ]
    },
    {
     "name": "stdout",
     "output_type": "stream",
     "text": [
      "============================24=================================\n"
     ]
    },
    {
     "name": "stderr",
     "output_type": "stream",
     "text": [
      "100%|██████████████████████████████████████████████████████████████████████████████| 1400/1400 [05:27<00:00,  4.27it/s]\n",
      "100%|████████████████████████████████████████████████████████████████████████████████| 400/400 [01:19<00:00,  5.04it/s]\n",
      "100%|████████████████████████████████████████████████████████████████████████████████| 200/200 [00:54<00:00,  3.69it/s]\n"
     ]
    },
    {
     "name": "stdout",
     "output_type": "stream",
     "text": [
      "(386, 100)\n",
      "(386,)\n",
      "(77, 100)\n",
      "(77,)\n",
      "(29, 100)\n",
      "(29,)\n"
     ]
    },
    {
     "name": "stderr",
     "output_type": "stream",
     "text": [
      "  1%|▍                                                                                | 8/1400 [00:00<00:27, 51.42it/s]"
     ]
    },
    {
     "name": "stdout",
     "output_type": "stream",
     "text": [
      "============================25=================================\n"
     ]
    },
    {
     "name": "stderr",
     "output_type": "stream",
     "text": [
      "100%|██████████████████████████████████████████████████████████████████████████████| 1400/1400 [00:32<00:00, 43.45it/s]\n",
      "100%|████████████████████████████████████████████████████████████████████████████████| 400/400 [01:36<00:00,  4.16it/s]\n",
      "100%|████████████████████████████████████████████████████████████████████████████████| 200/200 [01:02<00:00,  3.20it/s]\n"
     ]
    },
    {
     "name": "stdout",
     "output_type": "stream",
     "text": [
      "(259, 100)\n",
      "(259,)\n",
      "(119, 100)\n",
      "(119,)\n",
      "(42, 100)\n",
      "(42,)\n"
     ]
    },
    {
     "name": "stderr",
     "output_type": "stream",
     "text": [
      "  0%|▎                                                                                | 5/1400 [00:00<00:37, 37.69it/s]"
     ]
    },
    {
     "name": "stdout",
     "output_type": "stream",
     "text": [
      "============================26=================================\n"
     ]
    },
    {
     "name": "stderr",
     "output_type": "stream",
     "text": [
      "100%|██████████████████████████████████████████████████████████████████████████████| 1400/1400 [00:41<00:00, 33.73it/s]\n",
      "100%|████████████████████████████████████████████████████████████████████████████████| 400/400 [00:04<00:00, 93.27it/s]\n",
      "100%|████████████████████████████████████████████████████████████████████████████████| 200/200 [00:03<00:00, 50.75it/s]\n"
     ]
    },
    {
     "name": "stdout",
     "output_type": "stream",
     "text": [
      "(1015, 100)\n",
      "(1015,)\n",
      "(71, 100)\n",
      "(71,)\n",
      "(71, 100)\n",
      "(71,)\n"
     ]
    },
    {
     "name": "stderr",
     "output_type": "stream",
     "text": [
      "  0%|▏                                                                                | 3/1400 [00:00<00:52, 26.39it/s]"
     ]
    },
    {
     "name": "stdout",
     "output_type": "stream",
     "text": [
      "============================27=================================\n"
     ]
    },
    {
     "name": "stderr",
     "output_type": "stream",
     "text": [
      "100%|██████████████████████████████████████████████████████████████████████████████| 1400/1400 [01:54<00:00, 12.19it/s]\n",
      "100%|████████████████████████████████████████████████████████████████████████████████| 400/400 [00:07<00:00, 50.46it/s]\n",
      "100%|████████████████████████████████████████████████████████████████████████████████| 200/200 [00:04<00:00, 43.36it/s]\n"
     ]
    },
    {
     "name": "stdout",
     "output_type": "stream",
     "text": [
      "(1398, 100)\n",
      "(1398,)\n",
      "(131, 100)\n",
      "(131,)\n",
      "(96, 100)\n",
      "(96,)\n"
     ]
    },
    {
     "name": "stderr",
     "output_type": "stream",
     "text": [
      "\r",
      "  0%|                                                                                         | 0/1400 [00:00<?, ?it/s]"
     ]
    },
    {
     "name": "stdout",
     "output_type": "stream",
     "text": [
      "============================28=================================\n"
     ]
    },
    {
     "name": "stderr",
     "output_type": "stream",
     "text": [
      "100%|██████████████████████████████████████████████████████████████████████████████| 1400/1400 [11:10<00:00,  2.09it/s]\n",
      "100%|████████████████████████████████████████████████████████████████████████████████| 400/400 [05:14<00:00,  1.27it/s]\n",
      "100%|████████████████████████████████████████████████████████████████████████████████| 200/200 [02:31<00:00,  1.32it/s]\n"
     ]
    },
    {
     "name": "stdout",
     "output_type": "stream",
     "text": [
      "(984, 100)\n",
      "(984,)\n",
      "(400, 100)\n",
      "(400,)\n",
      "(200, 100)\n",
      "(200,)\n"
     ]
    },
    {
     "name": "stderr",
     "output_type": "stream",
     "text": [
      "\r",
      "  0%|                                                                                         | 0/1400 [00:00<?, ?it/s]"
     ]
    },
    {
     "name": "stdout",
     "output_type": "stream",
     "text": [
      "============================29=================================\n"
     ]
    },
    {
     "name": "stderr",
     "output_type": "stream",
     "text": [
      "100%|██████████████████████████████████████████████████████████████████████████████| 1400/1400 [21:22<00:00,  1.09it/s]\n",
      "100%|████████████████████████████████████████████████████████████████████████████████| 400/400 [02:23<00:00,  2.78it/s]\n",
      "100%|████████████████████████████████████████████████████████████████████████████████| 200/200 [00:45<00:00,  4.37it/s]\n"
     ]
    },
    {
     "name": "stdout",
     "output_type": "stream",
     "text": [
      "(1400, 100)\n",
      "(1400,)\n",
      "(399, 100)\n",
      "(399,)\n",
      "(200, 100)\n",
      "(200,)\n"
     ]
    },
    {
     "name": "stderr",
     "output_type": "stream",
     "text": [
      "\r",
      "  0%|                                                                                         | 0/1400 [00:00<?, ?it/s]"
     ]
    },
    {
     "name": "stdout",
     "output_type": "stream",
     "text": [
      "============================30=================================\n"
     ]
    },
    {
     "name": "stderr",
     "output_type": "stream",
     "text": [
      "100%|████████████████████████████████████████████████████████████████████████████| 1400/1400 [2:50:53<00:00,  7.32s/it]\n",
      "100%|████████████████████████████████████████████████████████████████████████████████| 400/400 [07:48<00:00,  1.17s/it]\n",
      "100%|████████████████████████████████████████████████████████████████████████████████| 200/200 [03:53<00:00,  1.17s/it]\n"
     ]
    },
    {
     "name": "stdout",
     "output_type": "stream",
     "text": [
      "error\n",
      "============================30=================================\n"
     ]
    },
    {
     "name": "stderr",
     "output_type": "stream",
     "text": [
      "100%|██████████████████████████████████████████████████████████████████████████████| 1400/1400 [35:16<00:00,  1.51s/it]\n",
      "100%|████████████████████████████████████████████████████████████████████████████████| 400/400 [09:30<00:00,  1.43s/it]\n",
      " 36%|█████████████████████████████▌                                                   | 73/200 [02:34<04:03,  1.92s/it]"
     ]
    }
   ],
   "source": [
    "model_comparison_table = creat_metrics()\n",
    "model_is_created = False\n",
    "i = 0 \n",
    "for df_iterator in pd.read_csv(\"G:\\JSContanaDataSet\\XSS_dataset.csv\",chunksize=2000):\n",
    "    try:\n",
    "        print(\"============================\"+str(i)+\"=================================\")\n",
    "        X_train , y_train , X_test , y_test , X_validation , y_validation = chunking_data(df_iterator)\n",
    "        \n",
    "        X_train , y_train = read__script(X_train.tolist(),\"G:\\JSContanaDataSet\",y_train.tolist())\n",
    "        X_test , y_test = read__script(X_test.tolist(),\"G:\\JSContanaDataSet\",y_test.tolist())\n",
    "        X_validation , y_validation = read__script(X_validation.tolist(),\"G:\\JSContanaDataSet\",y_validation.tolist())\n",
    "        \n",
    "        \n",
    "        if X_train!=None:\n",
    "            X_train = preprocessing_dataset_(X_train , fit = True )\n",
    "            X_test = preprocessing_dataset_(X_test , fit = False )\n",
    "            X_validation = preprocessing_dataset_(X_validation , fit = False )\n",
    "\n",
    "\n",
    "            print(X_train.shape)\n",
    "            print(y_train.shape)\n",
    "\n",
    "            print(X_test.shape)\n",
    "            print(y_test.shape)\n",
    "\n",
    "            print(X_validation.shape)\n",
    "            print(y_validation.shape)\n",
    "\n",
    "            if not model_is_created:\n",
    "                vocab_size = load_object('vocab_size')\n",
    "                train_test_Model = create_model()\n",
    "                train_test_Model.save(\"train_test_Model.h5\")\n",
    "                model_is_created = True\n",
    "                print(vocab_size)\n",
    "            else:\n",
    "                train_test_Model = load_model(\"train_test_Model.h5\")\n",
    "\n",
    "            train_test_Model , history_train_test_Model = fit_model(train_test_Model,X_train,y_train,X_validation,y_validation)\n",
    "\n",
    "            evaluation(train_test_Model,i,history_train_test_Model,X_train,y_train,X_test,y_test,model_comparison_table)\n",
    "\n",
    "            train_test_Model.save(\"train_test_Model.h5\")\n",
    "            i+=1\n",
    "    except:\n",
    "        print(\"error\")"
   ]
  },
  {
   "cell_type": "code",
   "execution_count": null,
   "metadata": {},
   "outputs": [],
   "source": [
    "save_object(model_comparison_table, \"model_comparison_table\")"
   ]
  },
  {
   "cell_type": "code",
   "execution_count": null,
   "metadata": {},
   "outputs": [],
   "source": [
    "df = pd.DataFrame(model_comparison_table)\n",
    "df.to_csv('G:/JSContanaDataSet/result_df.csv',index=False)\n",
    "df.head(5)"
   ]
  },
  {
   "cell_type": "code",
   "execution_count": null,
   "metadata": {},
   "outputs": [],
   "source": [
    "for i in df['classification_report']:\n",
    "    print(\"================================\")\n",
    "    print(i)"
   ]
  },
  {
   "cell_type": "code",
   "execution_count": null,
   "metadata": {},
   "outputs": [],
   "source": []
  },
  {
   "cell_type": "code",
   "execution_count": null,
   "metadata": {},
   "outputs": [],
   "source": []
  },
  {
   "cell_type": "code",
   "execution_count": null,
   "metadata": {},
   "outputs": [],
   "source": []
  },
  {
   "cell_type": "code",
   "execution_count": null,
   "metadata": {},
   "outputs": [],
   "source": []
  },
  {
   "cell_type": "code",
   "execution_count": null,
   "metadata": {},
   "outputs": [],
   "source": []
  },
  {
   "cell_type": "code",
   "execution_count": null,
   "metadata": {},
   "outputs": [],
   "source": []
  },
  {
   "cell_type": "code",
   "execution_count": 54,
   "metadata": {},
   "outputs": [
    {
     "data": {
      "text/plain": [
       "105"
      ]
     },
     "execution_count": 54,
     "metadata": {},
     "output_type": "execute_result"
    }
   ],
   "source": [
    "len(X_train)"
   ]
  },
  {
   "cell_type": "code",
   "execution_count": null,
   "metadata": {},
   "outputs": [],
   "source": []
  },
  {
   "cell_type": "code",
   "execution_count": null,
   "metadata": {},
   "outputs": [],
   "source": []
  },
  {
   "cell_type": "code",
   "execution_count": null,
   "metadata": {},
   "outputs": [],
   "source": [
    "for h in range(len(ss)):\n",
    "    print(\"================\"+str(h)+\"=================\")\n",
    "    for i in ss[h]:\n",
    "        print(i)"
   ]
  },
  {
   "cell_type": "code",
   "execution_count": null,
   "metadata": {},
   "outputs": [],
   "source": []
  },
  {
   "cell_type": "code",
   "execution_count": null,
   "metadata": {},
   "outputs": [],
   "source": []
  },
  {
   "cell_type": "code",
   "execution_count": null,
   "metadata": {},
   "outputs": [],
   "source": []
  },
  {
   "cell_type": "code",
   "execution_count": 25,
   "metadata": {},
   "outputs": [
    {
     "name": "stdout",
     "output_type": "stream",
     "text": [
      "31\n",
      "{ type: \"Program\", sourceType: \"script\", body: [ { type: \"ExpressionStatement\", expression: { type: \"CallExpression\", callee: { type: \"Identifier\", name: \"eval\" }, arguments: [ { type: \"CallExpression\", callee: { type: \"MemberExpression\", computed: False, object: { type: \"CallExpression\", callee: { type: \"MemberExpression\", computed: True, object: { type: \"Identifier\", name: \"ac8Mz6M\" }, property: { type: \"Literal\", value: \"reverse\", raw: \"\\\"reverse\\\"\" } }, arguments: [] }, property: { type: \"Identifier\", name: \"join\" } }, arguments: [ { type: \"Literal\", value: \"\", raw: \"''\" } ] } ] } } ]}\n"
     ]
    }
   ],
   "source": [
    "print(len(X_train))\n",
    "print(X_train[0])"
   ]
  },
  {
   "cell_type": "code",
   "execution_count": null,
   "metadata": {},
   "outputs": [],
   "source": []
  },
  {
   "cell_type": "code",
   "execution_count": null,
   "metadata": {},
   "outputs": [],
   "source": []
  },
  {
   "cell_type": "code",
   "execution_count": null,
   "metadata": {},
   "outputs": [],
   "source": [
    "for i, df_chunk in enumerate(df_iterator)\n",
    "\n",
    "    print(df_chunk.shape)\n",
    "    \n",
    "    # Set writing mode to append after first chunk\n",
    "    mode = 'w' if i == 0 else 'a'\n",
    "    \n",
    "    # Add header if it is the first chunk\n",
    "    header = i == 0\n",
    "\n",
    "    df_chunk.to_csv('G:\\JSContanaDataSet\\XSS_dataset.csv',\n",
    "        index=False,  # Skip index column\n",
    "        header=header, \n",
    "        mode=mode)"
   ]
  },
  {
   "cell_type": "code",
   "execution_count": null,
   "metadata": {},
   "outputs": [],
   "source": []
  },
  {
   "cell_type": "code",
   "execution_count": 144,
   "metadata": {},
   "outputs": [],
   "source": [
    "d = pd.read_csv(filepath_or_buffer = 'G:\\JSContanaDataSet\\XSS_dataset.csv',iterator=True,chunksize=1000)"
   ]
  },
  {
   "cell_type": "code",
   "execution_count": 146,
   "metadata": {},
   "outputs": [
    {
     "name": "stdout",
     "output_type": "stream",
     "text": [
      "1000    data/Farata/EnterpriseWebBook_sources/chapter7...\n",
      "1001    data/alibaba/ots/benchmark/parse_getrow_result.js\n",
      "1002                   data/mde/logan/lib/racer/runner.js\n",
      "1003    data/regularex/FreePyBX/freepybx/public/js/doj...\n",
      "1004    data/tshemsedinov/impress/examples/impressClou...\n",
      "                              ...                        \n",
      "1995    data/foursquare/foursquare-palmpre/Foursquare-...\n",
      "1996    data/nedjo/openoutreach/profiles/openoutreach/...\n",
      "1997    data/cdnjs/cdnjs/ajax/libs/yui/3.18.0/tree-sel...\n",
      "1998                         data/yahoo/kobold/lib/cli.js\n",
      "1999                     data/h5bp/html5please/lib/app.js\n",
      "Name: ScriptPath, Length: 1000, dtype: object\n",
      "2000    data/sebastienros/jint/Jint.Tests.Ecma/TestCas...\n",
      "2001    data/city41/breakouts/breakouts/createjs/js/en...\n",
      "2002    data/yahoo/mojito/tests/func/common/testpostpa...\n",
      "2003    data/mozilla/rhino/testsrc/tests/ecma_2/Except...\n",
      "2004    data/disnet/contracts.js/js/libs/mode/http/htt...\n",
      "                              ...                        \n",
      "2995     data/LLK/scratch-html5/test/unit/reporterSpec.js\n",
      "2996    data/lehni/bootstrap.js/src/browser/dom/query/...\n",
      "2997    data/mhoegh/MyGeoCloud/js/GeoExt/lib/GeoExt/wi...\n",
      "2998    data/Semantic-Org/Semantic-UI-ar/test/modules/...\n",
      "2999        data/ehzhang/nunchuck/public/js/controller.js\n",
      "Name: ScriptPath, Length: 1000, dtype: object\n",
      "3000      data/Singly/hallway/lib/services/flickr/auth.js\n",
      "3001    data/GitbookIO/gitbook/theme/javascript/core/n...\n",
      "3002    data/kogmbh/WebODF/programs/editor/widgets/par...\n",
      "3003    data/dataarts/webgl-globe/globe-vertex-texture...\n",
      "3004    data/maxogden/gut/xls-to-json/node_modules/csv...\n",
      "                              ...                        \n",
      "3995    data/burkeholland/kendo-flippable/app/componen...\n",
      "3996       data/jsdoc3/jsdoc/test/specs/jsdoc/tag/type.js\n",
      "3997    data/clientside/amplesdk/ample/runtime/classes...\n",
      "3998    data/sca-/sails-ckeditor-sample/assets/ckedito...\n",
      "3999    data/schubergphilis/Seccubus_v2/jmvc/seccubus/...\n",
      "Name: ScriptPath, Length: 1000, dtype: object\n",
      "4000    data/jonatkins/ingress-intel-total-conversion/...\n",
      "4001    data/mhoegh/MyGeoCloud/js/openlayers/lib/OpenL...\n",
      "4002    data/fergiemcdowall/search-index/test/spec/9.1...\n",
      "4003    data/joelcoxokc/slush-y/generators/application...\n",
      "4004    data/maxogden/gut/xls-to-json/node_modules/csv...\n",
      "                              ...                        \n",
      "4995    data/jsdelivr/jsdelivr/files/jquery.imgliquid/...\n",
      "4996             data/angular/bower-angular-i18n/km-kh.js\n",
      "4997    data/chop-dbhi/varify/varify/static/cilantro/j...\n",
      "4998    data/sirprize/dojorama/builds/multi-file-v002/...\n",
      "4999    data/opentraveldata/geobases/GeoBases/MapAsset...\n",
      "Name: ScriptPath, Length: 1000, dtype: object\n",
      "5000    data/peteraba/dermailer/public/js/preview-moda...\n",
      "5001             data/jez500/chorus/src/js/views/music.js\n",
      "5002    data/webinos/Webinos-Platform/webinos/web_root...\n",
      "5003    data/jsdelivr/jsdelivr/files/wordpress/3.8/js/...\n",
      "5004    data/cdnjs/cdnjs/ajax/libs/timelinejs/2.33.1/j...\n",
      "                              ...                        \n",
      "5995             data/jonjenkins/express-upload/server.js\n",
      "5996    data/malikov/Authenticate.me-Node-Server/node_...\n",
      "5997    data/fholm/IronJS/Src/Tests/ietestcenter/chapt...\n",
      "5998    data/studio107/meditor/vendors/ckeditor/plugin...\n",
      "5999    data/jaz303/taylor/lib/actions/git_clone_packa...\n",
      "Name: ScriptPath, Length: 1000, dtype: object\n",
      "6000       data/silas/swagger-framework/test/framework.js\n",
      "6001    data/assetgraph/assetgraph-builder/testdata/tr...\n",
      "6002          data/normanjoyner/chef-api/methods/nodes.js\n",
      "6003    data/jxcore/jxcore/deps/mozjs/src/jit-test/tes...\n",
      "6004    data/Juicy/juicy-ace-editor/ace/src-noconflict...\n",
      "                              ...                        \n",
      "6995               data/Inviz/lsd/Source/Action/Delete.js\n",
      "6996    data/elo80ka/django-dynamic-formset/demo/stati...\n",
      "6997    data/sebastienros/jint/Jint.Tests.Ecma/TestCas...\n",
      "6998    data/sebastienros/jint/Jint.Tests.Ecma/TestCas...\n",
      "6999    data/fholm/IronJS/Src/Tests/Sputnik/sputnik-v1...\n",
      "Name: ScriptPath, Length: 1000, dtype: object\n",
      "7000                    data/kanaka/miniMAL/step6_file.js\n",
      "7001    data/elias-schuett/Online-Tile-Map-Editor/src/...\n",
      "7002    data/sirnewton01/godev/bundles/org.eclipse.ori...\n",
      "7003    data/sca-/sails-ckeditor-sample/assets/ckedito...\n",
      "7004    data/thomasdavis/backbonetutorials/_site/pygme...\n",
      "                              ...                        \n",
      "7995    data/cloudkick/cast/node_modules/swiz/node_mod...\n",
      "7996    data/antm611/ResponsiveMusicServer/app/scripts...\n",
      "7997    data/jsdelivr/jsdelivr/files/noty/1.2.1/js/jqu...\n",
      "7998        data/Panmind/jquery-ajax-nav/jquery.poller.js\n",
      "7999    data/sebastienros/jint/Jint.Tests.Ecma/TestCas...\n",
      "Name: ScriptPath, Length: 1000, dtype: object\n",
      "8000    data/racker/service-registry/node_modules/rpro...\n",
      "8001    data/zohooo/jaxedit/library/mathjax/unpacked/j...\n",
      "8002    data/Countly/countly-server/test/1.frontend/2....\n",
      "8003    data/kajdijkstra/RAPTOR/media/libs/jquery/ui/j...\n",
      "8004      data/digitalfruit/limejs/lime/src/fill/image.js\n",
      "                              ...                        \n",
      "8995            data/eskimoblood/jim-knopf/test/buster.js\n",
      "8996    data/cykod/Quintus/specs/spec/QuintusSceneSpec.js\n",
      "8997           data/ValYouW/njsTrace/test/general.spec.js\n",
      "8998    data/yahoo/mojito/tests/func/serveronly/testre...\n",
      "8999    data/angular-adaptive/adaptive-speech/src/angu...\n",
      "Name: ScriptPath, Length: 1000, dtype: object\n",
      "9000    data/pepyatka/pepyatka-server/app/serializers/...\n",
      "9001    data/scottfr/insightmaker/resources/ace/src-no...\n",
      "9002    data/webdetails/cdf/cdf-core/cdf/js-modules/co...\n",
      "9003    data/sebastienros/jint/Jint.Tests.Ecma/TestCas...\n",
      "9004    data/tinyspeck/glitch-GameServerJS/items/menta...\n",
      "                              ...                        \n",
      "9995    data/klauern/allthatjazz/src/main/resources/as...\n",
      "9996                   data/danieldkim/charlotte/index.js\n",
      "9997    data/marcelduran/yslow/src/yui/3.3.0/build/dom...\n",
      "9998    data/quickapps-modules/QACMS-Wysiwyg/webroot/j...\n",
      "9999    data/jxcore/jxcore/deps/mozjs/src/jit-test/tes...\n",
      "Name: ScriptPath, Length: 1000, dtype: object\n",
      "10000    data/david-mark/jessie/functions/attachWindowL...\n",
      "10001      data/codeforamerica/fast_pass/routes/api/geo.js\n",
      "10002    data/aerospike/aerospike-client-nodejs/example...\n",
      "10003    data/nedjo/openoutreach/profiles/openoutreach/...\n",
      "10004    data/qooxdoo/qooxdoo/application/demobrowser/s...\n",
      "                               ...                        \n",
      "10995    data/boundlessgeo/gxp/src/script/plugins/ArcRe...\n",
      "10996    data/cdnjs/cdnjs/ajax/libs/angular.js/1.3.14/i...\n",
      "10997    data/jasper07/openui5-googlemaps/openui5/resou...\n",
      "10998    data/sebastienros/jint/Jint.Tests.Ecma/TestCas...\n",
      "10999                 data/jwagner/Frontendconf-2011/p0.js\n",
      "Name: ScriptPath, Length: 1000, dtype: object\n",
      "11000    data/trigger-corp/browser-extensions/firefox/a...\n",
      "11001    data/esperantojs/esperanto/test/bundle/input/2...\n",
      "11002    data/kriasoft/site-sdk/Source/Web/Scripts/angu...\n",
      "11003    data/legalbox/lb_js_scalableApp/src/closure/go...\n",
      "11004    data/lxlneo/seUIadmin/metronic.bootstrap/media...\n",
      "                               ...                        \n",
      "11995    data/jsoverson/grunt-strip/test/expected/all_a...\n",
      "11996    data/andypetrella/spark-notebook/public/ipytho...\n",
      "11997    data/sages-health/openessence/core/src/main/we...\n",
      "11998    data/wikimedia/mediawiki-extensions-VisualEdit...\n",
      "11999               data/owncloud/apps/external/l10n/is.js\n",
      "Name: ScriptPath, Length: 1000, dtype: object\n",
      "12000    data/cdnjs/cdnjs/ajax/libs/bootstrap-colorpick...\n",
      "12001    data/blueriver/MuraBootstrap2/js/editor/styles.js\n",
      "12002    data/redkite-labs/RedKiteCms/web/components/ac...\n",
      "12003    data/danielchasehooper/CodeBook/scripts/editor.js\n",
      "12004    data/jsdelivr/jsdelivr/files/ckeditor/4.3.0/pl...\n",
      "                               ...                        \n",
      "12995              data/kukulski/micromusic/webGL-utils.js\n",
      "12996    data/sproutcore/sproutcore/frameworks/foundati...\n",
      "12997         data/gtracy/slack-stuart/lib/routes/slack.js\n",
      "12998    data/wso2/wso2mobileserver/modules/distributio...\n",
      "12999    data/clipperz/password-manager/frontend/delta/...\n",
      "Name: ScriptPath, Length: 1000, dtype: object\n",
      "13000    data/ozoneplatform/owf-framework/web-app/js-li...\n",
      "13001    data/mchyzer/openTwoFactor/twoFactor/webapp/as...\n",
      "13002    data/html5rocks/studio.html5rocks.com/samples/...\n",
      "13003             data/domenic/svg2png/test/integration.js\n",
      "13004            data/dojo/dojox/rpc/tests/libraryTests.js\n",
      "                               ...                        \n",
      "13995    data/babel/babel/test/core/fixtures/generation...\n",
      "13996    data/anand-patel/oc-wysiwyg-editors/formwidget...\n",
      "13997    data/vf/web-testsuite/src/js/embedjs-android.u...\n",
      "13998    data/curran/screencasts/navigation/examples/co...\n",
      "13999    data/gantry/gantry5/platforms/common/applicati...\n",
      "Name: ScriptPath, Length: 1000, dtype: object\n",
      "14000            data/allmobilize/amazeui/tools/app/lib.js\n",
      "14001    data/regularex/FreePyBX/freepybx/public/js/doj...\n",
      "14002    data/tiw/angularjs-tutorial/js-src/node_module...\n",
      "14003    data/angular/quickstart/angular2/src/core/comp...\n",
      "14004    data/cybercussion/SCOBot/QUnit-Tests/js/scorm/...\n",
      "                               ...                        \n",
      "14995           data/zgrossbart/jslim/libs/jquery-1.7.2.js\n",
      "14996    data/conveyal/modeify/node_modules/component/n...\n",
      "14997    data/andidev/spring-bootstrap-enterprise/src/m...\n",
      "14998      data/diki/tepe/public/js/lib/ace-1/mode/java.js\n",
      "14999    data/fholm/IronJS/Src/Tests/ietestcenter/chapt...\n",
      "Name: ScriptPath, Length: 1000, dtype: object\n",
      "15000    data/sayanee/build-podcast/021-gruntjs/css-bas...\n",
      "15001    data/ceolter/angular-grid/website/dist/angular...\n",
      "15002    data/iriscouch/manage_couchdb/node_modules/kan...\n",
      "15003       data/Wappworks/yaak.js/src/audio/audiocache.js\n",
      "15004              data/bemson/panzer/test/panzer_klass.js\n",
      "                               ...                        \n",
      "15995    data/auchenberg/chrome-devtools-app/build/Chro...\n",
      "15996    data/AndroidBootstrap/android-bootstrap-site/r...\n",
      "15997    data/ripple/rippled-historical-database/storm/...\n",
      "15998         data/josdejong/jsoneditor/src/js/treemode.js\n",
      "15999    data/ONLYOFFICE/ONLYOFFICE-OnlineEditors/Offic...\n",
      "Name: ScriptPath, Length: 1000, dtype: object\n",
      "16000    data/nomospace/nodemail/public/libs/tiny-mce/p...\n",
      "16001          data/kripken/webgl-worker/bananabread/bb.js\n",
      "16002    data/FremyCompany/css-grid-polyfill/src/core/c...\n",
      "16003    data/wshearn/openshift-cartridge-osbs/usr/temp...\n",
      "16004    data/subtleGradient/DeviceRemoteInspector.app/...\n",
      "                               ...                        \n",
      "16995    data/mcavage/node-ldapjs/lib/messages/del_resp...\n",
      "16996        data/owncloud/apps/files_odfviewer/l10n/sl.js\n",
      "16997    data/sebastienros/jint/Jint.Tests.Ecma/TestCas...\n",
      "16998           data/280north/jack/lib/jack/contenttype.js\n",
      "16999    data/MaxMotovilov/adstream-js-frameworks/libs/...\n",
      "Name: ScriptPath, Length: 1000, dtype: object\n",
      "17000    data/burkeholland/kendo-flippable/app/componen...\n",
      "17001    data/mozilla/rhino/testsrc/tests/ecma_2/RegExp...\n",
      "17002    data/yahoo/mojito/examples/developer-guide/das...\n",
      "17003    data/GoogleChrome/chrome-platform-analytics/sr...\n",
      "17004    data/jhiemer/angularjs-requirejs-testacular/co...\n",
      "                               ...                        \n",
      "17995                       data/yeoman/generator/index.js\n",
      "17996                data/twitwi/deck.js/test/spec.goto.js\n",
      "17997    data/CyberAgent/beez-foundation/f/socket/route...\n",
      "17998    data/PMSI-AlignAlytics/dimple/src/objects/axis...\n",
      "17999    data/regularex/FreePyBX/freepybx/public/js/doj...\n",
      "Name: ScriptPath, Length: 1000, dtype: object\n",
      "18000    data/jan-os/janos/shared/js/everythingme/devic...\n",
      "18001    data/bem/bem-bl/blocks-test/i-bem/__test/i-bem...\n",
      "18002    data/edmenendez/django-angular-auth/static/lib...\n",
      "18003    data/jbasdf/muck/public/javascripts/tiny_mce/t...\n",
      "18004    data/aptana/frameworks/plugins/org.dojotoolkit...\n",
      "                               ...                        \n",
      "18995        data/tparisi/Vizi/engine/src/system/system.js\n",
      "18996    data/fholm/IronJS/Src/Tests/Sputnik/sputnik-v1...\n",
      "18997    data/sunlightlabs/datajam/public/javascripts/l...\n",
      "18998             data/bitpay/insight-api/config/routes.js\n",
      "18999    data/jgallen23/jquery-builder/dist/2.1.1/jquer...\n",
      "Name: ScriptPath, Length: 1000, dtype: object\n",
      "19000    data/javascript-playground/backbone-require-ex...\n",
      "19001    data/david-sabata/web-scrobbler/connectors/mix...\n",
      "19002    data/tildeio/oasis.js/test/fixtures/sandbox_po...\n",
      "19003    data/perminder-klair/angular-soundmanager2/src...\n",
      "19004    data/jgoodall/restify-base/node_modules/foreve...\n",
      "                               ...                        \n",
      "19995    data/MoSync/Reload/ReloadServer/node_modules/c...\n",
      "19996    data/fetimo/Schedlr/www/js/app/stores/attendin...\n",
      "19997    data/schubergphilis/Seccubus_v2/jmvc/documentj...\n",
      "19998    data/eslint/eslint/tests/lib/rules/no-lone-blo...\n",
      "19999    data/yui/2in3/dist/2.8.1/build/yui2-connection...\n",
      "Name: ScriptPath, Length: 1000, dtype: object\n",
      "20000    data/sebastienros/jint/Jint.Tests.Ecma/TestCas...\n",
      "20001    data/mozilla-b2g/gaia/apps/keyboard/js/keyboar...\n",
      "20002    data/linnovate/mean-on-openshift/node_modules/...\n",
      "20003    data/vistaprint/ArteJS/tests/lib/rangy-extensi...\n",
      "20004    data/webadeo/git-simpler-better-faster-stronge...\n",
      "                               ...                        \n",
      "20995    data/kendo-labs/bower-kendo-ui/src/js/kendo.da...\n",
      "20996               data/heldr/ftpm/test/utils/fileTest.js\n",
      "20997    data/xlsuite/xlsuite/public/javascripts/extjs/...\n",
      "20998    data/openaddresses/openaddresses.io/contribute...\n",
      "20999    data/ONLYOFFICE/ONLYOFFICE-OnlineEditors/Offic...\n",
      "Name: ScriptPath, Length: 1000, dtype: object\n",
      "21000               data/arthur-e/Wicket/wicket-leaflet.js\n",
      "21001    data/studio107/meditor/vendors/ckeditor/plugin...\n",
      "21002                data/codemix/fast.js/array/forEach.js\n",
      "21003    data/MobileChromeApps/mobile-chrome-apps/chrom...\n",
      "21004              data/heapsource/fire/src/AstNodeType.js\n",
      "                               ...                        \n",
      "21995    data/y8/x-transport/app_generators/x_transport...\n",
      "21996    data/thomasboyt/ember-firebase-adapter/lib/wra...\n",
      "21997    data/OpenCOP/OpenCOP/src/main/webapp/lib/gxp/s...\n",
      "21998    data/qooxdoo/qooxdoo/application/demobrowser/s...\n",
      "21999     data/kjda/ReactJs-Phonegap/server/models/user.js\n",
      "Name: ScriptPath, Length: 1000, dtype: object\n",
      "22000         data/plone/mockup/mockup/js/bundles/plone.js\n",
      "22001    data/twitter/plumage.js/assets/scripts/util/Lo...\n",
      "22002    data/miataru/miataru-server/tests/integration/...\n",
      "22003    data/ONLYOFFICE/ONLYOFFICE-OnlineEditors/Offic...\n",
      "22004    data/cdnjs/cdnjs/ajax/libs/jQuery-slimScroll/1...\n",
      "                               ...                        \n",
      "22995    data/palantir/plottable/quicktests/overlaying/...\n",
      "22996        data/francois2metz/trello-calendar/lib/app.js\n",
      "22997    data/bitwalker/keys.js/node_modules/jsdoc/plug...\n",
      "22998                       data/github/fetch/test/test.js\n",
      "22999                 data/uxebu/embedjs/examples/myapp.js\n",
      "Name: ScriptPath, Length: 1000, dtype: object\n",
      "23000    data/cdnjs/cdnjs/ajax/libs/timelinejs/2.33.1/j...\n",
      "23001    data/wso2/wso2mobileserver/products/mdm/module...\n",
      "23002    data/socket-express/core/lib/system/classes/ur...\n",
      "23003             data/blackberry/bbUI.js/pkg/bbos/bbui.js\n",
      "23004    data/tinymce/tinymce/js/tinymce/classes/Format...\n",
      "                               ...                        \n",
      "23995    data/jubos/meguro/deps/spidermonkey/tests/js1_...\n",
      "23996    data/Shpionus/ace_editor/static/lib/ace/snippe...\n",
      "23997    data/cdnjs/cdnjs/ajax/libs/angular.js/1.2.28/i...\n",
      "23998                 data/jeremyckahn/shifty/Gruntfile.js\n",
      "23999    data/racker/service-registry/node_modules/cass...\n",
      "Name: ScriptPath, Length: 1000, dtype: object\n",
      "24000    data/gamelayers/PMOG-FF-EXT-OS/pmog@gamelayers...\n",
      "24001    data/jsdelivr/jsdelivr/files/wordpress/3.6/js/...\n",
      "24002    data/benvanik/games-framework/samples/cube/src...\n",
      "24003    data/jgallen23/jquery-builder/dist/1.8.0/jquer...\n",
      "24004    data/loiane/masteringextjs/ext/src/rtl/button/...\n",
      "                               ...                        \n",
      "24995    data/exBerliners/ng-youtube-responsive/test/vi...\n",
      "24996    data/sdslabs/hackview/node_modules/share/node_...\n",
      "24997                 data/unindented/jscs-loader/index.js\n",
      "24998    data/talho/openphin/app/assets/javascripts/ext...\n",
      "24999    data/debianmaster/simpleCart/api/node_modules/...\n",
      "Name: ScriptPath, Length: 1000, dtype: object\n",
      "25000    data/sirprize/dojorama/builds/multi-file-v002/...\n",
      "25001             data/beakable/isometric/jsiso/url/url.js\n",
      "25002    data/Panoptico/NetSense/server/user/user_route...\n",
      "25003    data/html5rocks/playground.html5rocks.com/samp...\n",
      "25004    data/sebastienros/jint/Jint.Tests.Ecma/TestCas...\n",
      "                               ...                        \n",
      "25995    data/jgallen23/jquery-builder/dist/2.0.3/jquer...\n",
      "25996    data/remotestorage/remotestorage.js/test/unit/...\n",
      "25997    data/ng-tools/ng-factory/lib/tasks/docs/styles.js\n",
      "25998    data/M6Web/BabitchClient/app/scripts/filters/p...\n",
      "25999    data/cdnjs/cdnjs/ajax/libs/jquery.lazyloadxt/0...\n",
      "Name: ScriptPath, Length: 1000, dtype: object\n",
      "26000    data/sandeepmistry/noble/lib/websocket/binding...\n",
      "26001          data/appneta/bbvis/lib/bootstrap-tooltip.js\n",
      "26002    data/zeljkoprsa/waterlee-boilerplate/skin/fron...\n",
      "26003    data/firebug/firebug/tests/content/console/com...\n",
      "26004     data/richardanaya/mux.js/public/spec/mux_spec.js\n",
      "                               ...                        \n",
      "26995    data/TargetProcess/tauCharts/test/tooltip-plug...\n",
      "26996     data/FreezingMoon/AncientBeast/game/js/script.js\n",
      "26997    data/beeman/angular-restangular-crud/client/Gr...\n",
      "26998                        data/codemix/fast.js/index.js\n",
      "26999     data/cri5ti/html5-bomberman/server/game/model.js\n",
      "Name: ScriptPath, Length: 1000, dtype: object\n",
      "27000    data/olab-io/ofSketch/ofSketchApp/bin/data/Doc...\n",
      "27001    data/snikch/jquery.dirtyforms/lib/tinymce/plug...\n",
      "27002    data/jgallen23/jquery-builder/dist/2.0.1/jquer...\n",
      "27003    data/mozilla/rhino/testsrc/tests/js1_5/extensi...\n",
      "27004    data/localnerve/html-snapshots/lib/async/index.js\n",
      "                               ...                        \n",
      "27995            data/indutny/node-spdy/lib/spdy/client.js\n",
      "27996    data/Jasig/SSP/src/main/webapp/app/view/tools/...\n",
      "27997    data/sonalgoyal/crux/src/main/webapp/js/dojo/d...\n",
      "27998    data/Reactive-Extensions/RxJS/tests/observable...\n",
      "27999    data/angular/angular/modules/angular2/src/chan...\n",
      "Name: ScriptPath, Length: 1000, dtype: object\n",
      "28000    data/ibdknox/brepl/out/goog/i18n/numberformats...\n",
      "28001    data/sebastienros/jint/Jint.Tests.Ecma/TestCas...\n",
      "28002    data/fintler/lanyard/contrib/closure-library/g...\n",
      "28003    data/marmelab/tree.js/test/src/model/hookable-...\n",
      "28004    data/cdnjs/cdnjs/ajax/libs/jsonld/0.1.19/jsonl...\n",
      "                               ...                        \n",
      "28995    data/jgallen23/jquery-builder/dist/2.0.2/jquer...\n",
      "28996                 data/artsy/scroll-frame/test/test.js\n",
      "28997            data/arj03/knockout.wrap/knockout.wrap.js\n",
      "28998             data/vibber/Sliider/lib/mousetrap.vib.js\n",
      "28999    data/cdnjs/cdnjs/ajax/libs/immstruct/1.3.1/imm...\n",
      "Name: ScriptPath, Length: 1000, dtype: object\n",
      "29000    data/mapmint/mapmint/mapmint-ui/openlayers/lib...\n",
      "29001    data/cirsfid-unibo/lime/app/view/DocumentLangS...\n",
      "29002    data/ihqs/WysiwygBundle/Resources/public/js/ve...\n",
      "29003    data/webadeo/git-simpler-better-faster-stronge...\n",
      "29004    data/troeger/fuzzed/FuzzEd/static/script/dfd/n...\n",
      "                               ...                        \n",
      "29995    data/matthiasn/AngularUI-Code/Chapter03/Step01...\n",
      "29996         data/mohayonao/neume.js/test/ugen/lfpulse.js\n",
      "29997    data/quailjs/quail/lib/assessments/skipToConte...\n",
      "29998    data/cdnjs/cdnjs/ajax/libs/bootstrap-tour/0.8....\n",
      "29999    data/cdnjs/cdnjs/ajax/libs/yui/3.17.1/event-co...\n",
      "Name: ScriptPath, Length: 1000, dtype: object\n"
     ]
    },
    {
     "name": "stdout",
     "output_type": "stream",
     "text": [
      "30000    data/cdnjs/cdnjs/ajax/libs/yui/3.17.2/datatype...\n",
      "30001    data/cakesolutions/the-pragmatic-haskeller/09-...\n",
      "30002    data/Chorus/chorus/app/assets/javascripts/view...\n",
      "30003      data/mout/mout/tests/spec/object/spec-filter.js\n",
      "30004    data/ceph/calamari-clients/admin/app/scripts/a...\n",
      "                               ...                        \n",
      "30995    data/Paxa/postbird/node_modules/pg/node_module...\n",
      "30996    data/ezsystems/PlatformUIBundle/Resources/publ...\n",
      "30997    data/jbasdf/muck/public/javascripts/tiny_mce/p...\n",
      "30998    data/juanpicado/marionettejs-sample-app/src/ap...\n",
      "30999    data/cgravolet/scroblr/src/js/plugins/soundclo...\n",
      "Name: ScriptPath, Length: 1000, dtype: object\n",
      "31000    data/handsontable/handsontable/test/jasmine/sp...\n",
      "31001    data/sidorares/node-x11/examples/vncviewer/unp...\n",
      "31002    data/zohooo/jaxedit/library/mathjax/unpacked/j...\n",
      "31003    data/wongiseng/SNEEditor/war/aida/ThesaurusSer...\n",
      "31004              data/cujojs/rest/test/util/find-test.js\n",
      "                               ...                        \n",
      "31995                                data/unknown/79929.js\n",
      "31996    data/sebastienros/jint/Jint.Tests.Ecma/TestCas...\n",
      "31997    data/stevedekorte/vertex.js/lib/NodeCrux/Child...\n",
      "31998    data/buddebej/ol3-dem/ol3/src/ol/source/format...\n",
      "31999    data/mobz/elasticsearch-head/src/app/ui/abstra...\n",
      "Name: ScriptPath, Length: 1000, dtype: object\n",
      "32000    data/erichocean/blossom/tests/datastore/qunit/...\n",
      "32001    data/lvanderree/feincms-mercury/mercury/static...\n",
      "32002    data/farfou/kimios/kimios-webclient/src/client...\n",
      "32003    data/node-red/node-red/red/nodes/registry/loca...\n",
      "32004    data/ariatemplates/ariatemplates/test/aria/tem...\n",
      "                               ...                        \n",
      "32995           data/furf/Sexy/test/js/tests/defer-slim.js\n",
      "32996    data/firebug/firebug.next/lib/style/style-edit...\n",
      "32997           data/IcaliaLabs/furatto/js/furatto-demo.js\n",
      "32998    data/studio107/meditor/vendors/ckeditor/plugin...\n",
      "32999    data/omphalos/earhorn/components/codemirror/mo...\n",
      "Name: ScriptPath, Length: 1000, dtype: object\n",
      "33000    data/cdnjs/cdnjs/ajax/libs/pickadate.js/3.5.0/...\n",
      "33001             data/xinyu198736/fastdemo/lib/rainbow.js\n",
      "33002    data/JacksonTian/ghost/lib/webdriverjs/lib/com...\n",
      "33003    data/dextra/holy/WebContent/holy/loading/jquer...\n",
      "33004    data/zeroclipboard/zeroclipboard/test/built/Ze...\n",
      "                               ...                        \n",
      "33995    data/conveyal/modeify/node_modules/istanbul/li...\n",
      "33996    data/cdnjs/cdnjs/ajax/libs/extjs/4.2.1/src/tip...\n",
      "33997    data/cloudjee/wavemaker/wavemaker/wavemaker-st...\n",
      "33998             data/GCheung55/Neuro/test/snitch-test.js\n",
      "33999    data/ozoneplatform/owf-framework/web-app/js-li...\n",
      "Name: ScriptPath, Length: 1000, dtype: object\n",
      "34000    data/fholm/IronJS/Src/Tests/ietestcenter/chapt...\n",
      "34001    data/regularex/FreePyBX/freepybx/public/js/doj...\n",
      "34002                   data/dojo/dojox/mobile/app/List.js\n",
      "34003    data/erkobridee/lab-angularjs/src/lab/i18n/05/...\n",
      "34004          data/tiw/angularjs-tutorial/js-src/grunt.js\n",
      "                               ...                        \n",
      "34995            data/ethantw/Han/src/js/locale/support.js\n",
      "34996       data/bem/bem-www/bundles-desktop/.bem/level.js\n",
      "34997               data/itteco/iframely/lib/html-utils.js\n",
      "34998                    data/torworx/ovy/benchmark/oop.js\n",
      "34999    data/bendytree/explainjs/node_modules/should/t...\n",
      "Name: ScriptPath, Length: 1000, dtype: object\n",
      "35000    data/maryrosecook/coquette/demos/box2d-physics...\n",
      "35001    data/studio107/meditor/vendors/ckeditor/plugin...\n",
      "35002    data/rancherio/ui/tests/unit/pods/mount/contro...\n",
      "35003    data/GoogleChrome/ChromeWebLab/Orchestra/sw/re...\n",
      "35004    data/codefoster/codeshow/codeShow.JS/codeShow....\n",
      "                               ...                        \n",
      "35995    data/sdslabs/hackview/node_modules/share/lib/c...\n",
      "35996    data/ozoneplatform/owf-framework/web-app/js-li...\n",
      "35997            data/hodgesmr/Empress/js/libs/showdown.js\n",
      "35998    data/Applifier/node-scribe/test/requestlog.tes...\n",
      "35999    data/engijs/engi/browser/plugins/instance_arra...\n",
      "Name: ScriptPath, Length: 1000, dtype: object\n",
      "36000     data/thlorenz/docme/test/three-public/first-p.js\n",
      "36001    data/shovon/generator-react-material-ui/app/te...\n",
      "36002    data/ONLYOFFICE/ONLYOFFICE-OnlineEditors/Offic...\n",
      "36003    data/david-sabata/web-scrobbler/connectors/ttn...\n",
      "36004    data/gaiaehr/gaiaehr/app/model/patient/charts/...\n",
      "                               ...                        \n",
      "36995    data/luciotato/LiteScript/devel/generated-js/v...\n",
      "36996    data/xenophy/NextJS/test/data/MemoryStore.test.js\n",
      "36997    data/280north/narwhal/engines/rhino/lib/event-...\n",
      "36998                data/caolan/forms/test/test-fields.js\n",
      "36999    data/yyx990803/vue/test/unit/specs/compiler/co...\n",
      "Name: ScriptPath, Length: 1000, dtype: object\n",
      "37000    data/regularex/FreePyBX/freepybx/public/js/doj...\n",
      "37001    data/david-mark/jessie/functions/appendHtml/re...\n",
      "37002         data/mapstraction/mxn/source/mxn.geocoder.js\n",
      "37003    data/longshoreman/longshoreman/node_modules/sh...\n",
      "37004    data/notorii/generator-mean-seed/core-default-...\n",
      "                               ...                        \n",
      "37995    data/pixelpark/ppnet/app/scripts/controllers/s...\n",
      "37996    data/sebastienros/jint/Jint.Tests.Ecma/TestCas...\n",
      "37997    data/reactjs/React.NET/src/React.Sample.Webpac...\n",
      "37998    data/flightjs/generator-flight/lib/templates/a...\n",
      "37999    data/cdnjs/cdnjs/ajax/libs/yui/3.17.1/datasour...\n",
      "Name: ScriptPath, Length: 1000, dtype: object\n",
      "38000         data/mozilla/prospector/tabFocus/lib/main.js\n",
      "38001    data/challet/MooPlay/Source/Control/LoadProgre...\n",
      "38002            data/jspears/bobamo/lib/plugin-manager.js\n",
      "38003               data/geoext/geoext2/examples/loader.js\n",
      "38004    data/mathjax/MathJax/unpacked/localization/it/...\n",
      "                               ...                        \n",
      "38995    data/regularex/FreePyBX/freepybx/public/js/doj...\n",
      "38996    data/nikku/requirejs-angular-define/test/unit/...\n",
      "38997     data/enyojs/layout/slideable/source/Slideable.js\n",
      "38998    data/Godhart/redmine_aloha_wiki/assets/javascr...\n",
      "38999    data/pielgrzym/django-minishop/grappelli/media...\n",
      "Name: ScriptPath, Length: 1000, dtype: object\n",
      "39000    data/BladeRunnerJS/brjs/brjs-sdk/sdk/libs/java...\n",
      "39001    data/sebastienros/jint/Jint.Tests.Ecma/TestCas...\n",
      "39002    data/sebastienros/jint/Jint.Tests.Ecma/TestCas...\n",
      "39003    data/adobe-webplatform/Demo-for-National-Geogr...\n",
      "39004    data/stevenleeg/thegrid/client/static/js/HomeV...\n",
      "                               ...                        \n",
      "39995    data/scottfr/insightmaker/resources/ext/exampl...\n",
      "39996           data/gaffa-tape/gaffa/templaterProperty.js\n",
      "39997                     data/mout/mout/src/object/max.js\n",
      "39998    data/sebastienros/jint/Jint.Tests.Ecma/TestCas...\n",
      "39999                   data/substack/dataplex/test/get.js\n",
      "Name: ScriptPath, Length: 1000, dtype: object\n",
      "40000    javascript-malware-collection-master\\1936\\1936...\n",
      "40001    javascript-malware-collection-master\\1936\\1936...\n",
      "40002    javascript-malware-collection-master\\1936\\1936...\n",
      "40003    javascript-malware-collection-master\\1936\\1936...\n",
      "40004    javascript-malware-collection-master\\1936\\1936...\n",
      "                               ...                        \n",
      "40995    javascript-malware-collection-master\\2015\\2015...\n",
      "40996    javascript-malware-collection-master\\2015\\2015...\n",
      "40997    javascript-malware-collection-master\\2015\\2015...\n",
      "40998    javascript-malware-collection-master\\2015\\2015...\n",
      "40999    javascript-malware-collection-master\\2015\\2015...\n",
      "Name: ScriptPath, Length: 1000, dtype: object\n",
      "41000    javascript-malware-collection-master\\2015\\2015...\n",
      "41001    javascript-malware-collection-master\\2015\\2015...\n",
      "41002    javascript-malware-collection-master\\2015\\2015...\n",
      "41003    javascript-malware-collection-master\\2015\\2015...\n",
      "41004    javascript-malware-collection-master\\2015\\2015...\n",
      "                               ...                        \n",
      "41995    javascript-malware-collection-master\\2016\\2016...\n",
      "41996    javascript-malware-collection-master\\2016\\2016...\n",
      "41997    javascript-malware-collection-master\\2016\\2016...\n",
      "41998    javascript-malware-collection-master\\2016\\2016...\n",
      "41999    javascript-malware-collection-master\\2016\\2016...\n",
      "Name: ScriptPath, Length: 1000, dtype: object\n",
      "42000    javascript-malware-collection-master\\2016\\2016...\n",
      "42001    javascript-malware-collection-master\\2016\\2016...\n",
      "42002    javascript-malware-collection-master\\2016\\2016...\n",
      "42003    javascript-malware-collection-master\\2016\\2016...\n",
      "42004    javascript-malware-collection-master\\2016\\2016...\n",
      "                               ...                        \n",
      "42995    javascript-malware-collection-master\\2016\\2016...\n",
      "42996    javascript-malware-collection-master\\2016\\2016...\n",
      "42997    javascript-malware-collection-master\\2016\\2016...\n",
      "42998    javascript-malware-collection-master\\2016\\2016...\n",
      "42999    javascript-malware-collection-master\\2016\\2016...\n",
      "Name: ScriptPath, Length: 1000, dtype: object\n",
      "43000    javascript-malware-collection-master\\2016\\2016...\n",
      "43001    javascript-malware-collection-master\\2016\\2016...\n",
      "43002    javascript-malware-collection-master\\2016\\2016...\n",
      "43003    javascript-malware-collection-master\\2016\\2016...\n",
      "43004    javascript-malware-collection-master\\2016\\2016...\n",
      "                               ...                        \n",
      "43995    javascript-malware-collection-master\\2016\\2016...\n",
      "43996    javascript-malware-collection-master\\2016\\2016...\n",
      "43997    javascript-malware-collection-master\\2016\\2016...\n",
      "43998    javascript-malware-collection-master\\2016\\2016...\n",
      "43999    javascript-malware-collection-master\\2016\\2016...\n",
      "Name: ScriptPath, Length: 1000, dtype: object\n",
      "44000    javascript-malware-collection-master\\2016\\2016...\n",
      "44001    javascript-malware-collection-master\\2016\\2016...\n",
      "44002    javascript-malware-collection-master\\2016\\2016...\n",
      "44003    javascript-malware-collection-master\\2016\\2016...\n",
      "44004    javascript-malware-collection-master\\2016\\2016...\n",
      "                               ...                        \n",
      "44995    javascript-malware-collection-master\\2016\\2016...\n",
      "44996    javascript-malware-collection-master\\2016\\2016...\n",
      "44997    javascript-malware-collection-master\\2016\\2016...\n",
      "44998    javascript-malware-collection-master\\2016\\2016...\n",
      "44999    javascript-malware-collection-master\\2016\\2016...\n",
      "Name: ScriptPath, Length: 1000, dtype: object\n",
      "45000    javascript-malware-collection-master\\2016\\2016...\n",
      "45001    javascript-malware-collection-master\\2016\\2016...\n",
      "45002    javascript-malware-collection-master\\2016\\2016...\n",
      "45003    javascript-malware-collection-master\\2016\\2016...\n",
      "45004    javascript-malware-collection-master\\2016\\2016...\n",
      "                               ...                        \n",
      "45995    javascript-malware-collection-master\\2016\\2016...\n",
      "45996    javascript-malware-collection-master\\2016\\2016...\n",
      "45997    javascript-malware-collection-master\\2016\\2016...\n",
      "45998    javascript-malware-collection-master\\2016\\2016...\n",
      "45999    javascript-malware-collection-master\\2016\\2016...\n",
      "Name: ScriptPath, Length: 1000, dtype: object\n",
      "46000    javascript-malware-collection-master\\2016\\2016...\n",
      "46001    javascript-malware-collection-master\\2016\\2016...\n",
      "46002    javascript-malware-collection-master\\2016\\2016...\n",
      "46003    javascript-malware-collection-master\\2016\\2016...\n",
      "46004    javascript-malware-collection-master\\2016\\2016...\n",
      "                               ...                        \n",
      "46995    javascript-malware-collection-master\\2016\\2016...\n",
      "46996    javascript-malware-collection-master\\2016\\2016...\n",
      "46997    javascript-malware-collection-master\\2016\\2016...\n",
      "46998    javascript-malware-collection-master\\2016\\2016...\n",
      "46999    javascript-malware-collection-master\\2016\\2016...\n",
      "Name: ScriptPath, Length: 1000, dtype: object\n",
      "47000    javascript-malware-collection-master\\2016\\2016...\n",
      "47001    javascript-malware-collection-master\\2016\\2016...\n",
      "47002    javascript-malware-collection-master\\2016\\2016...\n",
      "47003    javascript-malware-collection-master\\2016\\2016...\n",
      "47004    javascript-malware-collection-master\\2016\\2016...\n",
      "                               ...                        \n",
      "47995    javascript-malware-collection-master\\2016\\2016...\n",
      "47996    javascript-malware-collection-master\\2016\\2016...\n",
      "47997    javascript-malware-collection-master\\2016\\2016...\n",
      "47998    javascript-malware-collection-master\\2016\\2016...\n",
      "47999    javascript-malware-collection-master\\2016\\2016...\n",
      "Name: ScriptPath, Length: 1000, dtype: object\n",
      "48000    javascript-malware-collection-master\\2016\\2016...\n",
      "48001    javascript-malware-collection-master\\2016\\2016...\n",
      "48002    javascript-malware-collection-master\\2016\\2016...\n",
      "48003    javascript-malware-collection-master\\2016\\2016...\n",
      "48004    javascript-malware-collection-master\\2016\\2016...\n",
      "                               ...                        \n",
      "48995    javascript-malware-collection-master\\2016\\2016...\n",
      "48996    javascript-malware-collection-master\\2016\\2016...\n",
      "48997    javascript-malware-collection-master\\2016\\2016...\n",
      "48998    javascript-malware-collection-master\\2016\\2016...\n",
      "48999    javascript-malware-collection-master\\2016\\2016...\n",
      "Name: ScriptPath, Length: 1000, dtype: object\n",
      "49000    javascript-malware-collection-master\\2016\\2016...\n",
      "49001    javascript-malware-collection-master\\2016\\2016...\n",
      "49002    javascript-malware-collection-master\\2016\\2016...\n",
      "49003    javascript-malware-collection-master\\2016\\2016...\n",
      "49004    javascript-malware-collection-master\\2016\\2016...\n",
      "                               ...                        \n",
      "49995    javascript-malware-collection-master\\2016\\2016...\n",
      "49996    javascript-malware-collection-master\\2016\\2016...\n",
      "49997    javascript-malware-collection-master\\2016\\2016...\n",
      "49998    javascript-malware-collection-master\\2016\\2016...\n",
      "49999    javascript-malware-collection-master\\2016\\2016...\n",
      "Name: ScriptPath, Length: 1000, dtype: object\n",
      "50000    javascript-malware-collection-master\\2016\\2016...\n",
      "50001    javascript-malware-collection-master\\2016\\2016...\n",
      "50002    javascript-malware-collection-master\\2016\\2016...\n",
      "50003    javascript-malware-collection-master\\2016\\2016...\n",
      "50004    javascript-malware-collection-master\\2016\\2016...\n",
      "                               ...                        \n",
      "50995    javascript-malware-collection-master\\2016\\2016...\n",
      "50996    javascript-malware-collection-master\\2016\\2016...\n",
      "50997    javascript-malware-collection-master\\2016\\2016...\n",
      "50998    javascript-malware-collection-master\\2016\\2016...\n",
      "50999    javascript-malware-collection-master\\2016\\2016...\n",
      "Name: ScriptPath, Length: 1000, dtype: object\n",
      "51000    javascript-malware-collection-master\\2016\\2016...\n",
      "51001    javascript-malware-collection-master\\2016\\2016...\n",
      "51002    javascript-malware-collection-master\\2016\\2016...\n",
      "51003    javascript-malware-collection-master\\2016\\2016...\n",
      "51004    javascript-malware-collection-master\\2016\\2016...\n",
      "                               ...                        \n",
      "51995    javascript-malware-collection-master\\2016\\2016...\n",
      "51996    javascript-malware-collection-master\\2016\\2016...\n",
      "51997    javascript-malware-collection-master\\2016\\2016...\n",
      "51998    javascript-malware-collection-master\\2016\\2016...\n",
      "51999    javascript-malware-collection-master\\2016\\2016...\n",
      "Name: ScriptPath, Length: 1000, dtype: object\n",
      "52000    javascript-malware-collection-master\\2016\\2016...\n",
      "52001    javascript-malware-collection-master\\2016\\2016...\n",
      "52002    javascript-malware-collection-master\\2016\\2016...\n",
      "52003    javascript-malware-collection-master\\2016\\2016...\n",
      "52004    javascript-malware-collection-master\\2016\\2016...\n",
      "                               ...                        \n",
      "52995    javascript-malware-collection-master\\2016\\2016...\n",
      "52996    javascript-malware-collection-master\\2016\\2016...\n",
      "52997    javascript-malware-collection-master\\2016\\2016...\n",
      "52998    javascript-malware-collection-master\\2016\\2016...\n",
      "52999    javascript-malware-collection-master\\2016\\2016...\n",
      "Name: ScriptPath, Length: 1000, dtype: object\n",
      "53000    javascript-malware-collection-master\\2016\\2016...\n",
      "53001    javascript-malware-collection-master\\2016\\2016...\n",
      "53002    javascript-malware-collection-master\\2016\\2016...\n",
      "53003    javascript-malware-collection-master\\2016\\2016...\n",
      "53004    javascript-malware-collection-master\\2016\\2016...\n",
      "                               ...                        \n",
      "53995    javascript-malware-collection-master\\2016\\2016...\n",
      "53996    javascript-malware-collection-master\\2016\\2016...\n",
      "53997    javascript-malware-collection-master\\2016\\2016...\n",
      "53998    javascript-malware-collection-master\\2016\\2016...\n",
      "53999    javascript-malware-collection-master\\2016\\2016...\n",
      "Name: ScriptPath, Length: 1000, dtype: object\n",
      "54000    javascript-malware-collection-master\\2016\\2016...\n",
      "54001    javascript-malware-collection-master\\2016\\2016...\n",
      "54002    javascript-malware-collection-master\\2016\\2016...\n",
      "54003    javascript-malware-collection-master\\2016\\2016...\n",
      "54004    javascript-malware-collection-master\\2016\\2016...\n",
      "                               ...                        \n",
      "54995    javascript-malware-collection-master\\2016\\2016...\n",
      "54996    javascript-malware-collection-master\\2016\\2016...\n",
      "54997    javascript-malware-collection-master\\2016\\2016...\n",
      "54998    javascript-malware-collection-master\\2016\\2016...\n",
      "54999    javascript-malware-collection-master\\2016\\2016...\n",
      "Name: ScriptPath, Length: 1000, dtype: object\n",
      "55000    javascript-malware-collection-master\\2016\\2016...\n",
      "55001    javascript-malware-collection-master\\2016\\2016...\n",
      "55002    javascript-malware-collection-master\\2016\\2016...\n",
      "55003    javascript-malware-collection-master\\2016\\2016...\n",
      "55004    javascript-malware-collection-master\\2016\\2016...\n",
      "                               ...                        \n",
      "55995    javascript-malware-collection-master\\2016\\2016...\n",
      "55996    javascript-malware-collection-master\\2016\\2016...\n",
      "55997    javascript-malware-collection-master\\2016\\2016...\n",
      "55998    javascript-malware-collection-master\\2016\\2016...\n",
      "55999    javascript-malware-collection-master\\2016\\2016...\n",
      "Name: ScriptPath, Length: 1000, dtype: object\n",
      "56000    javascript-malware-collection-master\\2016\\2016...\n",
      "56001    javascript-malware-collection-master\\2016\\2016...\n",
      "56002    javascript-malware-collection-master\\2016\\2016...\n",
      "56003    javascript-malware-collection-master\\2016\\2016...\n",
      "56004    javascript-malware-collection-master\\2016\\2016...\n",
      "                               ...                        \n",
      "56995    javascript-malware-collection-master\\2016\\2016...\n",
      "56996    javascript-malware-collection-master\\2016\\2016...\n",
      "56997    javascript-malware-collection-master\\2016\\2016...\n",
      "56998    javascript-malware-collection-master\\2016\\2016...\n",
      "56999    javascript-malware-collection-master\\2016\\2016...\n"
     ]
    },
    {
     "name": "stdout",
     "output_type": "stream",
     "text": [
      "Name: ScriptPath, Length: 1000, dtype: object\n",
      "57000    javascript-malware-collection-master\\2016\\2016...\n",
      "57001    javascript-malware-collection-master\\2016\\2016...\n",
      "57002    javascript-malware-collection-master\\2016\\2016...\n",
      "57003    javascript-malware-collection-master\\2016\\2016...\n",
      "57004    javascript-malware-collection-master\\2016\\2016...\n",
      "                               ...                        \n",
      "57995    javascript-malware-collection-master\\2016\\2016...\n",
      "57996    javascript-malware-collection-master\\2016\\2016...\n",
      "57997    javascript-malware-collection-master\\2016\\2016...\n",
      "57998    javascript-malware-collection-master\\2016\\2016...\n",
      "57999    javascript-malware-collection-master\\2016\\2016...\n",
      "Name: ScriptPath, Length: 1000, dtype: object\n",
      "58000    javascript-malware-collection-master\\2016\\2016...\n",
      "58001    javascript-malware-collection-master\\2016\\2016...\n",
      "58002    javascript-malware-collection-master\\2016\\2016...\n",
      "58003    javascript-malware-collection-master\\2016\\2016...\n",
      "58004    javascript-malware-collection-master\\2016\\2016...\n",
      "                               ...                        \n",
      "58995    javascript-malware-collection-master\\2016\\2016...\n",
      "58996    javascript-malware-collection-master\\2016\\2016...\n",
      "58997    javascript-malware-collection-master\\2016\\2016...\n",
      "58998    javascript-malware-collection-master\\2016\\2016...\n",
      "58999    javascript-malware-collection-master\\2016\\2016...\n",
      "Name: ScriptPath, Length: 1000, dtype: object\n",
      "59000    javascript-malware-collection-master\\2016\\2016...\n",
      "59001    javascript-malware-collection-master\\2016\\2016...\n",
      "59002    javascript-malware-collection-master\\2016\\2016...\n",
      "59003    javascript-malware-collection-master\\2016\\2016...\n",
      "59004    javascript-malware-collection-master\\2016\\2016...\n",
      "                               ...                        \n",
      "59995    javascript-malware-collection-master\\2016\\2016...\n",
      "59996    javascript-malware-collection-master\\2016\\2016...\n",
      "59997    javascript-malware-collection-master\\2016\\2016...\n",
      "59998    javascript-malware-collection-master\\2016\\2016...\n",
      "59999    javascript-malware-collection-master\\2016\\2016...\n",
      "Name: ScriptPath, Length: 1000, dtype: object\n",
      "60000    javascript-malware-collection-master\\2016\\2016...\n",
      "60001    javascript-malware-collection-master\\2016\\2016...\n",
      "60002    javascript-malware-collection-master\\2016\\2016...\n",
      "60003    javascript-malware-collection-master\\2016\\2016...\n",
      "60004    javascript-malware-collection-master\\2016\\2016...\n",
      "                               ...                        \n",
      "60995    javascript-malware-collection-master\\2016\\2016...\n",
      "60996    javascript-malware-collection-master\\2016\\2016...\n",
      "60997    javascript-malware-collection-master\\2016\\2016...\n",
      "60998    javascript-malware-collection-master\\2016\\2016...\n",
      "60999    javascript-malware-collection-master\\2016\\2016...\n",
      "Name: ScriptPath, Length: 1000, dtype: object\n",
      "61000    javascript-malware-collection-master\\2016\\2016...\n",
      "61001    javascript-malware-collection-master\\2016\\2016...\n",
      "61002    javascript-malware-collection-master\\2016\\2016...\n",
      "61003    javascript-malware-collection-master\\2016\\2016...\n",
      "61004    javascript-malware-collection-master\\2016\\2016...\n",
      "                               ...                        \n",
      "61995    javascript-malware-collection-master\\2016\\2016...\n",
      "61996    javascript-malware-collection-master\\2016\\2016...\n",
      "61997    javascript-malware-collection-master\\2016\\2016...\n",
      "61998    javascript-malware-collection-master\\2016\\2016...\n",
      "61999    javascript-malware-collection-master\\2016\\2016...\n",
      "Name: ScriptPath, Length: 1000, dtype: object\n",
      "62000    javascript-malware-collection-master\\2016\\2016...\n",
      "62001    javascript-malware-collection-master\\2016\\2016...\n",
      "62002    javascript-malware-collection-master\\2016\\2016...\n",
      "62003    javascript-malware-collection-master\\2016\\2016...\n",
      "62004    javascript-malware-collection-master\\2016\\2016...\n",
      "                               ...                        \n",
      "62995    javascript-malware-collection-master\\2016\\2016...\n",
      "62996    javascript-malware-collection-master\\2016\\2016...\n",
      "62997    javascript-malware-collection-master\\2016\\2016...\n",
      "62998    javascript-malware-collection-master\\2016\\2016...\n",
      "62999    javascript-malware-collection-master\\2016\\2016...\n",
      "Name: ScriptPath, Length: 1000, dtype: object\n",
      "63000    javascript-malware-collection-master\\2016\\2016...\n",
      "63001    javascript-malware-collection-master\\2016\\2016...\n",
      "63002    javascript-malware-collection-master\\2016\\2016...\n",
      "63003    javascript-malware-collection-master\\2016\\2016...\n",
      "63004    javascript-malware-collection-master\\2016\\2016...\n",
      "                               ...                        \n",
      "63995    javascript-malware-collection-master\\2016\\2016...\n",
      "63996    javascript-malware-collection-master\\2016\\2016...\n",
      "63997    javascript-malware-collection-master\\2016\\2016...\n",
      "63998    javascript-malware-collection-master\\2016\\2016...\n",
      "63999    javascript-malware-collection-master\\2016\\2016...\n",
      "Name: ScriptPath, Length: 1000, dtype: object\n",
      "64000    javascript-malware-collection-master\\2016\\2016...\n",
      "64001    javascript-malware-collection-master\\2016\\2016...\n",
      "64002    javascript-malware-collection-master\\2016\\2016...\n",
      "64003    javascript-malware-collection-master\\2016\\2016...\n",
      "64004    javascript-malware-collection-master\\2016\\2016...\n",
      "                               ...                        \n",
      "64995    javascript-malware-collection-master\\2016\\2016...\n",
      "64996    javascript-malware-collection-master\\2016\\2016...\n",
      "64997    javascript-malware-collection-master\\2016\\2016...\n",
      "64998    javascript-malware-collection-master\\2016\\2016...\n",
      "64999    javascript-malware-collection-master\\2016\\2016...\n",
      "Name: ScriptPath, Length: 1000, dtype: object\n",
      "65000    javascript-malware-collection-master\\2016\\2016...\n",
      "65001    javascript-malware-collection-master\\2016\\2016...\n",
      "65002    javascript-malware-collection-master\\2016\\2016...\n",
      "65003    javascript-malware-collection-master\\2016\\2016...\n",
      "65004    javascript-malware-collection-master\\2016\\2016...\n",
      "                               ...                        \n",
      "65995    javascript-malware-collection-master\\2016\\2016...\n",
      "65996    javascript-malware-collection-master\\2016\\2016...\n",
      "65997    javascript-malware-collection-master\\2016\\2016...\n",
      "65998    javascript-malware-collection-master\\2016\\2016...\n",
      "65999    javascript-malware-collection-master\\2016\\2016...\n",
      "Name: ScriptPath, Length: 1000, dtype: object\n",
      "66000    javascript-malware-collection-master\\2016\\2016...\n",
      "66001    javascript-malware-collection-master\\2016\\2016...\n",
      "66002    javascript-malware-collection-master\\2016\\2016...\n",
      "66003    javascript-malware-collection-master\\2016\\2016...\n",
      "66004    javascript-malware-collection-master\\2016\\2016...\n",
      "                               ...                        \n",
      "66995    javascript-malware-collection-master\\2016\\2016...\n",
      "66996    javascript-malware-collection-master\\2016\\2016...\n",
      "66997    javascript-malware-collection-master\\2016\\2016...\n",
      "66998    javascript-malware-collection-master\\2016\\2016...\n",
      "66999    javascript-malware-collection-master\\2016\\2016...\n",
      "Name: ScriptPath, Length: 1000, dtype: object\n",
      "67000    javascript-malware-collection-master\\2016\\2016...\n",
      "67001    javascript-malware-collection-master\\2016\\2016...\n",
      "67002    javascript-malware-collection-master\\2016\\2016...\n",
      "67003    javascript-malware-collection-master\\2016\\2016...\n",
      "67004    javascript-malware-collection-master\\2016\\2016...\n",
      "                               ...                        \n",
      "67995    javascript-malware-collection-master\\2016\\2016...\n",
      "67996    javascript-malware-collection-master\\2016\\2016...\n",
      "67997    javascript-malware-collection-master\\2016\\2016...\n",
      "67998    javascript-malware-collection-master\\2016\\2016...\n",
      "67999    javascript-malware-collection-master\\2016\\2016...\n",
      "Name: ScriptPath, Length: 1000, dtype: object\n",
      "68000    javascript-malware-collection-master\\2016\\2016...\n",
      "68001    javascript-malware-collection-master\\2016\\2016...\n",
      "68002    javascript-malware-collection-master\\2016\\2016...\n",
      "68003    javascript-malware-collection-master\\2016\\2016...\n",
      "68004    javascript-malware-collection-master\\2016\\2016...\n",
      "                               ...                        \n",
      "68995    javascript-malware-collection-master\\2016\\2016...\n",
      "68996    javascript-malware-collection-master\\2016\\2016...\n",
      "68997    javascript-malware-collection-master\\2016\\2016...\n",
      "68998    javascript-malware-collection-master\\2016\\2016...\n",
      "68999    javascript-malware-collection-master\\2016\\2016...\n",
      "Name: ScriptPath, Length: 1000, dtype: object\n",
      "69000    javascript-malware-collection-master\\2016\\2016...\n",
      "69001    javascript-malware-collection-master\\2016\\2016...\n",
      "69002    javascript-malware-collection-master\\2016\\2016...\n",
      "69003    javascript-malware-collection-master\\2016\\2016...\n",
      "69004    javascript-malware-collection-master\\2016\\2016...\n",
      "                               ...                        \n",
      "69995    javascript-malware-collection-master\\2016\\2016...\n",
      "69996    javascript-malware-collection-master\\2016\\2016...\n",
      "69997    javascript-malware-collection-master\\2016\\2016...\n",
      "69998    javascript-malware-collection-master\\2016\\2016...\n",
      "69999    javascript-malware-collection-master\\2016\\2016...\n",
      "Name: ScriptPath, Length: 1000, dtype: object\n",
      "70000    javascript-malware-collection-master\\2016\\2016...\n",
      "70001    javascript-malware-collection-master\\2016\\2016...\n",
      "70002    javascript-malware-collection-master\\2016\\2016...\n",
      "70003    javascript-malware-collection-master\\2016\\2016...\n",
      "70004    javascript-malware-collection-master\\2016\\2016...\n",
      "                               ...                        \n",
      "70995    javascript-malware-collection-master\\2016\\2016...\n",
      "70996    javascript-malware-collection-master\\2016\\2016...\n",
      "70997    javascript-malware-collection-master\\2016\\2016...\n",
      "70998    javascript-malware-collection-master\\2016\\2016...\n",
      "70999    javascript-malware-collection-master\\2016\\2016...\n",
      "Name: ScriptPath, Length: 1000, dtype: object\n",
      "71000    javascript-malware-collection-master\\2016\\2016...\n",
      "71001    javascript-malware-collection-master\\2016\\2016...\n",
      "71002    javascript-malware-collection-master\\2016\\2016...\n",
      "71003    javascript-malware-collection-master\\2016\\2016...\n",
      "71004    javascript-malware-collection-master\\2016\\2016...\n",
      "                               ...                        \n",
      "71995    javascript-malware-collection-master\\2016\\2016...\n",
      "71996    javascript-malware-collection-master\\2016\\2016...\n",
      "71997    javascript-malware-collection-master\\2016\\2016...\n",
      "71998    javascript-malware-collection-master\\2016\\2016...\n",
      "71999    javascript-malware-collection-master\\2016\\2016...\n",
      "Name: ScriptPath, Length: 1000, dtype: object\n",
      "72000    javascript-malware-collection-master\\2016\\2016...\n",
      "72001    javascript-malware-collection-master\\2016\\2016...\n",
      "72002    javascript-malware-collection-master\\2016\\2016...\n",
      "72003    javascript-malware-collection-master\\2016\\2016...\n",
      "72004    javascript-malware-collection-master\\2016\\2016...\n",
      "                               ...                        \n",
      "72995    javascript-malware-collection-master\\2016\\2016...\n",
      "72996    javascript-malware-collection-master\\2016\\2016...\n",
      "72997    javascript-malware-collection-master\\2016\\2016...\n",
      "72998    javascript-malware-collection-master\\2016\\2016...\n",
      "72999    javascript-malware-collection-master\\2016\\2016...\n",
      "Name: ScriptPath, Length: 1000, dtype: object\n",
      "73000    javascript-malware-collection-master\\2016\\2016...\n",
      "73001    javascript-malware-collection-master\\2016\\2016...\n",
      "73002    javascript-malware-collection-master\\2016\\2016...\n",
      "73003    javascript-malware-collection-master\\2016\\2016...\n",
      "73004    javascript-malware-collection-master\\2016\\2016...\n",
      "                               ...                        \n",
      "73995    javascript-malware-collection-master\\2016\\2016...\n",
      "73996    javascript-malware-collection-master\\2016\\2016...\n",
      "73997    javascript-malware-collection-master\\2016\\2016...\n",
      "73998    javascript-malware-collection-master\\2016\\2016...\n",
      "73999    javascript-malware-collection-master\\2016\\2016...\n",
      "Name: ScriptPath, Length: 1000, dtype: object\n",
      "74000    javascript-malware-collection-master\\2016\\2016...\n",
      "74001    javascript-malware-collection-master\\2016\\2016...\n",
      "74002    javascript-malware-collection-master\\2016\\2016...\n",
      "74003    javascript-malware-collection-master\\2016\\2016...\n",
      "74004    javascript-malware-collection-master\\2016\\2016...\n",
      "                               ...                        \n",
      "74995    javascript-malware-collection-master\\2016\\2016...\n",
      "74996    javascript-malware-collection-master\\2016\\2016...\n",
      "74997    javascript-malware-collection-master\\2016\\2016...\n",
      "74998    javascript-malware-collection-master\\2016\\2016...\n",
      "74999    javascript-malware-collection-master\\2016\\2016...\n",
      "Name: ScriptPath, Length: 1000, dtype: object\n",
      "75000    javascript-malware-collection-master\\2016\\2016...\n",
      "75001    javascript-malware-collection-master\\2016\\2016...\n",
      "75002    javascript-malware-collection-master\\2016\\2016...\n",
      "75003    javascript-malware-collection-master\\2016\\2016...\n",
      "75004    javascript-malware-collection-master\\2016\\2016...\n",
      "                               ...                        \n",
      "75995    javascript-malware-collection-master\\2016\\2016...\n",
      "75996    javascript-malware-collection-master\\2016\\2016...\n",
      "75997    javascript-malware-collection-master\\2016\\2016...\n",
      "75998    javascript-malware-collection-master\\2016\\2016...\n",
      "75999    javascript-malware-collection-master\\2016\\2016...\n",
      "Name: ScriptPath, Length: 1000, dtype: object\n",
      "76000    javascript-malware-collection-master\\2016\\2016...\n",
      "76001    javascript-malware-collection-master\\2016\\2016...\n",
      "76002    javascript-malware-collection-master\\2016\\2016...\n",
      "76003    javascript-malware-collection-master\\2016\\2016...\n",
      "76004    javascript-malware-collection-master\\2016\\2016...\n",
      "                               ...                        \n",
      "76995    javascript-malware-collection-master\\2016\\2016...\n",
      "76996    javascript-malware-collection-master\\2016\\2016...\n",
      "76997    javascript-malware-collection-master\\2016\\2016...\n",
      "76998    javascript-malware-collection-master\\2016\\2016...\n",
      "76999    javascript-malware-collection-master\\2016\\2016...\n",
      "Name: ScriptPath, Length: 1000, dtype: object\n",
      "77000    javascript-malware-collection-master\\2016\\2016...\n",
      "77001    javascript-malware-collection-master\\2016\\2016...\n",
      "77002    javascript-malware-collection-master\\2016\\2016...\n",
      "77003    javascript-malware-collection-master\\2016\\2016...\n",
      "77004    javascript-malware-collection-master\\2016\\2016...\n",
      "                               ...                        \n",
      "77995    javascript-malware-collection-master\\2016\\2016...\n",
      "77996    javascript-malware-collection-master\\2016\\2016...\n",
      "77997    javascript-malware-collection-master\\2016\\2016...\n",
      "77998    javascript-malware-collection-master\\2016\\2016...\n",
      "77999    javascript-malware-collection-master\\2016\\2016...\n",
      "Name: ScriptPath, Length: 1000, dtype: object\n",
      "78000    javascript-malware-collection-master\\2016\\2016...\n",
      "78001    javascript-malware-collection-master\\2016\\2016...\n",
      "78002    javascript-malware-collection-master\\2016\\2016...\n",
      "78003    javascript-malware-collection-master\\2016\\2016...\n",
      "78004    javascript-malware-collection-master\\2016\\2016...\n",
      "                               ...                        \n",
      "78995    javascript-malware-collection-master\\2016\\2016...\n",
      "78996    javascript-malware-collection-master\\2016\\2016...\n",
      "78997    javascript-malware-collection-master\\2016\\2016...\n",
      "78998    javascript-malware-collection-master\\2016\\2016...\n",
      "78999    javascript-malware-collection-master\\2016\\2016...\n",
      "Name: ScriptPath, Length: 1000, dtype: object\n",
      "79000    javascript-malware-collection-master\\2016\\2016...\n",
      "79001    javascript-malware-collection-master\\2016\\2016...\n",
      "79002    javascript-malware-collection-master\\2016\\2016...\n",
      "79003    javascript-malware-collection-master\\2016\\2016...\n",
      "79004    javascript-malware-collection-master\\2016\\2016...\n",
      "                               ...                        \n",
      "79420    javascript-malware-collection-master\\2017\\2017...\n",
      "79421    javascript-malware-collection-master\\2017\\2017...\n",
      "79422    javascript-malware-collection-master\\2017\\2017...\n",
      "79423    javascript-malware-collection-master\\2017\\2017...\n",
      "79424    javascript-malware-collection-master\\2017\\2017...\n",
      "Name: ScriptPath, Length: 425, dtype: object\n"
     ]
    }
   ],
   "source": [
    "for i in d:\n",
    "    print(i['ScriptPath'])"
   ]
  },
  {
   "cell_type": "code",
   "execution_count": 121,
   "metadata": {},
   "outputs": [
    {
     "name": "stdout",
     "output_type": "stream",
     "text": [
      "(79425, 2)\n"
     ]
    }
   ],
   "source": [
    "for i in d:\n",
    "    print(i.shape)"
   ]
  },
  {
   "cell_type": "code",
   "execution_count": 106,
   "metadata": {},
   "outputs": [
    {
     "ename": "AttributeError",
     "evalue": "__enter__",
     "output_type": "error",
     "traceback": [
      "\u001b[1;31m---------------------------------------------------------------------------\u001b[0m",
      "\u001b[1;31mAttributeError\u001b[0m                            Traceback (most recent call last)",
      "\u001b[1;32m<ipython-input-106-05e769e94708>\u001b[0m in \u001b[0;36m<module>\u001b[1;34m\u001b[0m\n\u001b[0;32m      1\u001b[0m \u001b[0mchunksize\u001b[0m \u001b[1;33m=\u001b[0m \u001b[1;36m10\u001b[0m \u001b[1;33m**\u001b[0m \u001b[1;36m6\u001b[0m\u001b[1;33m\u001b[0m\u001b[1;33m\u001b[0m\u001b[0m\n\u001b[1;32m----> 2\u001b[1;33m \u001b[1;32mwith\u001b[0m \u001b[0mpd\u001b[0m\u001b[1;33m.\u001b[0m\u001b[0mread_csv\u001b[0m\u001b[1;33m(\u001b[0m\u001b[1;34m'G:\\JSContanaDataSet\\XSS_dataset.csv'\u001b[0m\u001b[1;33m,\u001b[0m \u001b[0mchunksize\u001b[0m\u001b[1;33m=\u001b[0m\u001b[1;36m20\u001b[0m\u001b[1;33m)\u001b[0m \u001b[1;32mas\u001b[0m \u001b[0mreader\u001b[0m\u001b[1;33m:\u001b[0m\u001b[1;33m\u001b[0m\u001b[1;33m\u001b[0m\u001b[0m\n\u001b[0m\u001b[0;32m      3\u001b[0m     \u001b[1;32mfor\u001b[0m \u001b[0mchunk\u001b[0m \u001b[1;32min\u001b[0m \u001b[0mreader\u001b[0m\u001b[1;33m:\u001b[0m\u001b[1;33m\u001b[0m\u001b[1;33m\u001b[0m\u001b[0m\n\u001b[0;32m      4\u001b[0m         \u001b[0mprocess\u001b[0m\u001b[1;33m(\u001b[0m\u001b[0mchunk\u001b[0m\u001b[1;33m)\u001b[0m\u001b[1;33m\u001b[0m\u001b[1;33m\u001b[0m\u001b[0m\n",
      "\u001b[1;31mAttributeError\u001b[0m: __enter__"
     ]
    }
   ],
   "source": [
    "chunksize = 10 ** 6\n",
    "with pd.read_csv('G:\\JSContanaDataSet\\XSS_dataset.csv', chunksize=20) as reader:\n",
    "    for chunk in reader:\n",
    "        process(chunk)"
   ]
  },
  {
   "cell_type": "code",
   "execution_count": 103,
   "metadata": {},
   "outputs": [
    {
     "ename": "AttributeError",
     "evalue": "__enter__",
     "output_type": "error",
     "traceback": [
      "\u001b[1;31m---------------------------------------------------------------------------\u001b[0m",
      "\u001b[1;31mAttributeError\u001b[0m                            Traceback (most recent call last)",
      "\u001b[1;32m<ipython-input-103-477073f6c9c1>\u001b[0m in \u001b[0;36m<module>\u001b[1;34m\u001b[0m\n\u001b[0;32m      1\u001b[0m \u001b[0mchunksize\u001b[0m \u001b[1;33m=\u001b[0m \u001b[1;36m20\u001b[0m\u001b[1;33m\u001b[0m\u001b[1;33m\u001b[0m\u001b[0m\n\u001b[1;32m----> 2\u001b[1;33m \u001b[1;32mwith\u001b[0m \u001b[0mpd\u001b[0m\u001b[1;33m.\u001b[0m\u001b[0mread_csv\u001b[0m\u001b[1;33m(\u001b[0m\u001b[0mfilepath_or_buffer\u001b[0m \u001b[1;33m=\u001b[0m \u001b[1;34m'G:\\JSContanaDataSet\\XSS_dataset.csv'\u001b[0m\u001b[1;33m,\u001b[0m\u001b[0miterator\u001b[0m\u001b[1;33m=\u001b[0m\u001b[1;32mTrue\u001b[0m\u001b[1;33m,\u001b[0m\u001b[0mchunksize\u001b[0m\u001b[1;33m=\u001b[0m\u001b[0mchunksize\u001b[0m\u001b[1;33m)\u001b[0m \u001b[1;32mas\u001b[0m \u001b[0mreader\u001b[0m\u001b[1;33m:\u001b[0m\u001b[1;33m\u001b[0m\u001b[1;33m\u001b[0m\u001b[0m\n\u001b[0m\u001b[0;32m      3\u001b[0m     \u001b[1;32mfor\u001b[0m \u001b[0mchunk\u001b[0m \u001b[1;32min\u001b[0m \u001b[0mreader\u001b[0m\u001b[1;33m:\u001b[0m\u001b[1;33m\u001b[0m\u001b[1;33m\u001b[0m\u001b[0m\n\u001b[0;32m      4\u001b[0m         \u001b[0mprocess\u001b[0m\u001b[1;33m(\u001b[0m\u001b[0mchunk\u001b[0m\u001b[1;33m)\u001b[0m\u001b[1;33m\u001b[0m\u001b[1;33m\u001b[0m\u001b[0m\n",
      "\u001b[1;31mAttributeError\u001b[0m: __enter__"
     ]
    }
   ],
   "source": [
    "chunksize = 20\n",
    "with pd.read_csv(filepath_or_buffer = 'G:\\JSContanaDataSet\\XSS_dataset.csv',iterator=True,chunksize=chunksize) as reader:\n",
    "    for chunk in reader:\n",
    "        process(chunk)"
   ]
  },
  {
   "cell_type": "code",
   "execution_count": 101,
   "metadata": {},
   "outputs": [
    {
     "data": {
      "text/html": [
       "<div>\n",
       "<style scoped>\n",
       "    .dataframe tbody tr th:only-of-type {\n",
       "        vertical-align: middle;\n",
       "    }\n",
       "\n",
       "    .dataframe tbody tr th {\n",
       "        vertical-align: top;\n",
       "    }\n",
       "\n",
       "    .dataframe thead th {\n",
       "        text-align: right;\n",
       "    }\n",
       "</style>\n",
       "<table border=\"1\" class=\"dataframe\">\n",
       "  <thead>\n",
       "    <tr style=\"text-align: right;\">\n",
       "      <th></th>\n",
       "      <th>ScriptPath</th>\n",
       "      <th>Label</th>\n",
       "    </tr>\n",
       "  </thead>\n",
       "  <tbody>\n",
       "    <tr>\n",
       "      <th>60</th>\n",
       "      <td>data/mrngoitall/nominatr/config/env/all.js</td>\n",
       "      <td>0</td>\n",
       "    </tr>\n",
       "    <tr>\n",
       "      <th>61</th>\n",
       "      <td>data/cdnjs/cdnjs/ajax/libs/backbone.marionette...</td>\n",
       "      <td>0</td>\n",
       "    </tr>\n",
       "    <tr>\n",
       "      <th>62</th>\n",
       "      <td>data/cdnjs/cdnjs/ajax/libs/yui/3.8.0/attribute...</td>\n",
       "      <td>0</td>\n",
       "    </tr>\n",
       "    <tr>\n",
       "      <th>63</th>\n",
       "      <td>data/Juniper/contrail-web-core/src/serverroot/...</td>\n",
       "      <td>0</td>\n",
       "    </tr>\n",
       "    <tr>\n",
       "      <th>64</th>\n",
       "      <td>data/mcongrove/ChariTi/modules/commonjs/ti.clo...</td>\n",
       "      <td>0</td>\n",
       "    </tr>\n",
       "    <tr>\n",
       "      <th>...</th>\n",
       "      <td>...</td>\n",
       "      <td>...</td>\n",
       "    </tr>\n",
       "    <tr>\n",
       "      <th>79420</th>\n",
       "      <td>javascript-malware-collection-master\\2017\\2017...</td>\n",
       "      <td>1</td>\n",
       "    </tr>\n",
       "    <tr>\n",
       "      <th>79421</th>\n",
       "      <td>javascript-malware-collection-master\\2017\\2017...</td>\n",
       "      <td>1</td>\n",
       "    </tr>\n",
       "    <tr>\n",
       "      <th>79422</th>\n",
       "      <td>javascript-malware-collection-master\\2017\\2017...</td>\n",
       "      <td>1</td>\n",
       "    </tr>\n",
       "    <tr>\n",
       "      <th>79423</th>\n",
       "      <td>javascript-malware-collection-master\\2017\\2017...</td>\n",
       "      <td>1</td>\n",
       "    </tr>\n",
       "    <tr>\n",
       "      <th>79424</th>\n",
       "      <td>javascript-malware-collection-master\\2017\\2017...</td>\n",
       "      <td>1</td>\n",
       "    </tr>\n",
       "  </tbody>\n",
       "</table>\n",
       "<p>79365 rows × 2 columns</p>\n",
       "</div>"
      ],
      "text/plain": [
       "                                              ScriptPath  Label\n",
       "60            data/mrngoitall/nominatr/config/env/all.js      0\n",
       "61     data/cdnjs/cdnjs/ajax/libs/backbone.marionette...      0\n",
       "62     data/cdnjs/cdnjs/ajax/libs/yui/3.8.0/attribute...      0\n",
       "63     data/Juniper/contrail-web-core/src/serverroot/...      0\n",
       "64     data/mcongrove/ChariTi/modules/commonjs/ti.clo...      0\n",
       "...                                                  ...    ...\n",
       "79420  javascript-malware-collection-master\\2017\\2017...      1\n",
       "79421  javascript-malware-collection-master\\2017\\2017...      1\n",
       "79422  javascript-malware-collection-master\\2017\\2017...      1\n",
       "79423  javascript-malware-collection-master\\2017\\2017...      1\n",
       "79424  javascript-malware-collection-master\\2017\\2017...      1\n",
       "\n",
       "[79365 rows x 2 columns]"
      ]
     },
     "execution_count": 101,
     "metadata": {},
     "output_type": "execute_result"
    }
   ],
   "source": [
    "d.read(2)"
   ]
  },
  {
   "cell_type": "code",
   "execution_count": null,
   "metadata": {},
   "outputs": [],
   "source": []
  },
  {
   "cell_type": "code",
   "execution_count": 42,
   "metadata": {},
   "outputs": [
    {
     "name": "stdout",
     "output_type": "stream",
     "text": [
      "(300, 2)\n",
      "148\n",
      "152\n"
     ]
    },
    {
     "data": {
      "text/html": [
       "<div>\n",
       "<style scoped>\n",
       "    .dataframe tbody tr th:only-of-type {\n",
       "        vertical-align: middle;\n",
       "    }\n",
       "\n",
       "    .dataframe tbody tr th {\n",
       "        vertical-align: top;\n",
       "    }\n",
       "\n",
       "    .dataframe thead th {\n",
       "        text-align: right;\n",
       "    }\n",
       "</style>\n",
       "<table border=\"1\" class=\"dataframe\">\n",
       "  <thead>\n",
       "    <tr style=\"text-align: right;\">\n",
       "      <th></th>\n",
       "      <th>ScriptPath</th>\n",
       "      <th>Label</th>\n",
       "    </tr>\n",
       "  </thead>\n",
       "  <tbody>\n",
       "    <tr>\n",
       "      <th>50907</th>\n",
       "      <td>javascript-malware-collection-master\\2016\\2016...</td>\n",
       "      <td>1</td>\n",
       "    </tr>\n",
       "    <tr>\n",
       "      <th>4711</th>\n",
       "      <td>data/mindrevolution/SirTrevor-for-Umbraco/src/...</td>\n",
       "      <td>0</td>\n",
       "    </tr>\n",
       "    <tr>\n",
       "      <th>71602</th>\n",
       "      <td>javascript-malware-collection-master\\2016\\2016...</td>\n",
       "      <td>1</td>\n",
       "    </tr>\n",
       "    <tr>\n",
       "      <th>13199</th>\n",
       "      <td>data/ariatemplates/ariatemplates/test/aria/tem...</td>\n",
       "      <td>0</td>\n",
       "    </tr>\n",
       "    <tr>\n",
       "      <th>75627</th>\n",
       "      <td>javascript-malware-collection-master\\2016\\2016...</td>\n",
       "      <td>1</td>\n",
       "    </tr>\n",
       "  </tbody>\n",
       "</table>\n",
       "</div>"
      ],
      "text/plain": [
       "                                              ScriptPath  Label\n",
       "50907  javascript-malware-collection-master\\2016\\2016...      1\n",
       "4711   data/mindrevolution/SirTrevor-for-Umbraco/src/...      0\n",
       "71602  javascript-malware-collection-master\\2016\\2016...      1\n",
       "13199  data/ariatemplates/ariatemplates/test/aria/tem...      0\n",
       "75627  javascript-malware-collection-master\\2016\\2016...      1"
      ]
     },
     "execution_count": 42,
     "metadata": {},
     "output_type": "execute_result"
    }
   ],
   "source": [
    "print(train_df.shape)\n",
    "print(train_df[train_df['Label']==0].count()[1])\n",
    "print(train_df[train_df['Label']==1].count()[1])\n",
    "train_df.head()"
   ]
  },
  {
   "cell_type": "code",
   "execution_count": 64,
   "metadata": {},
   "outputs": [],
   "source": [
    "train_batch_size = 50\n",
    "test_batch_size = int(test_df.shape[0]/(train_df.shape[0]/train_batch_size))\n",
    "validate_batch_size = int(validation_df.shape[0]/(train_df.shape[0]/train_batch_size))"
   ]
  },
  {
   "cell_type": "code",
   "execution_count": 65,
   "metadata": {},
   "outputs": [
    {
     "name": "stdout",
     "output_type": "stream",
     "text": [
      "50\n",
      "16\n",
      "16\n"
     ]
    }
   ],
   "source": [
    "print(int(train_batch_size))\n",
    "print(int(test_batch_size))\n",
    "print(int(validate_batch_size))"
   ]
  },
  {
   "cell_type": "code",
   "execution_count": 66,
   "metadata": {},
   "outputs": [
    {
     "name": "stdout",
     "output_type": "stream",
     "text": [
      "10\n",
      "6\n",
      "6\n"
     ]
    }
   ],
   "source": [
    "print(int(500/train_batch_size))\n",
    "print(int(100/test_batch_size))\n",
    "print(int(100/validate_batch_size))"
   ]
  },
  {
   "cell_type": "code",
   "execution_count": 47,
   "metadata": {
    "colab": {
     "base_uri": "https://localhost:8080/"
    },
    "id": "PtvtFVWtPFMl",
    "outputId": "e44762e5-2358-4fd0-e32d-256cac7e06a4"
   },
   "outputs": [],
   "source": [
    "train_batch_size = 50\n",
    "test_batch_size = int(test_df.shape[0]/(train_df.shape[0]*train_batch_size))\n",
    "validate_batch_size = int(validation_df.shape[0]/(train_df.shape[0]*train_batch_size))\n",
    "# num_words = 400000\n",
    "num_words = 400\n",
    "# maxlen = 1024\n",
    "maxlen = 100\n",
    "embedding_dim = 50\n",
    "myoptimizer = 'adam'\n",
    "myloss= 'binary_crossentropy'\n",
    "mymetrics = 'accuracy'\n",
    "\n",
    "traingen = CustomDataGen(train_df,\n",
    "                         X_col={'path':'ScriptPath'},\n",
    "                         y_col={'name': 'Label'},\n",
    "                         batch_size=train_batch_size,\n",
    "                         parent_path='G:\\JSContanaDataSet',\n",
    "                         fit=True)\n",
    "save_object(traingen, \"traingen_CustomDataGen\")\n",
    "validategen = CustomDataGen(validation_df,\n",
    "                         X_col={'path':'ScriptPath'},\n",
    "                         y_col={'name': 'Label'},\n",
    "                         batch_size=validate_batch_size,\n",
    "                         parent_path='G:\\JSContanaDataSet',\n",
    "                         fit=False)\n",
    "save_object(validategen, \"validategen_CustomDataGen\")\n",
    "testgen = CustomDataGen(test_df,\n",
    "                         X_col={'path':'ScriptPath'},\n",
    "                         y_col={'name': 'Label'},\n",
    "                         batch_size=test_batch_size,\n",
    "                         parent_path='G:\\JSContanaDataSet',\n",
    "                         fit=False)\n",
    "save_object(testgen, \"testgen_CustomDataGen\")\n",
    "# X_train , y_train = traingen.__getitem__(0)\n",
    "# print(X_train)\n",
    "# X_train_chunks = [] \n",
    "# y_train_chunks = []\n",
    "\n",
    "# X_train_chunks.append(X_train)\n",
    "# y_train_chunks.append(y_train)\n",
    "\n",
    "# for i in range(1,int(train_df.shape[0]/train_batch_size)):\n",
    "#     X_train_chunks.append(traingen.__getitem__(i)[0])\n",
    "#     y_train_chunks.append(traingen.__getitem__(i)[1])\n",
    "# save_object(X_train_chunks, \"X_train_chunks\")\n",
    "# save_object(y_train_chunks, \"y_train_chunks\")\n",
    "\n",
    "\n",
    "# X_test , y_test = testgen.__getitem__(0)\n",
    "# print(X_test)\n",
    "# X_test_chunks = [] \n",
    "# y_test_chunks = []\n",
    "\n",
    "# X_test_chunks.append(X_test)\n",
    "# y_test_chunks.append(y_test)\n",
    "\n",
    "# for i in range(1,int(test_df.shape[0]/test_batch_size)):\n",
    "#     X_test_chunks.append(testgen.__getitem__(i)[0])\n",
    "#     y_test_chunks.append(testgen.__getitem__(i)[1])\n",
    "# save_object(X_test_chunks, \"X_test_chunks\")\n",
    "# save_object(y_test_chunks, \"y_test_chunks\")\n",
    "\n",
    "# X_validate , y_validate = validategen.__getitem__(0)\n",
    "# print(X_validate)\n",
    "# X_validate_chunks = [] \n",
    "# y_validate_chunks = []\n",
    "\n",
    "# X_validate_chunks.append(X_validate)\n",
    "# y_validate_chunks.append(y_validate)\n",
    "\n",
    "# for i in range(1,int(validation_df.shape[0]/validate_batch_size)):\n",
    "#     X_validate_chunks.append(validategen.__getitem__(i)[0])\n",
    "#     y_validate_chunks.append(validategen.__getitem__(i)[1])\n",
    "# save_object(X_validate_chunks, \"X_validate_chunks\")\n",
    "# save_object(y_validate_chunks, \"y_validate_chunks\")\n",
    "# vocab_size = load_object('vocab_size')\n",
    "# vocab_size"
   ]
  },
  {
   "cell_type": "code",
   "execution_count": 49,
   "metadata": {
    "colab": {
     "base_uri": "https://localhost:8080/"
    },
    "id": "dtHqgkq07evi",
    "outputId": "935fef7d-7c8a-4e9b-fa6d-d6680c94d57b"
   },
   "outputs": [],
   "source": [
    "# X_validate_chunks[0]"
   ]
  },
  {
   "cell_type": "code",
   "execution_count": null,
   "metadata": {},
   "outputs": [],
   "source": [
    "def creat_metrics():\n",
    "    model_comparison_table = {}\n",
    "    model_comparison_table['chunk_nuber'] = []\n",
    "    model_comparison_table['train_loss'] = []\n",
    "    model_comparison_table['train_accuracy'] = []\n",
    "    model_comparison_table['test_loss'] = []\n",
    "    model_comparison_table['test_accuracy'] = []\n",
    "    model_comparison_table['classification_report'] = []\n",
    "    return model_comparison_table"
   ]
  },
  {
   "cell_type": "code",
   "execution_count": null,
   "metadata": {
    "id": "xtjTTFJ0PFMl"
   },
   "outputs": [],
   "source": [
    "# model_comparison_table = {}\n",
    "# model_comparison_table['chunk_nuber'] = []\n",
    "# model_comparison_table['train_loss'] = []\n",
    "# model_comparison_table['train_accuracy'] = []\n",
    "# model_comparison_table['test_loss'] = []\n",
    "# model_comparison_table['test_accuracy'] = []\n",
    "# model_comparison_table['classification_report'] = []"
   ]
  },
  {
   "cell_type": "code",
   "execution_count": 50,
   "metadata": {},
   "outputs": [
    {
     "data": {
      "text/plain": [
       "6"
      ]
     },
     "execution_count": 50,
     "metadata": {},
     "output_type": "execute_result"
    }
   ],
   "source": [
    "int(test_df.shape[0]/test_batch_size)"
   ]
  },
  {
   "cell_type": "code",
   "execution_count": 22,
   "metadata": {
    "id": "W_7Ts1QlPFMl"
   },
   "outputs": [],
   "source": [
    "def inputer(model_comparison_table,chunk_nuber,train_loss, train_accuracy,test_loss,test_accuracy,classification_report):#precision_score,recall_score,f1_score):\n",
    "    model_comparison_table['chunk_nuber'].append(str(chunk_nuber))\n",
    "    model_comparison_table['train_loss'].append(train_loss)\n",
    "    model_comparison_table['train_accuracy'].append(train_accuracy)\n",
    "    model_comparison_table['test_loss'].append(test_loss)    \n",
    "    model_comparison_table['test_accuracy'].append(test_accuracy)  \n",
    "    model_comparison_table['classification_report'].append(classification_report)    "
   ]
  },
  {
   "cell_type": "code",
   "execution_count": 1,
   "metadata": {
    "colab": {
     "base_uri": "https://localhost:8080/",
     "height": 1000
    },
    "id": "tax8P8RaPFMm",
    "outputId": "cb58ffb1-76d1-4c04-e999-74802d3494b3",
    "scrolled": true
   },
   "outputs": [],
   "source": [
    "model_comparison_table = creat_metrics()\n",
    "train_test_Model = create_model()\n",
    "train_test_Model.save(\"train_test_Model.h5\")\n",
    "for i in range(int(test_df.shape[0]/test_batch_size)):\n",
    "    print(\"================ \"+str(i)+\" ================\")\n",
    "    train_test_Model = load_model(\"train_test_Model.h5\")\n",
    "    X_train,y_train = X_train_chunks[i],y_train_chunks[i]\n",
    "    X_validation,y_validation = X_test_chunks[i],y_test_chunks[i]\n",
    "    train_test_Model , history_train_test_Model = fit_model(train_test_Model,X_train,y_train,X_validation,y_validation)\n",
    "    evaluation(train_test_Model,i,history_train_test_Model,X_train,y_train,X_validation,y_validation,model_comparison_table)\n",
    "    train_test_Model.save(\"train_test_Model.h5\")\n",
    "save_object(train_test_Model, \"train_test_Model\")\n",
    "save_object(history_train_test_Model, \"history_train_test_Model\")\n",
    "save_object(model_comparison_table, \"model_comparison_table\")\n"
   ]
  },
  {
   "cell_type": "code",
   "execution_count": null,
   "metadata": {
    "id": "Is6UzeGFPFMm"
   },
   "outputs": [],
   "source": [
    "df = pd.DataFrame(model_comparison_table)\n",
    "df.to_csv('G:/JSContanaDataSet/result_df.csv',index=False)\n",
    "df.head(5)"
   ]
  },
  {
   "cell_type": "code",
   "execution_count": null,
   "metadata": {
    "id": "gnvT7c5cPFMn"
   },
   "outputs": [],
   "source": [
    "keras_function = K.function([train_test_Model.input], [train_test_Model.layers[1].output])\n",
    "for_traingen = []\n",
    "for i in range(len(X_train_chunks)):\n",
    "    first_layer_output = keras_function([X_train_chunks[i], 1])\n",
    "    for_traingen.append(first_layer_output[0])\n",
    "save_object(for_traingen, \"for_traingen\")\n",
    "# for_traingen = load_object(\"for_traingen\")"
   ]
  },
  {
   "cell_type": "code",
   "execution_count": null,
   "metadata": {
    "id": "wZRAx0JjPFMn"
   },
   "outputs": [],
   "source": [
    "# model_comparison_table_1 = {}\n",
    "# model_comparison_table_1['chunk_nuber'] = []\n",
    "# model_comparison_table_1['train_loss'] = []\n",
    "# model_comparison_table_1['train_accuracy'] = []\n",
    "# model_comparison_table_1['test_loss'] = []\n",
    "# model_comparison_table_1['test_accuracy'] = []\n",
    "# model_comparison_table_1['classification_report'] = []"
   ]
  },
  {
   "cell_type": "code",
   "execution_count": null,
   "metadata": {
    "id": "KoqYzZVvPFMn",
    "scrolled": true
   },
   "outputs": [],
   "source": [
    "model_comparison_table_1 = creat_metrics()\n",
    "validate_test_Model = create_model()\n",
    "validate_test_Model.save(\"validate_test_Model.h5\")\n",
    "for i in range(len(X_validate_chunks)):\n",
    "    print(\"================ \"+str(i)+\" ================\")\n",
    "    validate_test_Model = load_model(\"validate_test_Model.h5\")\n",
    "    X_train,y_train = X_validate_chunks[i],y_validate_chunks[i]\n",
    "    X_validation,y_validation = X_test_chunks[i],y_test_chunks[i]\n",
    "    validate_test_Model , history_validate_test_Model = fit_model(validate_test_Model,X_train,y_train,X_validation,y_validation)\n",
    "    evaluation(validate_test_Model,history_validate_test_Model,X_train,y_train,X_validation,y_validation,model_comparison_table_1)\n",
    "    validate_test_Model.save(\"validate_test_Model.h5\")\n",
    "save_object(validate_test_Model, \"validate_test_Model\")\n",
    "save_object(history_validate_test_Model, \"history_validate_test_Model\")\n",
    "save_object(model_comparison_table_1, \"model_comparison_table_1\")"
   ]
  },
  {
   "cell_type": "code",
   "execution_count": null,
   "metadata": {
    "id": "qUFQhXvEPFMo"
   },
   "outputs": [],
   "source": [
    "save_object(model_comparison_table_1, \"model_comparison_table_1\")\n",
    "df_1 = pd.DataFrame(model_comparison_table_1)\n",
    "df_1.to_csv('G:/JSContanaDataSet/result_df_1.csv',index=False)\n",
    "df_1.head(5)"
   ]
  },
  {
   "cell_type": "code",
   "execution_count": null,
   "metadata": {
    "id": "N32osxjsPFMo"
   },
   "outputs": [],
   "source": [
    "keras_function = K.function([validate_test_Model.input], [validate_test_Model.layers[1].output])\n",
    "for_validate = []\n",
    "for i in range(len(X_validate_chunks)):\n",
    "    first_layer_output = keras_function([X_validate_chunks[i], 1])\n",
    "    for_validate.append(first_layer_output[0])\n",
    "save_object(for_validate, \"for_validate\")\n",
    "# for_validate = load_object(\"for_validate\")"
   ]
  },
  {
   "cell_type": "code",
   "execution_count": null,
   "metadata": {
    "id": "--rETjQyPFMp"
   },
   "outputs": [],
   "source": [
    "# model_comparison_table_2 = {}\n",
    "# model_comparison_table_2['chunk_nuber'] = []\n",
    "# model_comparison_table_2['train_loss'] = []\n",
    "# model_comparison_table_2['train_accuracy'] = []\n",
    "# model_comparison_table_2['test_loss'] = []\n",
    "# model_comparison_table_2['test_accuracy'] = []\n",
    "# model_comparison_table_2['classification_report'] = []"
   ]
  },
  {
   "cell_type": "code",
   "execution_count": null,
   "metadata": {
    "id": "gjIiGbDnPFMp"
   },
   "outputs": [],
   "source": [
    "model_comparison_table_2 = creat_metrics()\n",
    "lstm_Model = create_model(shape=for_traingen[0][0].shape,without_lstm=True)\n",
    "lstm_Model.save(\"lstm_Model.h5\")\n",
    "for i in range(len(for_traingen)):\n",
    "    print(\"================ \"+str(i)+\" ================\")\n",
    "    lstm_Model = load_model(\"lstm_Model.h5\")\n",
    "    X_train,y_train = feature_selection(for_traingen[i],y_train_chunks[i])\n",
    "    X_validation,y_validation = feature_selection(for_validate[i],y_validate_chunks[i])\n",
    "    lstm_Model , history_lstm_Model = fit_model(lstm_Model,X_train,y_train,X_validation,y_validation)\n",
    "    evaluation(lstm_Model,history_lstm_Model,X_train,y_train,X_validation,y_validation,model_comparison_table_2)\n",
    "    lstm_Model.save(\"lstm_Model.h5\")\n",
    "save_object(lstm_Model, \"lstm_Model\")\n",
    "save_object(history_lstm_Model, \"history_lstm_Model\")\n",
    "save_object(model_comparison_table_2, \"model_comparison_table_2\")"
   ]
  },
  {
   "cell_type": "code",
   "execution_count": null,
   "metadata": {
    "id": "I4Je9qwHPFMq"
   },
   "outputs": [],
   "source": [
    "save_object(model_comparison_table_2, \"model_comparison_table_2\")\n",
    "df_2 = pd.DataFrame(model_comparison_table_2)\n",
    "df_2.to_csv('G:/JSContanaDataSet/result_df_2.csv',index=False)\n",
    "df_2.head(5)"
   ]
  },
  {
   "cell_type": "code",
   "execution_count": null,
   "metadata": {
    "id": "tgfKGhajPFMr"
   },
   "outputs": [],
   "source": []
  },
  {
   "cell_type": "code",
   "execution_count": null,
   "metadata": {},
   "outputs": [],
   "source": [
    "HL_model = Model(inputs=model.input, outputs=model.layers[7].output)"
   ]
  },
  {
   "cell_type": "code",
   "execution_count": null,
   "metadata": {},
   "outputs": [],
   "source": [
    "DL_model = Model(inputs=model.layers[8].input, outputs=model.layers[-1].output)"
   ]
  },
  {
   "cell_type": "code",
   "execution_count": null,
   "metadata": {},
   "outputs": [],
   "source": []
  },
  {
   "cell_type": "code",
   "execution_count": null,
   "metadata": {},
   "outputs": [],
   "source": []
  },
  {
   "cell_type": "code",
   "execution_count": null,
   "metadata": {
    "id": "4EpVpZk8PFMr"
   },
   "outputs": [],
   "source": [
    "# model_comparison_table_3 = {}\n",
    "# model_comparison_table_3['chunk_nuber'] = []\n",
    "# model_comparison_table_3['train_loss'] = []\n",
    "# model_comparison_table_3['train_accuracy'] = []\n",
    "# model_comparison_table_3['test_loss'] = []\n",
    "# model_comparison_table_3['test_accuracy'] = []\n",
    "# model_comparison_table_3['classification_report'] = []"
   ]
  },
  {
   "cell_type": "code",
   "execution_count": null,
   "metadata": {
    "id": "GqhuJAvjPFMr",
    "scrolled": true
   },
   "outputs": [],
   "source": [
    "model_comparison_table_3 = creat_metrics()\n",
    "lstm_Model = create_model(shape=for_traingen[0][0].shape,without_lstm=True)\n",
    "lstm_Model.save(\"lstm_Model.h5\")\n",
    "for i in range(len(for_traingen)):\n",
    "    print(\"================ \"+str(i)+\" ================\")\n",
    "    lstm_Model = load_model(\"lstm_Model.h5\")\n",
    "    X_train,y_train = feature_selection(for_traingen[i],y_train_chunks[i])\n",
    "    X_validation = feature_selection_(for_validate[i])\n",
    "    y_validation = y_validate_chunks[i]\n",
    "    lstm_Model , history_lstm_Model = fit_model(lstm_Model,X_train,y_train,X_validation,y_validation)\n",
    "    evaluation(lstm_Model,history_lstm_Model,X_train,y_train,X_validation,y_validation,model_comparison_table_3)\n",
    "    lstm_Model.save(\"lstm_Model.h5\")\n"
   ]
  },
  {
   "cell_type": "code",
   "execution_count": null,
   "metadata": {
    "id": "Tf-rBppKPFMs"
   },
   "outputs": [],
   "source": [
    "save_object(model_comparison_table_3, \"model_comparison_table_3\")\n",
    "df_3 = pd.DataFrame(model_comparison_table_3)\n",
    "df_3.to_csv('G:/JSContanaDataSet/result_df_3.csv',index=False)\n",
    "df_3.head(5)"
   ]
  },
  {
   "cell_type": "code",
   "execution_count": null,
   "metadata": {
    "id": "PoSt-fiAPFMs"
   },
   "outputs": [],
   "source": []
  },
  {
   "cell_type": "code",
   "execution_count": null,
   "metadata": {
    "id": "AVKy06ypPFMt"
   },
   "outputs": [],
   "source": [
    "df_1 = pd.read_csv('G:/JSContanaDataSet/result_df.csv')"
   ]
  },
  {
   "cell_type": "code",
   "execution_count": null,
   "metadata": {
    "id": "3ZcTWXSVPFMt"
   },
   "outputs": [],
   "source": [
    "df_2 = pd.read_csv('G:/JSContanaDataSet/result_df_3.csv')"
   ]
  },
  {
   "cell_type": "code",
   "execution_count": null,
   "metadata": {
    "id": "t8tJiXtUPFMt"
   },
   "outputs": [],
   "source": [
    "df_1.head(5)"
   ]
  },
  {
   "cell_type": "code",
   "execution_count": null,
   "metadata": {
    "id": "pQzCgvWhPFMu"
   },
   "outputs": [],
   "source": [
    "df_2.head(5)"
   ]
  },
  {
   "cell_type": "code",
   "execution_count": null,
   "metadata": {
    "id": "nmU8lDJtPFMu"
   },
   "outputs": [],
   "source": [
    "for i in range(5):\n",
    "    print(df_1['classification_report'][i])\n",
    "    print(df_2['classification_report'][i])\n",
    "    print(\"====================================================================\")"
   ]
  },
  {
   "cell_type": "code",
   "execution_count": null,
   "metadata": {
    "id": "lCC3TWblPFMu"
   },
   "outputs": [],
   "source": []
  }
 ],
 "metadata": {
  "colab": {
   "collapsed_sections": [],
   "name": "Edit_JSContana model_(Extract hidden state from first LSTM layer).ipynb",
   "provenance": []
  },
  "kernelspec": {
   "display_name": "Python 3",
   "language": "python",
   "name": "python3"
  },
  "language_info": {
   "codemirror_mode": {
    "name": "ipython",
    "version": 3
   },
   "file_extension": ".py",
   "mimetype": "text/x-python",
   "name": "python",
   "nbconvert_exporter": "python",
   "pygments_lexer": "ipython3",
   "version": "3.7.6"
  }
 },
 "nbformat": 4,
 "nbformat_minor": 1
}
